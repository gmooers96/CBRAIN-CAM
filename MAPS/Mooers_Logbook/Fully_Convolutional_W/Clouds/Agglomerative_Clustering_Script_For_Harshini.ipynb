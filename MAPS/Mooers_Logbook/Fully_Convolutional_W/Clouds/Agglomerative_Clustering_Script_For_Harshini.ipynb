{
 "cells": [
  {
   "cell_type": "code",
   "execution_count": 1,
   "metadata": {},
   "outputs": [],
   "source": [
    "import numpy as np\n",
    "import matplotlib.cm as cm\n",
    "from matplotlib import ticker\n",
    "import math\n",
    "import scipy\n",
    "from scipy import spatial\n",
    "import matplotlib.pyplot as plt\n",
    "import matplotlib\n",
    "import xarray as xr\n",
    "import dask\n",
    "from sklearn.neighbors import KDTree\n",
    "import netCDF4\n",
    "from metpy import calc\n",
    "from metpy.units import units\n",
    "from sklearn.preprocessing import StandardScaler\n",
    "from sklearn.decomposition import PCA\n",
    "from scipy import stats\n",
    "\n",
    "from sklearn.cluster import AgglomerativeClustering\n",
    "from mpl_toolkits.axes_grid1 import make_axes_locatable\n",
    "import scipy.cluster.hierarchy as shc\n",
    "from scipy.cluster.hierarchy import dendrogram, linkage"
   ]
  },
  {
   "cell_type": "code",
   "execution_count": 2,
   "metadata": {},
   "outputs": [],
   "source": [
    "fz = 15*1.5\n",
    "lw = 4\n",
    "siz = 100\n",
    "XNNA = 1.25 # Abscissa where architecture-constrained network will be placed\n",
    "XTEXT = 0.25 # Text placement\n",
    "YTEXT = 0.3 # Text placement\n",
    "\n",
    "plt.rc('text', usetex=False)\n",
    "matplotlib.rcParams['mathtext.fontset'] = 'stix'\n",
    "matplotlib.rcParams['font.family'] = 'STIXGeneral'\n",
    "#mpl.rcParams[\"font.serif\"] = \"STIX\"\n",
    "plt.rc('font', family='serif', size=fz)\n",
    "matplotlib.rcParams['lines.linewidth'] = lw"
   ]
  },
  {
   "cell_type": "markdown",
   "metadata": {},
   "source": [
    "### Change the paths to the scalar and test data"
   ]
  },
  {
   "cell_type": "code",
   "execution_count": null,
   "metadata": {},
   "outputs": [],
   "source": [
    "Test_Images = np.load(\"/fast/gmooers/Preprocessed_Data/W_Variable/Trackable_Space_Time_W_Test.npy\")\n",
    "\n",
    "Max_Scalar = np.load(\"/fast/gmooers/Preprocessed_Data/Centered_50_50/Space_Time_Max_Scalar.npy\")\n",
    "Min_Scalar = np.load(\"/fast/gmooers/Preprocessed_Data/Centered_50_50/Space_Time_Min_Scalar.npy\")\n",
    "\n",
    "Test_Images = np.interp(Test_Images, (0, 1), (Min_Scalar, Max_Scalar))"
   ]
  },
  {
   "cell_type": "markdown",
   "metadata": {},
   "source": [
    "### Need paths to two different latent spaces:\n",
    "\n",
    "- 1024 D (No PCA applied)\n",
    "- 2D (Post-PCA)"
   ]
  },
  {
   "cell_type": "code",
   "execution_count": 4,
   "metadata": {},
   "outputs": [],
   "source": [
    "z_vector = np.load(\"Reduced_Data_For_Agg/z_1024_31.npy\")\n",
    "z_test_tsne_track = np.load(\"Reduced_Data_For_Agg/z_31.npy\")"
   ]
  },
  {
   "cell_type": "markdown",
   "metadata": {},
   "source": [
    "### Need to make a Figures Directory\n",
    "\n",
    "- 31 refers to the config file so I would change that to match your confog file (easier to keep track of the VAES)"
   ]
  },
  {
   "cell_type": "code",
   "execution_count": null,
   "metadata": {},
   "outputs": [],
   "source": [
    "def fancy_dendrogram(*args, **kwargs):\n",
    "    fig, ax = plt.subplots(figsize=(30,10))\n",
    "    max_d = kwargs.pop('max_d', None)\n",
    "    if max_d and 'color_threshold' not in kwargs:\n",
    "        kwargs['color_threshold'] = max_d\n",
    "    annotate_above = kwargs.pop('annotate_above', 0)\n",
    "\n",
    "    ddata = dendrogram(*args, **kwargs)\n",
    "\n",
    "    if not kwargs.get('no_plot', False):\n",
    "        plt.title('Hierarchical Clustering Dendrogram (truncated)')\n",
    "        plt.xlabel('sample index or (cluster size)')\n",
    "        plt.ylabel('distance')\n",
    "        for i, d, c in zip(ddata['icoord'], ddata['dcoord'], ddata['color_list']):\n",
    "            x = 0.5 * sum(i[1:3])\n",
    "            y = d[1]\n",
    "            if y > annotate_above:\n",
    "                plt.plot(x, y, 'o', c=c)\n",
    "                plt.annotate(\"%.3g\" % y, (x, y), xytext=(0, -5),\n",
    "                             textcoords='offset points',\n",
    "                             va='top', ha='center')\n",
    "        if max_d:\n",
    "            plt.axhline(y=max_d, c='k')\n",
    "    plt.savefig(\"Figures/Full_Day_Half_31.png\")\n",
    "    return ddata"
   ]
  },
  {
   "cell_type": "code",
   "execution_count": null,
   "metadata": {},
   "outputs": [],
   "source": [
    "X = z_vector\n",
    "Z = linkage(X, 'ward')"
   ]
  },
  {
   "cell_type": "code",
   "execution_count": null,
   "metadata": {},
   "outputs": [],
   "source": [
    "fancy_dendrogram(\n",
    "Z,\n",
    "    truncate_mode='lastp',\n",
    "    p=10,\n",
    "    leaf_rotation=90.,\n",
    "    leaf_font_size=15.,\n",
    "    show_contracted=False,\n",
    "    annotate_above=100,  # useful in small plots so annotations don't overlap\n",
    ")\n",
    "plt.show()\n",
    "#plt.savefig(\"Figures/Z_Dedrogram.png\")"
   ]
  },
  {
   "cell_type": "markdown",
   "metadata": {},
   "source": [
    "### Need to make a compressed data directory"
   ]
  },
  {
   "cell_type": "code",
   "execution_count": null,
   "metadata": {},
   "outputs": [],
   "source": [
    "cluster = AgglomerativeClustering(n_clusters=2, affinity='euclidean', linkage='ward')  \n",
    "cluster.fit_predict(z_vector)\n",
    "labels_2 = cluster.labels_\n",
    "np.save(\"Compressed_Data/Full_Day_Half_31_2.npy\",labels_2)"
   ]
  },
  {
   "cell_type": "code",
   "execution_count": null,
   "metadata": {},
   "outputs": [],
   "source": [
    "cmap = matplotlib.colors.ListedColormap([\"green\", \"blue\"])\n",
    "fig, ax = plt.subplots(figsize=(30,10))\n",
    "\n",
    "cp = ax.scatter(x=z_test_tsne_track[:, 0], y=z_test_tsne_track[:, 1], c=cluster.labels_, cmap=cmap, s=10.0)\n",
    "ax.set_title(\"Agglomerative Clustering\", fontsize = fz*0.75)\n",
    "cbar = fig.colorbar(cp)\n",
    "cbar.set_label(label=\"Clusters\", rotation=\"horizontal\", fontsize=fz*0.5, labelpad=30, y = 0.55)\n",
    "cbar.set_ticks([0,1])\n",
    "cbar.set_ticklabels([\"Group 1\",\"Group 2\"])\n",
    "plt.savefig(\"Figures/Full_Day_Half_31_2.png\")"
   ]
  },
  {
   "cell_type": "code",
   "execution_count": null,
   "metadata": {},
   "outputs": [],
   "source": [
    "cluster = AgglomerativeClustering(n_clusters=3, affinity='euclidean', linkage='ward')  \n",
    "cluster.fit_predict(z_vector)\n",
    "labels_3 = cluster.labels_\n",
    "np.save(\"Compressed_Data/Full_Day_Half_31_3.npy\",labels_3)"
   ]
  },
  {
   "cell_type": "code",
   "execution_count": null,
   "metadata": {},
   "outputs": [],
   "source": [
    "cmap = matplotlib.colors.ListedColormap([\"yellow\",\"green\", \"blue\"])\n",
    "fig, ax = plt.subplots(figsize=(30,10))\n",
    "\n",
    "cp = ax.scatter(x=z_test_tsne_track[:, 0], y=z_test_tsne_track[:, 1], c=cluster.labels_, cmap=cmap, s=10.0)\n",
    "ax.set_title(\"Agglomerative Clustering\", fontsize = fz*0.75)\n",
    "cbar = fig.colorbar(cp)\n",
    "cbar.set_label(label=\"Clusters\", rotation=\"horizontal\", fontsize=fz*0.5, labelpad=30, y = 0.55)\n",
    "cbar.set_ticks([0,1,2])\n",
    "cbar.set_ticklabels([\"Group 1\",\"Group 2\",\"Group 3\"])\n",
    "plt.savefig(\"Figures/Full_Day_Half_31_3.png\")"
   ]
  },
  {
   "cell_type": "code",
   "execution_count": null,
   "metadata": {},
   "outputs": [],
   "source": [
    "cluster = AgglomerativeClustering(n_clusters=4, affinity='euclidean', linkage='ward')  \n",
    "cluster.fit_predict(z_vector)\n",
    "labels_4 = cluster.labels_\n",
    "np.save(\"Compressed_Data/Full_Day_Half_31_4.npy\",labels_4)"
   ]
  },
  {
   "cell_type": "code",
   "execution_count": null,
   "metadata": {},
   "outputs": [],
   "source": [
    "cluster = AgglomerativeClustering(n_clusters=5, affinity='euclidean', linkage='ward')  \n",
    "cluster.fit_predict(z_vector)\n",
    "labels_5 = cluster.labels_\n",
    "np.save(\"Compressed_Data/Full_Day_Half_31_5.npy\",labels_5)"
   ]
  },
  {
   "cell_type": "code",
   "execution_count": null,
   "metadata": {},
   "outputs": [],
   "source": [
    "cmap = matplotlib.colors.ListedColormap([\"red\",\"orange\",\"yellow\",\"green\", \"blue\"])\n",
    "fig, ax = plt.subplots(figsize=(30,10))\n",
    "\n",
    "cp = ax.scatter(x=z_test_tsne_track[:, 0], y=z_test_tsne_track[:, 1], c=cluster.labels_, cmap=cmap, s=10.0)\n",
    "ax.set_title(\"Agglomerative Clustering\", fontsize = fz*0.75)\n",
    "cbar = fig.colorbar(cp)\n",
    "cbar.set_label(label=\"Clusters\", rotation=\"horizontal\", fontsize=fz*0.5, labelpad=30, y = 0.55)\n",
    "cbar.set_ticks([0,1,2,3,4])\n",
    "cbar.set_ticklabels([\"Group 1\",\"Group 2\",\"Group 3\",\"Group 4\",\"Group 5\"])\n",
    "plt.savefig(\"Figures/Full_Day_Half_31_5.png\")"
   ]
  },
  {
   "cell_type": "code",
   "execution_count": null,
   "metadata": {},
   "outputs": [],
   "source": [
    "cluster = AgglomerativeClustering(n_clusters=6, affinity='euclidean', linkage='ward')  \n",
    "cluster.fit_predict(z_vector)\n",
    "labels_6 = cluster.labels_\n",
    "np.save(\"Compressed_Data/Full_Day_Half_31_6.npy\",labels_6)"
   ]
  },
  {
   "cell_type": "code",
   "execution_count": null,
   "metadata": {},
   "outputs": [],
   "source": [
    "cmap = matplotlib.colors.ListedColormap([\"red\",\"orange\",\"yellow\",\"green\", \"blue\",\"purple\"])\n",
    "fig, ax = plt.subplots(figsize=(30,10))\n",
    "\n",
    "cp = ax.scatter(x=z_test_tsne_track[:, 0], y=z_test_tsne_track[:, 1], c=cluster.labels_, cmap=cmap, s=10.0)\n",
    "ax.set_title(\"Agglomerative Clustering\", fontsize = fz*0.75)\n",
    "cbar = fig.colorbar(cp)\n",
    "cbar.set_label(label=\"Clusters\", rotation=\"horizontal\", fontsize=fz*0.5, labelpad=30, y = 0.55)\n",
    "cbar.set_ticks([0,1,2,3,4,5])\n",
    "cbar.set_ticklabels([\"Group 1\",\"Group 2\",\"Group 3\",\"Group 4\",\"Group 5\",\"Group 6\"])\n",
    "plt.savefig(\"Figures/Full_Day_Half_31_6.png\")"
   ]
  },
  {
   "cell_type": "code",
   "execution_count": null,
   "metadata": {},
   "outputs": [],
   "source": [
    "cluster = AgglomerativeClustering(n_clusters=8, affinity='euclidean', linkage='ward')  \n",
    "cluster.fit_predict(z_vector)\n",
    "labels_8 = cluster.labels_\n",
    "np.save(\"Compressed_Data/Full_Day_Half_31_8.npy\",labels_8)"
   ]
  },
  {
   "cell_type": "code",
   "execution_count": null,
   "metadata": {},
   "outputs": [],
   "source": [
    "cmap = matplotlib.colors.ListedColormap([\"pink\",\"red\",\"orange\",\"yellow\",\"green\", \"blue\",\"purple\",\"black\"])\n",
    "fig, ax = plt.subplots(figsize=(30,10))\n",
    "\n",
    "cp = ax.scatter(x=z_test_tsne_track[:, 0], y=z_test_tsne_track[:, 1], c=cluster.labels_, cmap=cmap, s=10.0)\n",
    "ax.set_title(\"Agglomerative Clustering\", fontsize = fz*0.75)\n",
    "cbar = fig.colorbar(cp)\n",
    "cbar.set_label(label=\"Clusters\", rotation=\"horizontal\", fontsize=fz*0.5, labelpad=30, y = 0.55)\n",
    "cbar.set_ticks([0,1,2,3,4,5,6,7])\n",
    "cbar.set_ticklabels([\"Group 1\",\"Group 2\",\"Group 3\",\"Group 4\",\"Group 5\",\"Group 6\",\"Group 7\",\"Group 8\"])\n",
    "plt.savefig(\"Figures/Full_Day_Half_31_8.png\")"
   ]
  },
  {
   "cell_type": "markdown",
   "metadata": {},
   "source": [
    "# 3 Groups"
   ]
  },
  {
   "cell_type": "code",
   "execution_count": null,
   "metadata": {},
   "outputs": [],
   "source": [
    "path = \"/DFS-L/DATA/pritchard/gmooers/Raw_Data_Storage/MAPS/SPCAM/100_Days/New_SPCAM5/archive/TimestepOutput_Neuralnet_SPCAM_216/atm/hist/TimestepOutput_Neuralnet_SPCAM_216.cam.h1.2009-01-20-00000.nc\"\n",
    "extra_variables = xr.open_dataset(path)\n",
    "ha = extra_variables.hyai.values\n",
    "hb = extra_variables.hybi.values\n",
    "PS = 1e5\n",
    "Pressures_real = PS*ha+PS*hb"
   ]
  },
  {
   "cell_type": "code",
   "execution_count": null,
   "metadata": {},
   "outputs": [],
   "source": [
    "group = {}\n",
    "mean = {}\n",
    "std = {}\n",
    "for igroup in range(3):\n",
    "    group[igroup] = Test_Images[labels_3==igroup,:,:]\n",
    "    mean[igroup] = np.mean(group[igroup],axis=0)\n",
    "    std[igroup] = np.std(group[igroup],axis=0)"
   ]
  },
  {
   "cell_type": "code",
   "execution_count": null,
   "metadata": {},
   "outputs": [],
   "source": [
    "fz = 15\n",
    "lw = 4\n",
    "siz = 100\n",
    "XNNA = 1.25 # Abscissa where architecture-constrained network will be placed\n",
    "XTEXT = 0.25 # Text placement\n",
    "YTEXT = 0.3 # Text placement\n",
    "\n",
    "plt.rc('text', usetex=False)\n",
    "matplotlib.rcParams['mathtext.fontset'] = 'stix'\n",
    "matplotlib.rcParams['font.family'] = 'STIXGeneral'\n",
    "#mpl.rcParams[\"font.serif\"] = \"STIX\"\n",
    "plt.rc('font', family='serif', size=fz)\n",
    "matplotlib.rcParams['lines.linewidth'] = lw"
   ]
  },
  {
   "cell_type": "code",
   "execution_count": null,
   "metadata": {},
   "outputs": [],
   "source": [
    "vmax_mean = 1.0\n",
    "vmin_mean = -1.0\n",
    "vmax_std = 1.0\n",
    "vmin_std = 0.0\n",
    "cmap=\"RdBu_r\"\n",
    "var_labels = [\"Group 1\", \"Group 2\", \"Group 3\"]\n",
    "fig, ax = plt.subplots(nrows=3,ncols=3,figsize=(22,16))\n",
    "for igroup in range(3):\n",
    "    axes = ax[igroup]\n",
    "    cs = axes[0].pcolor(Xs, Zs, mean[igroup], cmap=cmap, vmax = 0.01, vmin = -0.01)\n",
    "    divider = make_axes_locatable(axes[0])\n",
    "    cax = divider.append_axes(\"right\", size=\"5%\", pad=0.05)\n",
    "    fig.colorbar(cs, cax=cax)\n",
    "    cs = axes[1].pcolor(Xs, Zs, std[igroup], cmap=cmap, vmax = vmax_std, vmin = vmin_std)\n",
    "    divider = make_axes_locatable(axes[1])\n",
    "    cax = divider.append_axes(\"right\", size=\"5%\", pad=0.05)\n",
    "    fig.colorbar(cs, cax=cax)\n",
    "    cs = axes[2].plot(np.flipud(np.nanmean(std[igroup],axis=1)), Pressures_real[:-1]/100.0)\n",
    "    axes[2].set_xlim(0,0.5)\n",
    "    axes[0].set_ylim(axes[0].get_ylim()[::-1])\n",
    "    axes[1].set_ylim(axes[1].get_ylim()[::-1])\n",
    "    axes[2].set_ylim(axes[2].get_ylim()[::-1])\n",
    "    if igroup == 2:\n",
    "        axes[0].set_xlabel('CRMs')\n",
    "        axes[1].set_xlabel('CRMs')\n",
    "        axes[2].set_xlabel('m/s')\n",
    "    if igroup == 1:\n",
    "        axes[0].set_ylabel('Pressure')\n",
    "        axes[1].set_ylabel('m/s')\n",
    "        axes[1].yaxis.set_label_coords(1.21,0.5)\n",
    "        #axes[1].yaxis.set_label_position(\"right\")\n",
    "        #axes[1].yaxis.tick_right()\n",
    "    axes[1].set_yticks([])\n",
    "    axes[2].set_yticks([])\n",
    "    if igroup < 2:\n",
    "        axes[0].set_xticks([])\n",
    "        axes[1].set_xticks([])\n",
    "        axes[2].set_xticks([])\n",
    "    if igroup == 0:\n",
    "        axes[0].set_title(\"Mean\")\n",
    "        axes[1].set_title(\"Standard Devation\")\n",
    "        axes[2].set_title(\"Zonal Mean Standard Devation\")\n",
    "        \n",
    "plt.suptitle(\"Agglomerative Clustering Groups in 2D Latent Space Projection\", y = 0.93)\n",
    "plt.savefig(\"Figures/Full_Day_Half_31_Z_3_Group_Comparison_Agglomerative_Labels.png\")"
   ]
  },
  {
   "cell_type": "markdown",
   "metadata": {},
   "source": [
    "# 5 Groups"
   ]
  },
  {
   "cell_type": "code",
   "execution_count": null,
   "metadata": {},
   "outputs": [],
   "source": [
    "group = {}\n",
    "mean = {}\n",
    "std = {}\n",
    "for igroup in range(5):\n",
    "    group[igroup] = Test_Images[labels_5==igroup,:,:]\n",
    "    mean[igroup] = np.mean(group[igroup],axis=0)\n",
    "    std[igroup] = np.std(group[igroup],axis=0)"
   ]
  },
  {
   "cell_type": "code",
   "execution_count": null,
   "metadata": {},
   "outputs": [],
   "source": [
    "vmax_mean = 1.0\n",
    "vmin_mean = -1.0\n",
    "vmax_std = 1.0\n",
    "vmin_std = 0.0\n",
    "cmap=\"RdBu_r\"\n",
    "var_labels = [\"Group 1\", \"Group 2\", \"Group 3\"]\n",
    "fig, ax = plt.subplots(nrows=5,ncols=3,figsize=(22,16))\n",
    "for igroup in range(5):\n",
    "    axes = ax[igroup]\n",
    "    cs = axes[0].pcolor(Xs, Zs, mean[igroup], cmap=cmap, vmax = 0.01, vmin = -0.01)\n",
    "    divider = make_axes_locatable(axes[0])\n",
    "    cax = divider.append_axes(\"right\", size=\"5%\", pad=0.05)\n",
    "    fig.colorbar(cs, cax=cax)\n",
    "    cs = axes[1].pcolor(Xs, Zs, std[igroup], cmap=cmap, vmax = vmax_std, vmin = vmin_std)\n",
    "    divider = make_axes_locatable(axes[1])\n",
    "    cax = divider.append_axes(\"right\", size=\"5%\", pad=0.05)\n",
    "    fig.colorbar(cs, cax=cax)\n",
    "    cs = axes[2].plot(np.flipud(np.nanmean(std[igroup],axis=1)), Pressures_real[:-1]/100.0)\n",
    "    axes[2].set_xlim(0,0.75)\n",
    "    axes[0].set_ylim(axes[0].get_ylim()[::-1])\n",
    "    axes[1].set_ylim(axes[1].get_ylim()[::-1])\n",
    "    axes[2].set_ylim(axes[2].get_ylim()[::-1])\n",
    "    if igroup == 4:\n",
    "        axes[0].set_xlabel('CRMs')\n",
    "        axes[1].set_xlabel('CRMs')\n",
    "        axes[2].set_xlabel('m/s')\n",
    "    if igroup == 2:\n",
    "        axes[0].set_ylabel('Pressure')\n",
    "        axes[1].set_ylabel('m/s')\n",
    "        axes[1].yaxis.set_label_coords(1.21,0.5)\n",
    "        #axes[1].yaxis.set_label_position(\"right\")\n",
    "        #axes[1].yaxis.tick_right()\n",
    "    axes[1].set_yticks([])\n",
    "    axes[2].set_yticks([])\n",
    "    if igroup < 4:\n",
    "        axes[0].set_xticks([])\n",
    "        axes[1].set_xticks([])\n",
    "        axes[2].set_xticks([])\n",
    "    if igroup == 0:\n",
    "        axes[0].set_title(\"Mean\")\n",
    "        axes[1].set_title(\"Standard Devation\")\n",
    "        axes[2].set_title(\"Zonal Mean Standard Devation\")\n",
    "        \n",
    "plt.suptitle(\"Agglomerative Clustering Groups in 2D Latent Space Projection\", y = 0.93)\n",
    "plt.savefig(\"Figures/Full_Day_Half_31_Z_5_Group_Comparison_Agglomerative_Labels.png\")"
   ]
  },
  {
   "cell_type": "markdown",
   "metadata": {},
   "source": [
    "# 6 Groups"
   ]
  },
  {
   "cell_type": "code",
   "execution_count": null,
   "metadata": {},
   "outputs": [],
   "source": [
    "group = {}\n",
    "mean = {}\n",
    "std = {}\n",
    "for igroup in range(6):\n",
    "    group[igroup] = Test_Images[labels_6==igroup,:,:]\n",
    "    mean[igroup] = np.mean(group[igroup],axis=0)\n",
    "    std[igroup] = np.std(group[igroup],axis=0)"
   ]
  },
  {
   "cell_type": "code",
   "execution_count": null,
   "metadata": {},
   "outputs": [],
   "source": [
    "vmax_mean = 1.0\n",
    "vmin_mean = -1.0\n",
    "vmax_std = 1.0\n",
    "vmin_std = 0.0\n",
    "cmap=\"RdBu_r\"\n",
    "var_labels = [\"Group 1\", \"Group 2\", \"Group 3\"]\n",
    "fig, ax = plt.subplots(nrows=6,ncols=3,figsize=(22,16))\n",
    "for igroup in range(6):\n",
    "    axes = ax[igroup]\n",
    "    cs = axes[0].pcolor(Xs, Zs, mean[igroup], cmap=cmap, vmax = 0.01, vmin = -0.01)\n",
    "    divider = make_axes_locatable(axes[0])\n",
    "    cax = divider.append_axes(\"right\", size=\"5%\", pad=0.05)\n",
    "    fig.colorbar(cs, cax=cax)\n",
    "    cs = axes[1].pcolor(Xs, Zs, std[igroup], cmap=cmap, vmax = vmax_std, vmin = vmin_std)\n",
    "    divider = make_axes_locatable(axes[1])\n",
    "    cax = divider.append_axes(\"right\", size=\"5%\", pad=0.05)\n",
    "    fig.colorbar(cs, cax=cax)\n",
    "    cs = axes[2].plot(np.flipud(np.nanmean(std[igroup],axis=1)), Pressures_real[:-1]/100.0)\n",
    "    axes[2].set_xlim(0,0.75)\n",
    "    axes[0].set_ylim(axes[0].get_ylim()[::-1])\n",
    "    axes[1].set_ylim(axes[1].get_ylim()[::-1])\n",
    "    axes[2].set_ylim(axes[2].get_ylim()[::-1])\n",
    "    if igroup == 5:\n",
    "        axes[0].set_xlabel('CRMs')\n",
    "        axes[1].set_xlabel('CRMs')\n",
    "        axes[2].set_xlabel('m/s')\n",
    "    if igroup == 3:\n",
    "        axes[0].set_ylabel('Pressure')\n",
    "        axes[1].set_ylabel('m/s')\n",
    "        axes[1].yaxis.set_label_coords(1.21,0.5)\n",
    "        #axes[1].yaxis.set_label_position(\"right\")\n",
    "        #axes[1].yaxis.tick_right()\n",
    "    axes[1].set_yticks([])\n",
    "    axes[2].set_yticks([])\n",
    "    if igroup < 5:\n",
    "        axes[0].set_xticks([])\n",
    "        axes[1].set_xticks([])\n",
    "        axes[2].set_xticks([])\n",
    "    if igroup == 0:\n",
    "        axes[0].set_title(\"Mean\")\n",
    "        axes[1].set_title(\"Standard Devation\")\n",
    "        axes[2].set_title(\"Zonal Mean Standard Devation\")\n",
    "        \n",
    "plt.suptitle(\"Agglomerative Clustering Groups in 2D Latent Space Projection\", y = 0.93)\n",
    "plt.savefig(\"Figures/Full_Day_Half_31_Z_6_Group_Comparison_Agglomerative_Labels.png\")"
   ]
  }
 ],
 "metadata": {
  "kernelspec": {
   "display_name": "Python 3",
   "language": "python",
   "name": "python3"
  },
  "language_info": {
   "codemirror_mode": {
    "name": "ipython",
    "version": 3
   },
   "file_extension": ".py",
   "mimetype": "text/x-python",
   "name": "python",
   "nbconvert_exporter": "python",
   "pygments_lexer": "ipython3",
   "version": "3.7.3"
  }
 },
 "nbformat": 4,
 "nbformat_minor": 4
}
