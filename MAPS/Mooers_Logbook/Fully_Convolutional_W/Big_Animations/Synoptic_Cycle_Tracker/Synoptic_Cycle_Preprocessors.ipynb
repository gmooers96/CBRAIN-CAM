{
 "cells": [
  {
   "cell_type": "code",
   "execution_count": 1,
   "metadata": {},
   "outputs": [],
   "source": [
    "import numpy as np\n",
    "import itertools\n",
    "import math\n",
    "import scipy\n",
    "from scipy import spatial\n",
    "import matplotlib.pyplot as plt\n",
    "import matplotlib\n",
    "import matplotlib.patches as patches\n",
    "from matplotlib import animation\n",
    "from matplotlib import transforms\n",
    "from mpl_toolkits.axes_grid1 import make_axes_locatable\n",
    "import xarray as xr\n",
    "import dask\n",
    "from sklearn.cluster import KMeans\n",
    "from sklearn.cluster import AgglomerativeClustering\n",
    "import pandas as pd\n",
    "import netCDF4"
   ]
  },
  {
   "cell_type": "code",
   "execution_count": 2,
   "metadata": {},
   "outputs": [],
   "source": [
    "def plot_generator_paper(sample, X, Z):\n",
    "    \n",
    "    fz = 15*1.25\n",
    "    lw = 4\n",
    "    siz = 100\n",
    "    XNNA = 1.25 # Abscissa where architecture-constrained network will be placed\n",
    "    XTEXT = 0.25 # Text placement\n",
    "    YTEXT = 0.3 # Text placement\n",
    "    \n",
    "    plt.rc('text', usetex=False)\n",
    "    matplotlib.rcParams['mathtext.fontset'] = 'stix'\n",
    "    matplotlib.rcParams['font.family'] = 'STIXGeneral'\n",
    "    #mpl.rcParams[\"font.serif\"] = \"STIX\"\n",
    "    plt.rc('font', family='serif', size=fz)\n",
    "    matplotlib.rcParams['lines.linewidth'] = lw\n",
    "    \n",
    "    \n",
    "    cmap=\"RdBu_r\"\n",
    "    fig, ax = plt.subplots(1,1, figsize=(15,6))\n",
    "    cs0 = ax.pcolor(X, Z, sample, cmap=cmap, vmin=-1.0, vmax = 1.0)\n",
    "    ax.set_title(\"Anomalous Vertical Velocity Field Detected By ELBO\")\n",
    "    ax.set_ylim(ax.get_ylim()[::-1])\n",
    "    ax.set_xlabel(\"CRMs\", fontsize=fz*1.5)\n",
    "    ax.xaxis.set_label_coords(0.54,-0.05)\n",
    "    h = ax.set_ylabel(\"hPa\", fontsize = fz*1.5)\n",
    "    h.set_rotation(0)\n",
    "    ax.yaxis.set_label_coords(-0.10,0.44)\n",
    "    #y_ticks = np.arange(1350, 0, -350)\n",
    "    #ax.set_yticklabels(y_ticks, fontsize=fz*1.33)\n",
    "    ax.tick_params(axis='x', labelsize=fz*1.33)\n",
    "    ax.tick_params(axis='y', labelsize=fz*1.33)\n",
    "    divider = make_axes_locatable(ax)\n",
    "    cax = divider.append_axes(\"right\", size=\"5%\", pad=0.05)\n",
    "    cbar = fig.colorbar(cs0, cax=cax)\n",
    "    cbar.set_label(label=r'$\\left(\\mathrm{m\\ s^{-1}}\\right)$', rotation=\"horizontal\", fontsize=fz*1.5, labelpad=30, y = 0.65)\n",
    "    plt.show()\n",
    "    #plt.savefig(\"/fast/gmooers/gmooers_git/CBRAIN-CAM/MAPS/CI_Figure_Data/Anomaly.pdf\")\n",
    "    \n",
    "#plot_generator(test[0,:,:])"
   ]
  },
  {
   "cell_type": "code",
   "execution_count": 3,
   "metadata": {},
   "outputs": [],
   "source": [
    "path_to_file = '/DFS-L/DATA/pritchard/gmooers/Workflow/MAPS/SPCAM/100_Days/New_SPCAM5/archive/TimestepOutput_Neuralnet_SPCAM_216/atm/hist/TimestepOutput_Neuralnet_SPCAM_216.cam.h1.2009-01-20-00000.nc'\n",
    "extra_variables = xr.open_dataset(path_to_file)\n",
    "lats = np.squeeze(extra_variables.LAT_20s_to_20n.values)\n",
    "lons = np.squeeze(extra_variables.LON_0e_to_360e.values)"
   ]
  },
  {
   "cell_type": "code",
   "execution_count": 4,
   "metadata": {},
   "outputs": [
    {
     "name": "stdout",
     "output_type": "stream",
     "text": [
      "[-19.89473684 -18.         -16.10526316 -14.21052632 -12.31578947\n",
      " -10.42105263  -8.52631579  -6.63157895  -4.73684211  -2.84210526\n",
      "  -0.94736842   0.94736842   2.84210526   4.73684211   6.63157895\n",
      "   8.52631579  10.42105263  12.31578947  14.21052632  16.10526316\n",
      "  18.          19.89473684]\n"
     ]
    }
   ],
   "source": [
    "print(lats)"
   ]
  },
  {
   "cell_type": "code",
   "execution_count": 10,
   "metadata": {},
   "outputs": [
    {
     "name": "stdout",
     "output_type": "stream",
     "text": [
      "160.0\n"
     ]
    }
   ],
   "source": [
    "print(lons[-80])"
   ]
  },
  {
   "cell_type": "code",
   "execution_count": 19,
   "metadata": {},
   "outputs": [
    {
     "name": "stdout",
     "output_type": "stream",
     "text": [
      "76\n",
      "1\n",
      "13\n",
      "59\n"
     ]
    }
   ],
   "source": [
    "#print(int(round((lons[-30]/360.)*96.)))\n",
    "#print(int(round((lons[1]/360.)*96.)))\n",
    "#print(int(round((lons[20]/360.)*96.)))\n",
    "#print(int(round((lons[-56]/360.)*96.)))"
   ]
  },
  {
   "cell_type": "code",
   "execution_count": null,
   "metadata": {},
   "outputs": [],
   "source": [
    "path_to_file = '/DFS-L/DATA/pritchard/gmooers/Workflow/MAPS/SPCAM/100_Days/New_SPCAM5/archive/TimestepOutput_Neuralnet_SPCAM_216/atm/hist/TimestepOutput_Neuralnet_SPCAM_216.cam.h1.20*'\n",
    "extra_variables = xr.open_mfdataset(path_to_file)\n",
    "\n",
    "amazon = xr.DataArray.squeeze(extra_variables.CRM_W_LON_0e_to_360e_LAT_20s_to_20n[20+96*3:96*13+20,:,:,:,10,-30]).values\n",
    "sc_cloud = xr.DataArray.squeeze(extra_variables.CRM_W_LON_0e_to_360e_LAT_20s_to_20n[95+96*3:96*13+95,:,:,:,4,1]).values\n",
    "african_horn = xr.DataArray.squeeze(extra_variables.CRM_W_LON_0e_to_360e_LAT_20s_to_20n[83+96*3:96*13+83,:,:,:,-6,20]).values\n",
    "warm_pool = xr.DataArray.squeeze(extra_variables.CRM_W_LON_0e_to_360e_LAT_20s_to_20n[37+96*3:96*13+37,:,:,:,-11,-80]).values\n"
   ]
  },
  {
   "cell_type": "code",
   "execution_count": null,
   "metadata": {},
   "outputs": [],
   "source": [
    "Max_Scalar = np.load(\"/fast/gmooers/Preprocessed_Data/W_Variable/Space_Time_Max_Scalar.npy\")\n",
    "Min_Scalar = np.load(\"/fast/gmooers/Preprocessed_Data/W_Variable/Space_Time_Min_Scalar.npy\")"
   ]
  },
  {
   "cell_type": "code",
   "execution_count": null,
   "metadata": {},
   "outputs": [],
   "source": [
    "amazon = np.interp(amazon, (Min_Scalar, Max_Scalar), (0, 1))\n",
    "sc_cloud = np.interp(sc_cloud, (Min_Scalar, Max_Scalar), (0, 1))\n",
    "african_horn = np.interp(african_horn, (Min_Scalar, Max_Scalar), (0, 1))\n",
    "warm_pool = np.interp(warm_pool, (Min_Scalar, Max_Scalar), (0, 1))"
   ]
  },
  {
   "cell_type": "code",
   "execution_count": null,
   "metadata": {},
   "outputs": [],
   "source": [
    "np.save(\"/fast/gmooers/Preprocessed_Data/Single_Amazon_Unaveraged/w_var_synoptic_amazon_point.npy\",amazon)\n",
    "np.save(\"/fast/gmooers/Preprocessed_Data/Single_Amazon_Unaveraged/w_var_synoptic_sc_point.npy\",sc_cloud)\n",
    "np.save(\"/fast/gmooers/Preprocessed_Data/Single_Amazon_Unaveraged/w_var_synoptic_desert_point.npy\",african_horn)\n",
    "np.save(\"/fast/gmooers/Preprocessed_Data/Single_Amazon_Unaveraged/w_var_synoptic_warm_pool_point.npy\",warm_pool)"
   ]
  },
  {
   "cell_type": "code",
   "execution_count": null,
   "metadata": {},
   "outputs": [],
   "source": [
    "path_to_file = '/DFS-L/DATA/pritchard/gmooers/Workflow/MAPS/SPCAM/100_Days/New_SPCAM5/archive/TimestepOutput_Neuralnet_SPCAM_216/atm/hist/TimestepOutput_Neuralnet_SPCAM_216.cam.h1.20*'\n",
    "extra_variables = xr.open_mfdataset(path_to_file)\n",
    "\n",
    "amazon = xr.DataArray.squeeze(extra_variables.CRM_W_LON_0e_to_360e_LAT_20s_to_20n[20+96*3:,:,:,:,10,-30]).values\n",
    "sc_cloud = xr.DataArray.squeeze(extra_variables.CRM_W_LON_0e_to_360e_LAT_20s_to_20n[95+96*3:,:,:,:,4,1]).values\n",
    "african_horn = xr.DataArray.squeeze(extra_variables.CRM_W_LON_0e_to_360e_LAT_20s_to_20n[83+96*3:,:,:,:,-6,20]).values\n",
    "warm_pool = xr.DataArray.squeeze(extra_variables.CRM_W_LON_0e_to_360e_LAT_20s_to_20n[37+96*3:,:,:,:,-11,-80]).values\n"
   ]
  },
  {
   "cell_type": "code",
   "execution_count": null,
   "metadata": {},
   "outputs": [],
   "source": [
    "amazon = np.interp(amazon, (Min_Scalar, Max_Scalar), (0, 1))\n",
    "sc_cloud = np.interp(sc_cloud, (Min_Scalar, Max_Scalar), (0, 1))\n",
    "african_horn = np.interp(african_horn, (Min_Scalar, Max_Scalar), (0, 1))\n",
    "warm_pool = np.interp(warm_pool, (Min_Scalar, Max_Scalar), (0, 1))"
   ]
  },
  {
   "cell_type": "code",
   "execution_count": null,
   "metadata": {},
   "outputs": [],
   "source": [
    "np.save(\"/fast/gmooers/Preprocessed_Data/Single_Amazon_Unaveraged/w_var_all_amazon_point.npy\",amazon)\n",
    "np.save(\"/fast/gmooers/Preprocessed_Data/Single_Amazon_Unaveraged/w_var_all_sc_point.npy\",sc_cloud)\n",
    "np.save(\"/fast/gmooers/Preprocessed_Data/Single_Amazon_Unaveraged/w_var_all_desert_point.npy\",african_horn)\n",
    "np.save(\"/fast/gmooers/Preprocessed_Data/Single_Amazon_Unaveraged/w_var_all_warm_pool_point.npy\",warm_pool)"
   ]
  }
 ],
 "metadata": {
  "kernelspec": {
   "display_name": "Python 3",
   "language": "python",
   "name": "python3"
  },
  "language_info": {
   "codemirror_mode": {
    "name": "ipython",
    "version": 3
   },
   "file_extension": ".py",
   "mimetype": "text/x-python",
   "name": "python",
   "nbconvert_exporter": "python",
   "pygments_lexer": "ipython3",
   "version": "3.7.3"
  }
 },
 "nbformat": 4,
 "nbformat_minor": 4
}
