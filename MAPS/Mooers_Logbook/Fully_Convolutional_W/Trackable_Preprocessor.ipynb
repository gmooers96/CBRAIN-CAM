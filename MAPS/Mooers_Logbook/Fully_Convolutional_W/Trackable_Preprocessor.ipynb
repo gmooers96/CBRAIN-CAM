{
 "cells": [
  {
   "cell_type": "code",
   "execution_count": 2,
   "metadata": {},
   "outputs": [],
   "source": [
    "import numpy as np\n",
    "import math"
   ]
  },
  {
   "cell_type": "code",
   "execution_count": 3,
   "metadata": {},
   "outputs": [],
   "source": [
    "All_Test_Images = np.load(\"/fast/gmooers/Preprocessed_Data/W_Variable/Space_Time_W_Test.npy\")\n",
    "Max_Scalar = np.load(\"/fast/gmooers/Preprocessed_Data/W_Variable/Space_Time_Max_Scalar.npy\")\n",
    "Min_Scalar = np.load(\"/fast/gmooers/Preprocessed_Data/W_Variable/Space_Time_Min_Scalar.npy\")\n",
    "All_Test_Images = np.interp(All_Test_Images, (0, 1), (Min_Scalar, Max_Scalar))"
   ]
  },
  {
   "cell_type": "code",
   "execution_count": 4,
   "metadata": {},
   "outputs": [],
   "source": [
    "Max_Scalar = np.load(\"/fast/gmooers/Preprocessed_Data/Centered_50_50/Space_Time_Max_Scalar.npy\")\n",
    "Min_Scalar = np.load(\"/fast/gmooers/Preprocessed_Data/Centered_50_50/Space_Time_Min_Scalar.npy\")\n",
    "Rescaled_Test_Images = np.interp(All_Test_Images, (Min_Scalar, Max_Scalar), (0, 1))"
   ]
  },
  {
   "cell_type": "code",
   "execution_count": 5,
   "metadata": {},
   "outputs": [],
   "source": [
    "np.save(\"/fast/gmooers/Preprocessed_Data/W_Variable/Trackable_Space_Time_W_Test.npy\", Rescaled_Test_Images)"
   ]
  },
  {
   "cell_type": "code",
   "execution_count": null,
   "metadata": {},
   "outputs": [],
   "source": []
  }
 ],
 "metadata": {
  "kernelspec": {
   "display_name": "Python 3",
   "language": "python",
   "name": "python3"
  },
  "language_info": {
   "codemirror_mode": {
    "name": "ipython",
    "version": 3
   },
   "file_extension": ".py",
   "mimetype": "text/x-python",
   "name": "python",
   "nbconvert_exporter": "python",
   "pygments_lexer": "ipython3",
   "version": "3.7.3"
  }
 },
 "nbformat": 4,
 "nbformat_minor": 4
}
