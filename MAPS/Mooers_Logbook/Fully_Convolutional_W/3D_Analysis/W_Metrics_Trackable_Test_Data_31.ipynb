{
 "cells": [
  {
   "cell_type": "code",
   "execution_count": 1,
   "metadata": {},
   "outputs": [],
   "source": [
    "import numpy as np\n",
    "import matplotlib.cm as cm\n",
    "from matplotlib import ticker\n",
    "import math\n",
    "import scipy\n",
    "from scipy import spatial\n",
    "import matplotlib.pyplot as plt\n",
    "import matplotlib\n",
    "import xarray as xr\n",
    "import dask\n",
    "from sklearn.neighbors import KDTree\n",
    "import netCDF4\n",
    "from metpy import calc\n",
    "from metpy.units import units\n",
    "\n",
    "from mpl_toolkits.mplot3d import Axes3D\n",
    "from mpl_toolkits.mplot3d import axes3d\n",
    "from IPython.display import HTML\n",
    "from matplotlib import animation"
   ]
  },
  {
   "cell_type": "code",
   "execution_count": 2,
   "metadata": {},
   "outputs": [],
   "source": [
    "def plot_generator_paper(sample, X, Z):\n",
    "    \n",
    "    fz = 15*1.25\n",
    "    lw = 4\n",
    "    siz = 100\n",
    "    XNNA = 1.25 # Abscissa where architecture-constrained network will be placed\n",
    "    XTEXT = 0.25 # Text placement\n",
    "    YTEXT = 0.3 # Text placement\n",
    "    \n",
    "    plt.rc('text', usetex=False)\n",
    "    matplotlib.rcParams['mathtext.fontset'] = 'stix'\n",
    "    matplotlib.rcParams['font.family'] = 'STIXGeneral'\n",
    "    #mpl.rcParams[\"font.serif\"] = \"STIX\"\n",
    "    plt.rc('font', family='serif', size=fz)\n",
    "    matplotlib.rcParams['lines.linewidth'] = lw\n",
    "    \n",
    "    \n",
    "    cmap=\"RdBu_r\"\n",
    "    fig, ax = plt.subplots(1,1, figsize=(15,6))\n",
    "    cs0 = ax.pcolor(X, Z, sample, cmap=cmap, vmin=-1.0, vmax = 1.0)\n",
    "    ax.set_title(\"Anomalous Vertical Velocity Field Detected By ELBO\")\n",
    "    ax.set_ylim(ax.get_ylim()[::-1])\n",
    "    ax.set_xlabel(\"CRMs\", fontsize=fz*1.5)\n",
    "    ax.xaxis.set_label_coords(0.54,-0.05)\n",
    "    h = ax.set_ylabel(\"hPa\", fontsize = fz*1.5)\n",
    "    h.set_rotation(0)\n",
    "    ax.yaxis.set_label_coords(-0.10,0.44)\n",
    "    #y_ticks = np.arange(1350, 0, -350)\n",
    "    #ax.set_yticklabels(y_ticks, fontsize=fz*1.33)\n",
    "    ax.tick_params(axis='x', labelsize=fz*1.33)\n",
    "    ax.tick_params(axis='y', labelsize=fz*1.33)\n",
    "    divider = make_axes_locatable(ax)\n",
    "    cax = divider.append_axes(\"right\", size=\"5%\", pad=0.05)\n",
    "    cbar = fig.colorbar(cs0, cax=cax)\n",
    "    cbar.set_label(label=r'$\\left(\\mathrm{m\\ s^{-1}}\\right)$', rotation=\"horizontal\", fontsize=fz*1.5, labelpad=30, y = 0.65)\n",
    "    plt.show()\n",
    "    #plt.savefig(\"/fast/gmooers/gmooers_git/CBRAIN-CAM/MAPS/CI_Figure_Data/Anomaly.pdf\")\n",
    "    \n",
    "#plot_generator(test[0,:,:])"
   ]
  },
  {
   "cell_type": "code",
   "execution_count": 3,
   "metadata": {},
   "outputs": [],
   "source": [
    "fz = 15*1.5\n",
    "lw = 4\n",
    "siz = 100\n",
    "XNNA = 1.25 # Abscissa where architecture-constrained network will be placed\n",
    "XTEXT = 0.25 # Text placement\n",
    "YTEXT = 0.3 # Text placement\n",
    "\n",
    "plt.rc('text', usetex=False)\n",
    "matplotlib.rcParams['mathtext.fontset'] = 'stix'\n",
    "matplotlib.rcParams['font.family'] = 'STIXGeneral'\n",
    "#mpl.rcParams[\"font.serif\"] = \"STIX\"\n",
    "plt.rc('font', family='serif', size=fz)\n",
    "matplotlib.rcParams['lines.linewidth'] = lw"
   ]
  },
  {
   "cell_type": "code",
   "execution_count": 4,
   "metadata": {},
   "outputs": [],
   "source": [
    "others = netCDF4.Dataset(\"/fast/gmooers/Raw_Data/extras/TimestepOutput_Neuralnet_SPCAM_216.cam.h1.2009-01-01-00000.nc\")\n",
    "levs = np.array(others.variables['lev'])\n",
    "lons = np.array(others.variables['lon'])\n",
    "new = np.flip(levs)\n",
    "crms = np.arange(1,129,1)\n",
    "Xs, Zs = np.meshgrid(crms, new)"
   ]
  },
  {
   "cell_type": "code",
   "execution_count": 5,
   "metadata": {},
   "outputs": [],
   "source": [
    "z_test_tsne_track = np.load(\"/fast/gmooers/gmooers_git/CBRAIN-CAM/MAPS/model_graphs/latent_space/3D_PCA_Latent_Space__31.npy\")\n",
    "\n",
    "Test_Images = np.load(\"/fast/gmooers/Preprocessed_Data/W_Variable/Trackable_Space_Time_W_Test.npy\")\n",
    "Max_Scalar = np.load(\"/fast/gmooers/Preprocessed_Data/Centered_50_50/Space_Time_Max_Scalar.npy\")\n",
    "Min_Scalar = np.load(\"/fast/gmooers/Preprocessed_Data/Centered_50_50/Space_Time_Min_Scalar.npy\")\n",
    "\n",
    "Test_Images = np.interp(Test_Images, (0, 1), (Min_Scalar, Max_Scalar))"
   ]
  },
  {
   "cell_type": "markdown",
   "metadata": {},
   "source": [
    "# Horizonal Spatial Scale"
   ]
  },
  {
   "cell_type": "code",
   "execution_count": 6,
   "metadata": {},
   "outputs": [],
   "source": [
    "def spectrum_gen(h, dx):\n",
    "    nx = len(h)\n",
    "\n",
    "    # Get half the length of the series to avoid redudant information\n",
    "    npositive = nx//2\n",
    "    pslice = slice(1, npositive)\n",
    "\n",
    "    # Get frequencies\n",
    "    freqs = np.fft.fftfreq(nx, d=dx)[pslice] \n",
    "\n",
    "    # Perform the fft \n",
    "    ft = np.fft.fft(h)[pslice]\n",
    "\n",
    "    # Remove imaginary componant of the fft and square\n",
    "    psraw = np.conjugate(ft) *ft\n",
    "\n",
    "    # Double to account for the negative half that was removed above\n",
    "    psraw *= 2.0\n",
    "\n",
    "    # Normalization for the power spectrum\n",
    "    psraw /= nx**2\n",
    "\n",
    "    # Go from the Power Spectrum to Power Density\n",
    "    psdraw = psraw * dx * nx\n",
    "\n",
    "    return freqs, psraw, psdraw"
   ]
  },
  {
   "cell_type": "code",
   "execution_count": 7,
   "metadata": {},
   "outputs": [],
   "source": [
    "ww_test = np.empty(Test_Images.shape)\n",
    "for i in range(len(Test_Images)):\n",
    "    ww_test[i,:,:] = (Test_Images[i,:,:] - np.nanmean(np.squeeze(Test_Images[i,:,:]),axis=1)[:,None])**2"
   ]
  },
  {
   "cell_type": "code",
   "execution_count": 8,
   "metadata": {},
   "outputs": [],
   "source": [
    "def max_level_getter(w_array):\n",
    "    level = np.empty(shape=(len(w_array)))\n",
    "    magnitudes = np.empty(shape=(30))\n",
    "    for i in range(len(w_array)):\n",
    "        w_temp = np.squeeze(w_array[i,:,:])\n",
    "        for j in range(len(w_temp)):\n",
    "            magnitudes[j] = np.nansum(np.squeeze(w_temp[j,:]))\n",
    "        level[i] = np.argmax(magnitudes) \n",
    "    \n",
    "    return level\n",
    "        \n",
    "def spatial_fft(w_array):\n",
    "    level = max_level_getter(w_array)\n",
    "    spatial_labels = np.empty(shape=(len(w_array)))\n",
    "    for i in range(len(w_array)):\n",
    "        W_freqs, W_psraw, W_psdraw = spectrum_gen(w_array[i,int(level[i]),:], 1)\n",
    "        w_max = np.argmax(W_psdraw)\n",
    "        spatial_labels[i] = int(1/W_freqs[w_max])\n",
    "    \n",
    "    return spatial_labels\n",
    "\n",
    "w_spatial_labels = spatial_fft(ww_test)"
   ]
  },
  {
   "cell_type": "code",
   "execution_count": 9,
   "metadata": {},
   "outputs": [
    {
     "name": "stdout",
     "output_type": "stream",
     "text": [
      "-0.10232586065850392\n",
      "-0.25407117004160495\n",
      "0.3306979011939728\n"
     ]
    },
    {
     "data": {
      "image/png": "[encoded data removed]",
      "text/plain": [
       "<Figure size 1152x864 with 2 Axes>"
      ]
     },
     "metadata": {
      "needs_background": "light"
     },
     "output_type": "display_data"
    }
   ],
   "source": [
    "fig = plt.figure(figsize=(16,12))\n",
    "ax = fig.add_subplot(111, projection='3d')\n",
    "\n",
    "cp = ax.scatter(xs=z_test_tsne_track[:, 0], ys=z_test_tsne_track[:, 1], zs=z_test_tsne_track[:, 2], c=w_spatial_labels, cmap=\"Purples\", s=10.0, norm=matplotlib.colors.LogNorm())\n",
    "ax.set_title(\"Spatial Scale of Max Power\", fontsize = fz*2.0)\n",
    "#ax.set_xlim(-40,100)\n",
    "#ax.set_ylim(-20,35)\n",
    "cbar = fig.colorbar(cp, pad=0.002)\n",
    "cbar.set_label(label=\"Columns\", rotation=\"horizontal\", fontsize=fz*1.5, labelpad=30, y = 0.55)\n",
    "\n",
    "print(scipy.stats.pearsonr(z_test_tsne_track[:, 0], w_spatial_labels)[0])\n",
    "print(scipy.stats.pearsonr(z_test_tsne_track[:, 1], w_spatial_labels)[0])\n",
    "print(scipy.stats.pearsonr(z_test_tsne_track[:, 2], w_spatial_labels)[0])"
   ]
  },
  {
   "cell_type": "markdown",
   "metadata": {},
   "source": [
    "## $W_{ 500}$ Absolute"
   ]
  },
  {
   "cell_type": "code",
   "execution_count": null,
   "metadata": {},
   "outputs": [],
   "source": [
    "#-12\n",
    "W_500_Label_All = np.nanmean(np.abs(np.squeeze(Test_Images[:,-12,:])), axis=1)"
   ]
  },
  {
   "cell_type": "code",
   "execution_count": null,
   "metadata": {},
   "outputs": [],
   "source": [
    "fig = plt.figure(figsize=(16,12))\n",
    "ax = fig.add_subplot(111, projection='3d')\n",
    "\n",
    "cp = ax.scatter(xs=z_test_tsne_track[:, 0], ys=z_test_tsne_track[:, 1], zs=z_test_tsne_track[:, 2], c=W_500_Label_All, cmap=\"Purples\", s=10.0)\n",
    "ax.set_title(\"Mean Absolute Vertical Velocity at \"+r\"$w_{500}$\", fontsize = fz*2.0)\n",
    "#ax.set_xlim(-40,100)\n",
    "#ax.set_ylim(-20,35)\n",
    "cbar = fig.colorbar(cp, pad=0.002)\n",
    "cbar.set_label(label=r\"$ms^{-1}$\", rotation=\"horizontal\", fontsize=fz*1.5, labelpad=30, y = 0.55)\n",
    "\n",
    "print(scipy.stats.pearsonr(z_test_tsne_track[:, 0], W_500_Label_All)[0])\n",
    "print(scipy.stats.pearsonr(z_test_tsne_track[:, 1], W_500_Label_All)[0])\n",
    "print(scipy.stats.pearsonr(z_test_tsne_track[:, 2], W_500_Label_All)[0])"
   ]
  },
  {
   "cell_type": "code",
   "execution_count": null,
   "metadata": {},
   "outputs": [],
   "source": [
    "quintiles = np.percentile(W_500_Label_All, [20,40,60,80])\n",
    "out = np.searchsorted(quintiles, W_500_Label_All)"
   ]
  },
  {
   "cell_type": "code",
   "execution_count": null,
   "metadata": {},
   "outputs": [],
   "source": [
    "cmap = matplotlib.colors.ListedColormap([\"pink\", \"green\", \"blue\",\"red\",\"black\"])\n",
    "fig = plt.figure(figsize=(16,12))\n",
    "ax = fig.add_subplot(111, projection='3d')\n",
    "\n",
    "cp = ax.scatter(xs=z_test_tsne_track[:, 0], ys=z_test_tsne_track[:, 1], zs=z_test_tsne_track[:, 2], c=out, cmap=cmap, s=10.0)\n",
    "ax.set_title(\"W 500 Labeling for All\", fontsize = fz*0.75)\n",
    "#ax.set_xlim(-40,100)\n",
    "#ax.set_ylim(-20,35)\n",
    "cbar = fig.colorbar(cp)\n",
    "cbar.set_label(label=\"Percentiles\", rotation=\"horizontal\", fontsize=fz*0.5, labelpad=30, y = 0.55)\n",
    "cbar.set_ticks([0,1,2,3,4])\n",
    "cbar.set_ticklabels([\"0\",\"20\",\"40\",\"60\",\"80\"])\n",
    "\n",
    "print(scipy.stats.pearsonr(z_test_tsne_track[:, 0], out)[0])\n",
    "print(scipy.stats.pearsonr(z_test_tsne_track[:, 1], out)[0])\n",
    "print(scipy.stats.pearsonr(z_test_tsne_track[:, 2], out)[0])"
   ]
  },
  {
   "cell_type": "markdown",
   "metadata": {},
   "source": [
    "## $W_{ 500}$"
   ]
  },
  {
   "cell_type": "code",
   "execution_count": null,
   "metadata": {},
   "outputs": [],
   "source": [
    "W_500_Label_All_Real = np.nanmean(np.squeeze(Test_Images[:,-12,:]), axis=1)"
   ]
  },
  {
   "cell_type": "code",
   "execution_count": null,
   "metadata": {},
   "outputs": [],
   "source": [
    "fig = plt.figure(figsize=(16,12))\n",
    "ax = fig.add_subplot(111, projection='3d')\n",
    "\n",
    "cp = ax.scatter(xs=z_test_tsne_track[:, 0], ys=z_test_tsne_track[:, 1], zs=z_test_tsne_track[:, 2], c=W_500_Label_All_Real, cmap=\"Purples\", s=10.0)\n",
    "ax.set_title(\"W 500 Labeling for All\", fontsize = fz*0.75)\n",
    "#ax.set_xlim(-40,100)\n",
    "#ax.set_ylim(-20,35)\n",
    "#cbar = fig.colorbar(cp)\n",
    "cbar.set_label(label=\"W 500\", rotation=\"horizontal\", fontsize=fz*0.5, labelpad=30, y = 0.55)\n",
    "\n",
    "print(scipy.stats.pearsonr(z_test_tsne_track[:, 0], W_500_Label_All_Real)[0])\n",
    "print(scipy.stats.pearsonr(z_test_tsne_track[:, 1], W_500_Label_All_Real)[0])\n",
    "print(scipy.stats.pearsonr(z_test_tsne_track[:, 2], W_500_Label_All_Real)[0])"
   ]
  },
  {
   "cell_type": "code",
   "execution_count": null,
   "metadata": {},
   "outputs": [],
   "source": [
    "quintiles = np.percentile(W_500_Label_All_Real, [20,40,60,80])\n",
    "out = np.searchsorted(quintiles, W_500_Label_All_Real)"
   ]
  },
  {
   "cell_type": "code",
   "execution_count": null,
   "metadata": {},
   "outputs": [],
   "source": [
    "cmap = matplotlib.colors.ListedColormap([\"pink\", \"green\", \"blue\",\"red\",\"black\"])\n",
    "fig = plt.figure(figsize=(16,12))\n",
    "ax = fig.add_subplot(111, projection='3d')\n",
    "\n",
    "cp = ax.scatter(xs=z_test_tsne_track[:, 0], ys=z_test_tsne_track[:, 1], zs=z_test_tsne_track[:, 2], c=out, cmap=cmap, s=10.0)\n",
    "ax.set_title(\"W 500 Real Labeling for All\", fontsize = fz*0.75)\n",
    "\n",
    "#ax.set_xlim(-40,100)\n",
    "#ax.set_ylim(-20,35)\n",
    "cbar = fig.colorbar(cp)\n",
    "cbar.set_label(label=\"Percentiles\", rotation=\"horizontal\", fontsize=fz*0.5, labelpad=30, y = 0.55)\n",
    "cbar.set_ticks([0,1,2,3,4])\n",
    "cbar.set_ticklabels([\"0\",\"20\",\"40\",\"60\",\"80\"])\n",
    "\n",
    "print(scipy.stats.pearsonr(z_test_tsne_track[:, 0], out)[0])\n",
    "print(scipy.stats.pearsonr(z_test_tsne_track[:, 1], out)[0])\n",
    "print(scipy.stats.pearsonr(z_test_tsne_track[:, 2], out)[0])"
   ]
  },
  {
   "cell_type": "markdown",
   "metadata": {},
   "source": [
    "## $W_{890}$ ; Top of PBL Absolute"
   ]
  },
  {
   "cell_type": "code",
   "execution_count": null,
   "metadata": {},
   "outputs": [],
   "source": [
    "#-6\n",
    "W_PBL_Label_All = np.nanmean(np.abs(np.squeeze(Test_Images[:,-6,:])), axis=1)"
   ]
  },
  {
   "cell_type": "code",
   "execution_count": null,
   "metadata": {},
   "outputs": [],
   "source": [
    "fig = plt.figure(figsize=(16,12))\n",
    "ax = fig.add_subplot(111, projection='3d')\n",
    "\n",
    "cp = ax.scatter(xs=z_test_tsne_track[:, 0], ys=z_test_tsne_track[:, 1], zs=z_test_tsne_track[:, 2], c=W_PBL_Label_All, cmap=\"Purples\", s=10.0)\n",
    "ax.set_title(\"W PBl Labeling for All\", fontsize = fz*0.75)\n",
    "#ax.set_xlim(-40,100)\n",
    "#ax.set_ylim(-20,35)\n",
    "cbar = fig.colorbar(cp)\n",
    "cbar.set_label(label=\"W 500\", rotation=\"horizontal\", fontsize=fz*0.5, labelpad=30, y = 0.55)\n",
    "\n",
    "print(scipy.stats.pearsonr(z_test_tsne_track[:, 0], W_PBL_Label_All)[0])\n",
    "print(scipy.stats.pearsonr(z_test_tsne_track[:, 1], W_PBL_Label_All)[0])\n",
    "print(scipy.stats.pearsonr(z_test_tsne_track[:, 2], W_PBL_Label_All)[0])"
   ]
  },
  {
   "cell_type": "markdown",
   "metadata": {},
   "source": [
    "## $W_{890}$ ; Top of PBL"
   ]
  },
  {
   "cell_type": "code",
   "execution_count": null,
   "metadata": {},
   "outputs": [],
   "source": [
    "#-6\n",
    "W_PBL_Label_All_Real = np.nanmean(np.squeeze(Test_Images[:,-6,:]), axis=1)"
   ]
  },
  {
   "cell_type": "code",
   "execution_count": null,
   "metadata": {},
   "outputs": [],
   "source": [
    "fig = plt.figure(figsize=(16,12))\n",
    "ax = fig.add_subplot(111, projection='3d')\n",
    "\n",
    "cp = ax.scatter(xs=z_test_tsne_track[:, 0], ys=z_test_tsne_track[:, 1], zs=z_test_tsne_track[:, 2], c=W_PBL_Label_All_Real, cmap=\"Purples\", s=10.0)\n",
    "ax.set_title(\"W PBl Labeling for All\", fontsize = fz*0.75)\n",
    "#ax.set_xlim(-40,100)\n",
    "#ax.set_ylim(-20,35)\n",
    "cbar = fig.colorbar(cp)\n",
    "cbar.set_label(label=\"W 500\", rotation=\"horizontal\", fontsize=fz*0.5, labelpad=30, y = 0.55)\n",
    "\n",
    "print(scipy.stats.pearsonr(z_test_tsne_track[:, 0], W_PBL_Label_All_Real)[0])\n",
    "print(scipy.stats.pearsonr(z_test_tsne_track[:, 1], W_PBL_Label_All_Real)[0])\n",
    "print(scipy.stats.pearsonr(z_test_tsne_track[:, 2], W_PBL_Label_All_Real)[0])"
   ]
  },
  {
   "cell_type": "code",
   "execution_count": null,
   "metadata": {},
   "outputs": [],
   "source": [
    "quintiles = np.percentile(W_PBL_Label_All_Real, [20,40,60,80])\n",
    "out = np.searchsorted(quintiles, W_PBL_Label_All_Real)"
   ]
  },
  {
   "cell_type": "code",
   "execution_count": null,
   "metadata": {},
   "outputs": [],
   "source": [
    "cmap = matplotlib.colors.ListedColormap([\"pink\", \"green\", \"blue\",\"red\",\"black\"])\n",
    "fig = plt.figure(figsize=(16,12))\n",
    "ax = fig.add_subplot(111, projection='3d')\n",
    "\n",
    "cp = ax.scatter(xs=z_test_tsne_track[:, 0], ys=z_test_tsne_track[:, 1], zs=z_test_tsne_track[:, 2], c=out, cmap=cmap, s=10.0)\n",
    "ax.set_title(\"W PBL Real Labeling for All\", fontsize = fz*0.75)\n",
    "#ax.set_xlim(-40,100)\n",
    "#ax.set_ylim(-20,35)\n",
    "cbar = fig.colorbar(cp)\n",
    "cbar.set_label(label=\"Percentiles\", rotation=\"horizontal\", fontsize=fz*0.5, labelpad=30, y = 0.55)\n",
    "cbar.set_ticks([0,1,2,3,4])\n",
    "cbar.set_ticklabels([\"0\",\"20\",\"40\",\"60\",\"80\"])\n",
    "\n",
    "print(scipy.stats.pearsonr(z_test_tsne_track[:, 0], out)[0])\n",
    "print(scipy.stats.pearsonr(z_test_tsne_track[:, 1], out)[0])\n",
    "print(scipy.stats.pearsonr(z_test_tsne_track[:, 2], out)[0])"
   ]
  },
  {
   "cell_type": "markdown",
   "metadata": {},
   "source": [
    "## $ W^{'} W^{'}$ ; Entire Test Dataset"
   ]
  },
  {
   "cell_type": "code",
   "execution_count": null,
   "metadata": {},
   "outputs": [],
   "source": [
    "W_Prime_All = np.empty(shape=(len(Test_Images)))"
   ]
  },
  {
   "cell_type": "code",
   "execution_count": null,
   "metadata": {},
   "outputs": [],
   "source": [
    "All_Mean = np.nanmean(Test_Images, axis=0)\n",
    "for i in range(len(Test_Images)):\n",
    "    W_Prime_All[i] = np.nanmean(np.square(np.squeeze(Test_Images[i,:,:])-All_Mean))"
   ]
  },
  {
   "cell_type": "code",
   "execution_count": null,
   "metadata": {},
   "outputs": [],
   "source": [
    "fig = plt.figure(figsize=(16,12))\n",
    "ax = fig.add_subplot(111, projection='3d')\n",
    "\n",
    "cp = ax.scatter(xs=z_test_tsne_track[:, 0], ys=z_test_tsne_track[:, 1], zs=z_test_tsne_track[:, 2], c=W_Prime_All, cmap=\"Purples\", s=10.0)\n",
    "ax.set_title(\"W Prime W Prime statistic for All\", fontsize = fz*0.75)\n",
    "#ax.set_xlim(-40,100)\n",
    "#ax.set_ylim(-20,35)\n",
    "cbar = fig.colorbar(cp)\n",
    "cbar.set_label(label=\"W prime - W prime\", rotation=\"horizontal\", fontsize=fz*0.5, labelpad=30, y = 0.55)\n",
    "\n",
    "print(scipy.stats.pearsonr(z_test_tsne_track[:, 0], W_Prime_All)[0])\n",
    "print(scipy.stats.pearsonr(z_test_tsne_track[:, 1], W_Prime_All)[0])\n",
    "print(scipy.stats.pearsonr(z_test_tsne_track[:, 2], W_Prime_All)[0])"
   ]
  },
  {
   "cell_type": "code",
   "execution_count": null,
   "metadata": {},
   "outputs": [],
   "source": [
    "quintiles = np.percentile(W_Prime_All, [20,40,60,80])\n",
    "out = np.searchsorted(quintiles, W_Prime_All)"
   ]
  },
  {
   "cell_type": "code",
   "execution_count": null,
   "metadata": {},
   "outputs": [],
   "source": [
    "cmap = matplotlib.colors.ListedColormap([\"pink\", \"green\", \"blue\",\"red\",\"black\"])\n",
    "fig = plt.figure(figsize=(16,12))\n",
    "ax = fig.add_subplot(111, projection='3d')\n",
    "\n",
    "cp = ax.scatter(xs=z_test_tsne_track[:, 0], ys=z_test_tsne_track[:, 1], zs=z_test_tsne_track[:, 2], c=out, cmap=cmap, s=10.0)\n",
    "ax.set_title(\"W Prime W Prime All\", fontsize = fz*0.75)\n",
    "#ax.set_xlim(-40,100)\n",
    "#ax.set_ylim(-20,35)\n",
    "cbar = fig.colorbar(cp)\n",
    "cbar.set_label(label=\"Percentiles\", rotation=\"horizontal\", fontsize=fz*0.5, labelpad=30, y = 0.55)\n",
    "cbar.set_ticks([0,1,2,3,4])\n",
    "cbar.set_ticklabels([\"0\",\"20\",\"40\",\"60\",\"80\"])\n",
    "\n",
    "print(scipy.stats.pearsonr(z_test_tsne_track[:, 0], out)[0])\n",
    "print(scipy.stats.pearsonr(z_test_tsne_track[:, 1], out)[0])\n",
    "print(scipy.stats.pearsonr(z_test_tsne_track[:, 2], out)[0])"
   ]
  },
  {
   "cell_type": "markdown",
   "metadata": {},
   "source": [
    "## $ W^{'} W^{'}$ ; Smaller Subset"
   ]
  },
  {
   "cell_type": "markdown",
   "metadata": {},
   "source": [
    "https://scikit-learn.org/stable/modules/generated/sklearn.neighbors.KDTree.html"
   ]
  },
  {
   "cell_type": "code",
   "execution_count": null,
   "metadata": {},
   "outputs": [],
   "source": [
    "W_Prime_All_Subset = np.empty(shape=(len(Test_Images)))"
   ]
  },
  {
   "cell_type": "code",
   "execution_count": null,
   "metadata": {},
   "outputs": [],
   "source": [
    "tree = KDTree(z_test_tsne_track)\n",
    "for i in range(len(Test_Images)):\n",
    "    dist, ind = tree.query(z_test_tsne_track[i,:].reshape(1,-1), k=50) \n",
    "    temp_mean = np.nanmean(Test_Images[ind,:,:], axis=0)\n",
    "    W_Prime_All_Subset[i] = np.nanmean(np.square(np.squeeze(Test_Images[i,:,:])-temp_mean))"
   ]
  },
  {
   "cell_type": "code",
   "execution_count": null,
   "metadata": {},
   "outputs": [],
   "source": [
    "fig = plt.figure(figsize=(16,12))\n",
    "ax = fig.add_subplot(111, projection='3d')\n",
    "\n",
    "cp = ax.scatter(xs=z_test_tsne_track[:, 0], ys=z_test_tsne_track[:, 1], zs=z_test_tsne_track[:, 2], c=W_Prime_All_Subset, cmap=\"Purples\", s=10.0)\n",
    "ax.set_title(\"W Prime W Prime statistic for All\", fontsize = fz*0.75)\n",
    "#ax.set_xlim(-40,100)\n",
    "#ax.set_ylim(-20,35)\n",
    "cbar = fig.colorbar(cp)\n",
    "cbar.set_label(label=\"W prime - W prime\", rotation=\"horizontal\", fontsize=fz*0.5, labelpad=30, y = 0.55)\n",
    "\n",
    "print(scipy.stats.pearsonr(z_test_tsne_track[:, 0], W_Prime_All_Subset)[0])\n",
    "print(scipy.stats.pearsonr(z_test_tsne_track[:, 1], W_Prime_All_Subset)[0])\n",
    "print(scipy.stats.pearsonr(z_test_tsne_track[:, 2], W_Prime_All_Subset)[0])"
   ]
  },
  {
   "cell_type": "code",
   "execution_count": null,
   "metadata": {},
   "outputs": [],
   "source": [
    "quintiles = np.percentile(W_Prime_All_Subset, [20,40,60,80])\n",
    "out = np.searchsorted(quintiles,W_Prime_All_Subset)"
   ]
  },
  {
   "cell_type": "code",
   "execution_count": null,
   "metadata": {},
   "outputs": [],
   "source": [
    "cmap = matplotlib.colors.ListedColormap([\"pink\", \"green\", \"blue\",\"red\",\"black\"])\n",
    "fig = plt.figure(figsize=(16,12))\n",
    "ax = fig.add_subplot(111, projection='3d')\n",
    "\n",
    "cp = ax.scatter(xs=z_test_tsne_track[:, 0], ys=z_test_tsne_track[:, 1], zs=z_test_tsne_track[:, 2], c=out, cmap=cmap, s=10.0)\n",
    "ax.set_title(\"W Prime W Prime Subset\", fontsize = fz*0.75)\n",
    "#ax.set_xlim(-40,100)\n",
    "#ax.set_ylim(-20,35)\n",
    "cbar = fig.colorbar(cp)\n",
    "cbar.set_label(label=\"Percentiles\", rotation=\"horizontal\", fontsize=fz*0.5, labelpad=30, y = 0.55)\n",
    "cbar.set_ticks([0,1,2,3,4])\n",
    "cbar.set_ticklabels([\"0\",\"20\",\"40\",\"60\",\"80\"])\n",
    "\n",
    "print(scipy.stats.pearsonr(z_test_tsne_track[:, 0], out)[0])\n",
    "print(scipy.stats.pearsonr(z_test_tsne_track[:, 1], out)[0])\n",
    "print(scipy.stats.pearsonr(z_test_tsne_track[:, 2], out)[0])"
   ]
  },
  {
   "cell_type": "markdown",
   "metadata": {},
   "source": [
    "# External Metrics"
   ]
  },
  {
   "cell_type": "code",
   "execution_count": null,
   "metadata": {},
   "outputs": [],
   "source": [
    "path = '/DFS-L/DATA/pritchard/gmooers/Workflow/MAPS/SPCAM/100_Days/New_SPCAM5/archive/TimestepOutput_Neuralnet_SPCAM_216/atm/hist/TimestepOutput_Neuralnet_SPCAM_216.cam.h1.2009-01-19-4*'\n",
    "real_ds = xr.open_mfdataset(path)\n",
    "#precip rate\n",
    "P_CRM = real_ds.CRM_PREC_LON_0e_to_360e_LAT_20s_to_20n\n",
    "#column water vapor, column saturation fraction\n",
    "Q_CRM = real_ds.CRM_QV_LON_0e_to_360e_LAT_20s_to_20n\n",
    "#DSE, lower tropospheric stability\n",
    "T_CRM = real_ds.CRM_T_LON_0e_to_360e_LAT_20s_to_20n\n",
    "#latitude \n",
    "latitudes = real_ds.LAT_20s_to_20n\n",
    "\n",
    "#gms\n",
    "U_GCM = real_ds.U10_LON_0e_to_360e_LAT_20s_to_20n\n",
    "V_GCM = real_ds.VAP_LON_0e_to_360e_LAT_20s_to_20n\n",
    "T_GCM = real_ds.T_LON_0e_to_360e_LAT_20s_to_20n\n",
    "Q_GCM = real_ds.QAP_LON_0e_to_360e_LAT_20s_to_20n\n",
    "\n",
    "latitudes = xr.DataArray.squeeze(latitudes).values\n",
    "P_CRM = xr.DataArray.squeeze(P_CRM).values\n",
    "Q_CRM = xr.DataArray.squeeze(Q_CRM).values\n",
    "T_CRM = xr.DataArray.squeeze(T_CRM).values\n",
    "\n",
    "U_GCM = xr.DataArray.squeeze(U_GCM).values\n",
    "V_GCM = xr.DataArray.squeeze(V_GCM).values\n",
    "T_GCM = xr.DataArray.squeeze(T_GCM).values\n",
    "Q_GCM = xr.DataArray.squeeze(Q_GCM).values\n",
    "\n",
    "path = '/DFS-L/DATA/pritchard/gmooers/Workflow/MAPS/SPCAM/100_Days/New_SPCAM5/archive/TimestepOutput_Neuralnet_SPCAM_216/atm/hist/TimestepOutput_Neuralnet_SPCAM_216.cam.h0.2008-11.nc'\n",
    "next_ds = xr.open_dataset(path)\n",
    "\n",
    "#land fraction\n",
    "land_frac = next_ds.LANDFRAC\n",
    "land_frac = xr.DataArray.squeeze(land_frac).values"
   ]
  },
  {
   "cell_type": "markdown",
   "metadata": {},
   "source": [
    "## Land Fraction"
   ]
  },
  {
   "cell_type": "code",
   "execution_count": null,
   "metadata": {},
   "outputs": [],
   "source": [
    "trop_land = land_frac[37:59, :]\n",
    "geo_labels = np.zeros(shape=(int(len(z_test_tsne_track)/(22*144)), 22, 144))\n",
    "geo_labels[:,:,:] = np.nan\n",
    "\n",
    "for i in range(len(geo_labels)):\n",
    "    geo_labels[i,:,:] = trop_land[:,:]\n",
    "    \n",
    "geo_label_final = np.reshape(geo_labels, (geo_labels.size))"
   ]
  },
  {
   "cell_type": "code",
   "execution_count": null,
   "metadata": {},
   "outputs": [],
   "source": [
    "fig = plt.figure(figsize=(16,12))\n",
    "ax = fig.add_subplot(111, projection='3d')\n",
    "\n",
    "cp = ax.scatter(xs=z_test_tsne_track[:, 0], ys=z_test_tsne_track[:, 1], zs=z_test_tsne_track[:, 2], c=geo_label_final, cmap=\"winter\", s=10.0)\n",
    "ax.set_title(\"Land Fraction\", fontsize = fz*2)\n",
    "#ax.set_xlim(-40,100)\n",
    "#ax.set_ylim(-20,35)\n",
    "cbar = fig.colorbar(cp, pad=0.002)\n",
    "cbar.set_label(label=\"Land Frac.\", rotation=\"horizontal\", fontsize=fz, labelpad=30, y = 0.55)\n",
    "\n",
    "print(scipy.stats.pearsonr(z_test_tsne_track[:, 0], geo_label_final)[0])\n",
    "print(scipy.stats.pearsonr(z_test_tsne_track[:, 1], geo_label_final)[0])\n",
    "print(scipy.stats.pearsonr(z_test_tsne_track[:, 2], geo_label_final)[0])"
   ]
  },
  {
   "cell_type": "code",
   "execution_count": null,
   "metadata": {},
   "outputs": [],
   "source": [
    "quintiles = np.percentile(geo_label_final, [20,40,60,80])\n",
    "out = np.searchsorted(quintiles,geo_label_final)"
   ]
  },
  {
   "cell_type": "code",
   "execution_count": null,
   "metadata": {},
   "outputs": [],
   "source": [
    "cmap = matplotlib.colors.ListedColormap([\"pink\", \"green\", \"blue\",\"red\",\"black\"])\n",
    "fig = plt.figure(figsize=(16,12))\n",
    "ax = fig.add_subplot(111, projection='3d')\n",
    "\n",
    "cp = ax.scatter(xs=z_test_tsne_track[:, 0], ys=z_test_tsne_track[:, 1], zs=z_test_tsne_track[:, 2], c=out, cmap=cmap, s=10.0)\n",
    "ax.set_title(\"Land Fraction\", fontsize = fz*0.75)\n",
    "#ax.set_xlim(-40,100)\n",
    "#ax.set_ylim(-20,35)\n",
    "cbar = fig.colorbar(cp)\n",
    "cbar.set_label(label=\"Percentiles\", rotation=\"horizontal\", fontsize=fz*0.5, labelpad=30, y = 0.55)\n",
    "cbar.set_ticks([0,1,2,3,4])\n",
    "cbar.set_ticklabels([\"0\",\"20\",\"40\",\"60\",\"80\"])\n",
    "\n",
    "print(scipy.stats.pearsonr(z_test_tsne_track[:, 0], out)[0])\n",
    "print(scipy.stats.pearsonr(z_test_tsne_track[:, 1], out)[0])\n",
    "print(scipy.stats.pearsonr(z_test_tsne_track[:, 2], out)[0])"
   ]
  },
  {
   "cell_type": "markdown",
   "metadata": {},
   "source": [
    "## Latitude"
   ]
  },
  {
   "cell_type": "code",
   "execution_count": null,
   "metadata": {},
   "outputs": [],
   "source": [
    "lat_labels = np.zeros(shape=(int(len(z_test_tsne_track)/(22*144)), 22, 144))\n",
    "lat_labels[:,:,:] = np.nan\n",
    "\n",
    "temp_lats = np.abs(latitudes)\n",
    "scaled_lats = np.interp(temp_lats, (np.min(temp_lats), np.max(temp_lats)), (0, +1))\n",
    "\n",
    "for i in range(len(lat_labels)):\n",
    "    for j in range(len(lat_labels[0][0])):\n",
    "        lat_labels[i,:,j] = scaled_lats\n",
    "        \n",
    "lat_label_final = np.reshape(lat_labels, (lat_labels.size))"
   ]
  },
  {
   "cell_type": "code",
   "execution_count": null,
   "metadata": {},
   "outputs": [],
   "source": [
    "fig = plt.figure(figsize=(16,12))\n",
    "ax = fig.add_subplot(111, projection='3d')\n",
    "\n",
    "cp = ax.scatter(xs=z_test_tsne_track[:, 0], ys=z_test_tsne_track[:, 1], zs=z_test_tsne_track[:, 2], c=lat_label_final, cmap=\"Purples\", s=10.0)\n",
    "ax.set_title(\"Latitude Labeling\", fontsize = fz*0.75)\n",
    "#ax.set_xlim(-40,100)\n",
    "#ax.set_ylim(-20,35)\n",
    "cbar = fig.colorbar(cp)\n",
    "cbar.set_label(label=\"Distance From Equator\", rotation=\"horizontal\", fontsize=fz*0.5, labelpad=30, y = 0.55)\n",
    "\n",
    "print(scipy.stats.pearsonr(z_test_tsne_track[:, 0], lat_label_final)[0])\n",
    "print(scipy.stats.pearsonr(z_test_tsne_track[:, 1], lat_label_final)[0])\n",
    "print(scipy.stats.pearsonr(z_test_tsne_track[:, 2], lat_label_final)[0])"
   ]
  },
  {
   "cell_type": "code",
   "execution_count": null,
   "metadata": {},
   "outputs": [],
   "source": [
    "quintiles = np.percentile(lat_label_final, [20,40,60,80])\n",
    "out = np.searchsorted(quintiles,lat_label_final)"
   ]
  },
  {
   "cell_type": "code",
   "execution_count": null,
   "metadata": {},
   "outputs": [],
   "source": [
    "cmap = matplotlib.colors.ListedColormap([\"pink\", \"green\", \"blue\",\"red\",\"black\"])\n",
    "fig = plt.figure(figsize=(16,12))\n",
    "ax = fig.add_subplot(111, projection='3d')\n",
    "\n",
    "cp = ax.scatter(xs=z_test_tsne_track[:, 0], ys=z_test_tsne_track[:, 1], zs=z_test_tsne_track[:, 2], c=out, cmap=cmap, s=10.0)\n",
    "ax.set_title(\"Latitude Labeling\", fontsize = fz*0.75)\n",
    "#ax.set_xlim(-40,100)\n",
    "#ax.set_ylim(-20,35)\n",
    "cbar = fig.colorbar(cp)\n",
    "cbar.set_label(label=\"Percentiles\", rotation=\"horizontal\", fontsize=fz*0.5, labelpad=30, y = 0.55)\n",
    "cbar.set_ticks([0,1,2,3,4])\n",
    "cbar.set_ticklabels([\"0\",\"20\",\"40\",\"60\",\"80\"])\n",
    "\n",
    "print(scipy.stats.pearsonr(z_test_tsne_track[:, 0], out)[0])\n",
    "print(scipy.stats.pearsonr(z_test_tsne_track[:, 1], out)[0])\n",
    "print(scipy.stats.pearsonr(z_test_tsne_track[:, 2], out)[0])"
   ]
  },
  {
   "cell_type": "markdown",
   "metadata": {},
   "source": [
    "## Precipitation Rate"
   ]
  },
  {
   "cell_type": "code",
   "execution_count": null,
   "metadata": {},
   "outputs": [],
   "source": [
    "P_CRM_Fixed = P_CRM*60*60*24\n",
    "P_CRM_Label = np.nansum(P_CRM_Fixed, axis = 1)\n",
    "P_CRM_Label_final = np.reshape(P_CRM_Label, (P_CRM_Label.size))"
   ]
  },
  {
   "cell_type": "code",
   "execution_count": null,
   "metadata": {},
   "outputs": [],
   "source": [
    "fig = plt.figure(figsize=(16,12))\n",
    "ax = fig.add_subplot(111, projection='3d')\n",
    "\n",
    "cp = ax.scatter(xs=z_test_tsne_track[:, 0], ys=z_test_tsne_track[:, 1], zs=z_test_tsne_track[:, 2], c=P_CRM_Label_final, cmap=\"Greens\", s=10.0)\n",
    "ax.set_title(\"Precipitation Labeling\", fontsize = fz*0.75)\n",
    "#ax.set_xlim(-40,100)\n",
    "#ax.set_ylim(-20,35)\n",
    "cbar = fig.colorbar(cp)\n",
    "cbar.set_label(label=\"Precip. Rate\", rotation=\"horizontal\", fontsize=fz*0.5, labelpad=30, y = 0.55)\n",
    "\n",
    "print(scipy.stats.pearsonr(z_test_tsne_track[:, 0], P_CRM_Label_final)[0])\n",
    "print(scipy.stats.pearsonr(z_test_tsne_track[:, 1], P_CRM_Label_final)[0])\n",
    "print(scipy.stats.pearsonr(z_test_tsne_track[:, 2], P_CRM_Label_final)[0])"
   ]
  },
  {
   "cell_type": "code",
   "execution_count": null,
   "metadata": {},
   "outputs": [],
   "source": [
    "quintiles = np.percentile(P_CRM_Label_final, [20,40,60,80])\n",
    "out = np.searchsorted(quintiles,P_CRM_Label_final)"
   ]
  },
  {
   "cell_type": "code",
   "execution_count": null,
   "metadata": {},
   "outputs": [],
   "source": [
    "cmap = matplotlib.colors.ListedColormap([\"pink\", \"green\", \"blue\",\"red\",\"black\"])\n",
    "fig = plt.figure(figsize=(16,12))\n",
    "ax = fig.add_subplot(111, projection='3d')\n",
    "\n",
    "cp = ax.scatter(xs=z_test_tsne_track[:, 0], ys=z_test_tsne_track[:, 1], zs=z_test_tsne_track[:, 2], c=out, cmap=cmap, s=10.0)\n",
    "ax.set_title(\"Precipitation Labeling\", fontsize = fz*0.75)\n",
    "#ax.set_xlim(-40,100)\n",
    "#ax.set_ylim(-20,35)\n",
    "cbar = fig.colorbar(cp)\n",
    "cbar.set_label(label=\"Percentiles\", rotation=\"horizontal\", fontsize=fz*0.5, labelpad=30, y = 0.55)\n",
    "cbar.set_ticks([0,1,2,3,4])\n",
    "cbar.set_ticklabels([\"0\",\"20\",\"40\",\"60\",\"80\"])\n",
    "\n",
    "print(scipy.stats.pearsonr(z_test_tsne_track[:, 0], out)[0])\n",
    "print(scipy.stats.pearsonr(z_test_tsne_track[:, 1], out)[0])\n",
    "print(scipy.stats.pearsonr(z_test_tsne_track[:, 2], out)[0])"
   ]
  },
  {
   "cell_type": "code",
   "execution_count": null,
   "metadata": {},
   "outputs": [],
   "source": [
    "others = netCDF4.Dataset(\"/fast/gmooers/Raw_Data/extras/TimestepOutput_Neuralnet_SPCAM_216.cam.h1.2009-01-01-72000.nc\")\n",
    "plev = np.array(others.variables['lev'])\n",
    "ps = np.array(others.variables['PS'])\n",
    "g = 9.81 #m/s^2\n",
    "hyai = np.array(others.variables['hyai'])\n",
    "hybi = np.array(others.variables['hybi'])\n",
    "#print(hyai.shape)\n",
    "#print(hyai)\n",
    "cp = 1004.0\n",
    "L = 2256000.0\n",
    "PS = 1e5\n",
    "P0 = 1e5\n",
    "P = P0*hyai+PS*hybi # Total pressure [Pa]\n",
    "dp = P[1:]-P[:-1] # Differential pressure [Pa]\n",
    "Scalar_Q_CRM = np.nansum(np.nansum(Q_CRM*dp[None, :, None, None, None]*L/g, axis=1),axis=1)\n",
    "Scalar_T_CRM = np.nansum(np.nansum(T_CRM*dp[None, :, None, None, None]*cp/g, axis=1), axis=1)\n",
    "Q_CRM_Label_final = np.reshape(Scalar_Q_CRM, (Scalar_Q_CRM.size))\n",
    "T_CRM_Label_final = np.reshape(Scalar_T_CRM, (Scalar_T_CRM.size))"
   ]
  },
  {
   "cell_type": "markdown",
   "metadata": {},
   "source": [
    "## Column Dry Static Energy"
   ]
  },
  {
   "cell_type": "code",
   "execution_count": null,
   "metadata": {},
   "outputs": [],
   "source": [
    "fig = plt.figure(figsize=(16,12))\n",
    "ax = fig.add_subplot(111, projection='3d')\n",
    "\n",
    "cp = ax.scatter(xs=z_test_tsne_track[:, 0], ys=z_test_tsne_track[:, 1], zs=z_test_tsne_track[:, 2], c=T_CRM_Label_final, cmap=\"Purples\", s=10.0)\n",
    "ax.set_title(\"Column DSE Labeling\", fontsize = fz*0.75)\n",
    "#ax.set_xlim(-40,100)\n",
    "#ax.set_ylim(-20,35)\n",
    "cbar = fig.colorbar(cp)\n",
    "cbar.set_label(label=\"W/m^2\", rotation=\"horizontal\", fontsize=fz*0.5, labelpad=30, y = 0.55)\n",
    "print(scipy.stats.pearsonr(z_test_tsne_track[:, 0], T_CRM_Label_final)[0])\n",
    "print(scipy.stats.pearsonr(z_test_tsne_track[:, 1], T_CRM_Label_final)[0])\n",
    "print(scipy.stats.pearsonr(z_test_tsne_track[:, 2], T_CRM_Label_final)[0])"
   ]
  },
  {
   "cell_type": "code",
   "execution_count": null,
   "metadata": {},
   "outputs": [],
   "source": [
    "quintiles = np.percentile(T_CRM_Label_final, [20,40,60,80])\n",
    "out = np.searchsorted(quintiles,T_CRM_Label_final)"
   ]
  },
  {
   "cell_type": "code",
   "execution_count": null,
   "metadata": {},
   "outputs": [],
   "source": [
    "cmap = matplotlib.colors.ListedColormap([\"pink\", \"green\", \"blue\",\"red\",\"black\"])\n",
    "fig = plt.figure(figsize=(16,12))\n",
    "ax = fig.add_subplot(111, projection='3d')\n",
    "\n",
    "cp = ax.scatter(xs=z_test_tsne_track[:, 0], ys=z_test_tsne_track[:, 1], zs=z_test_tsne_track[:, 2], c=out, cmap=cmap, s=10.0)\n",
    "ax.set_title(\"Column DSE Labeling\", fontsize = fz*0.75)\n",
    "#ax.set_xlim(-40,100)\n",
    "#ax.set_ylim(-20,35)\n",
    "cbar = fig.colorbar(cp)\n",
    "cbar.set_label(label=\"Percentiles\", rotation=\"horizontal\", fontsize=fz*0.5, labelpad=30, y = 0.55)\n",
    "cbar.set_ticks([0,1,2,3,4])\n",
    "cbar.set_ticklabels([\"0\",\"20\",\"40\",\"60\",\"80\"])\n",
    "\n",
    "print(scipy.stats.pearsonr(z_test_tsne_track[:, 0], out)[0])\n",
    "print(scipy.stats.pearsonr(z_test_tsne_track[:, 1], out)[0])\n",
    "print(scipy.stats.pearsonr(z_test_tsne_track[:, 2], out)[0])"
   ]
  },
  {
   "cell_type": "markdown",
   "metadata": {},
   "source": [
    "## Column Water Vapor"
   ]
  },
  {
   "cell_type": "code",
   "execution_count": null,
   "metadata": {},
   "outputs": [],
   "source": [
    "fig = plt.figure(figsize=(16,12))\n",
    "ax = fig.add_subplot(111, projection='3d')\n",
    "\n",
    "cp = ax.scatter(xs=z_test_tsne_track[:, 0], ys=z_test_tsne_track[:, 1], zs=z_test_tsne_track[:, 2], c=Q_CRM_Label_final, cmap=\"Purples\", s=10.0)\n",
    "ax.set_title(\"Column MSE Labeling\", fontsize = fz*2.0)\n",
    "#ax.set_xlim(-40,100)\n",
    "#ax.set_ylim(-20,35)\n",
    "cbar = fig.colorbar(cp, pad=0.02)\n",
    "cbar.set_label(label=r\"$wm^{-2}$\", rotation=\"horizontal\", fontsize=fz, labelpad=30, y = 0.50)\n",
    "\n",
    "print(scipy.stats.pearsonr(z_test_tsne_track[:, 0], Q_CRM_Label_final)[0])\n",
    "print(scipy.stats.pearsonr(z_test_tsne_track[:, 1], Q_CRM_Label_final)[0])\n",
    "print(scipy.stats.pearsonr(z_test_tsne_track[:, 2], Q_CRM_Label_final)[0])"
   ]
  },
  {
   "cell_type": "code",
   "execution_count": null,
   "metadata": {},
   "outputs": [],
   "source": [
    "quintiles = np.percentile(Q_CRM_Label_final, [20,40,60,80])\n",
    "out = np.searchsorted(quintiles,Q_CRM_Label_final)"
   ]
  },
  {
   "cell_type": "code",
   "execution_count": null,
   "metadata": {},
   "outputs": [],
   "source": [
    "cmap = matplotlib.colors.ListedColormap([\"pink\", \"green\", \"blue\",\"red\",\"black\"])\n",
    "fig = plt.figure(figsize=(16,12))\n",
    "ax = fig.add_subplot(111, projection='3d')\n",
    "\n",
    "cp = ax.scatter(xs=z_test_tsne_track[:, 0], ys=z_test_tsne_track[:, 1], zs=z_test_tsne_track[:, 2], c=out, cmap=cmap, s=10.0)\n",
    "ax.set_title(\"Column Vapor Labeling\", fontsize = fz*0.75)\n",
    "#ax.set_xlim(-40,100)\n",
    "#ax.set_ylim(-20,35)\n",
    "cbar = fig.colorbar(cp)\n",
    "cbar.set_label(label=\"Percentiles\", rotation=\"horizontal\", fontsize=fz*0.5, labelpad=30, y = 0.55)\n",
    "cbar.set_ticks([0,1,2,3,4])\n",
    "cbar.set_ticklabels([\"0\",\"20\",\"40\",\"60\",\"80\"])\n",
    "\n",
    "print(scipy.stats.pearsonr(z_test_tsne_track[:, 0], out)[0])\n",
    "print(scipy.stats.pearsonr(z_test_tsne_track[:, 1], out)[0])\n",
    "print(scipy.stats.pearsonr(z_test_tsne_track[:, 2], out)[0])"
   ]
  },
  {
   "cell_type": "markdown",
   "metadata": {},
   "source": [
    "## Lower Tropospheric Stability"
   ]
  },
  {
   "cell_type": "code",
   "execution_count": null,
   "metadata": {},
   "outputs": [],
   "source": [
    "T_Top = np.squeeze(T_CRM[:,-10,:,:,:])\n",
    "T_Top_Theta = T_Top*(691.0/1013.25)**(287.0/1004.0)\n",
    "\n",
    "T_Bottom = np.squeeze(T_CRM[:,-1,:,:,:])\n",
    "LTS = T_Top_Theta - T_Bottom\n",
    "LTS = np.nansum(LTS, axis=1)\n",
    "LTS_Label_final = np.reshape(LTS, (LTS.size))"
   ]
  },
  {
   "cell_type": "code",
   "execution_count": null,
   "metadata": {},
   "outputs": [],
   "source": [
    "fig = plt.figure(figsize=(16,12))\n",
    "ax = fig.add_subplot(111, projection='3d')\n",
    "\n",
    "cp = ax.scatter(xs=z_test_tsne_track[:, 0], ys=z_test_tsne_track[:, 1], zs=z_test_tsne_track[:, 2], c=LTS_Label_final, cmap=\"Purples\", s=10.0)\n",
    "ax.set_title(\"Lower Tropospheric Stability Labeling\", fontsize = fz*0.75)\n",
    "#ax.set_xlim(-40,100)\n",
    "#ax.set_ylim(-20,35)\n",
    "cbar = fig.colorbar(cp)\n",
    "cbar.set_label(label=\"LTS\", rotation=\"horizontal\", fontsize=fz*0.5, labelpad=30, y = 0.55)\n",
    "\n",
    "print(scipy.stats.pearsonr(z_test_tsne_track[:, 0], LTS_Label_final)[0])\n",
    "print(scipy.stats.pearsonr(z_test_tsne_track[:, 1], LTS_Label_final)[0])\n",
    "print(scipy.stats.pearsonr(z_test_tsne_track[:, 2], LTS_Label_final)[0])"
   ]
  },
  {
   "cell_type": "code",
   "execution_count": null,
   "metadata": {},
   "outputs": [],
   "source": [
    "quintiles = np.percentile(LTS_Label_final, [20,40,60,80])\n",
    "out = np.searchsorted(quintiles,LTS_Label_final)"
   ]
  },
  {
   "cell_type": "code",
   "execution_count": null,
   "metadata": {},
   "outputs": [],
   "source": [
    "cmap = matplotlib.colors.ListedColormap([\"pink\", \"green\", \"blue\",\"red\",\"black\"])\n",
    "fig = plt.figure(figsize=(16,12))\n",
    "ax = fig.add_subplot(111, projection='3d')\n",
    "\n",
    "cp = ax.scatter(xs=z_test_tsne_track[:, 0], ys=z_test_tsne_track[:, 1], zs=z_test_tsne_track[:, 2], c=out, cmap=cmap, s=10.0)\n",
    "ax.set_title(\"LTS Labeling\", fontsize = fz*0.75)\n",
    "#ax.set_xlim(-40,100)\n",
    "#ax.set_ylim(-20,35)\n",
    "cbar = fig.colorbar(cp)\n",
    "cbar.set_label(label=\"Percentiles\", rotation=\"horizontal\", fontsize=fz*0.5, labelpad=30, y = 0.55)\n",
    "cbar.set_ticks([0,1,2,3,4])\n",
    "cbar.set_ticklabels([\"0\",\"20\",\"40\",\"60\",\"80\"])\n",
    "\n",
    "print(scipy.stats.pearsonr(z_test_tsne_track[:, 0], out)[0])\n",
    "print(scipy.stats.pearsonr(z_test_tsne_track[:, 1], out)[0])\n",
    "print(scipy.stats.pearsonr(z_test_tsne_track[:, 2], out)[0])"
   ]
  },
  {
   "cell_type": "markdown",
   "metadata": {},
   "source": [
    "## Column Saturation Fraction"
   ]
  },
  {
   "cell_type": "markdown",
   "metadata": {},
   "source": [
    "http://cms.ncas.ac.uk/documents/vn4.5/p029.pdf"
   ]
  },
  {
   "cell_type": "code",
   "execution_count": null,
   "metadata": {},
   "outputs": [],
   "source": [
    "def eliq(T):\n",
    "    a_liq = np.array([-0.976195544e-15,-0.952447341e-13,0.640689451e-10,0.206739458e-7,0.302950461e-5,0.264847430e-3,0.142986287e-1,0.443987641,6.11239921]);\n",
    "    c_liq = -80\n",
    "    T0 = 273.16\n",
    "    return 100*np.polyval(a_liq,np.maximum(c_liq,T-T0))\n",
    "\n",
    "def eice(T):\n",
    "    a_ice = np.array([0.252751365e-14,0.146898966e-11,0.385852041e-9,0.602588177e-7,0.615021634e-5,0.420895665e-3,0.188439774e-1,0.503160820,6.11147274]);\n",
    "    c_ice = np.array([273.15,185,-100,0.00763685,0.000151069,7.48215e-07])\n",
    "    T0 = 273.16\n",
    "    return (T>c_ice[0])*eliq(T)+\\\n",
    "(T<=c_ice[0])*(T>c_ice[1])*100*np.polyval(a_ice,T-T0)+\\\n",
    "(T<=c_ice[1])*100*(c_ice[3]+np.maximum(c_ice[2],T-T0)*(c_ice[4]+np.maximum(c_ice[2],T-T0)*c_ice[5]))\n",
    "\n",
    "def esat(T):\n",
    "    T0 = 273.16\n",
    "    T00 = 253.16\n",
    "    omega = np.maximum(0,np.minimum(1,(T-T00)/(T0-T00)))\n",
    "    \n",
    "    return (T>T0)*eliq(T)+(T<T00)*eice(T)+(T<=T0)*(T>=T00)*(omega*eliq(T)+(1-omega)*eice(T))\n",
    "\n",
    "\n",
    "\n",
    "def qv(T,RH,P0,PS,hyam,hybm):\n",
    "    R = 287\n",
    "    Rv = 461\n",
    "    #p = np.moveaxis((hyam*P0+hybm*PS),0,1) # Total pressure (Pa)\n",
    "    p = hyam*P0+hybm*PS\n",
    "    return R*esat(T)*RH/(Rv*p[None,:-1,None,None])"
   ]
  },
  {
   "cell_type": "code",
   "execution_count": null,
   "metadata": {},
   "outputs": [],
   "source": [
    "GCM_Q = real_ds.Q_LON_0e_to_360e_LAT_20s_to_20n.values\n",
    "GCM_T = real_ds.T_LON_0e_to_360e_LAT_20s_to_20n.values\n",
    "CSF_Top = np.nansum(GCM_Q*dp[None,:,None,None]/g, axis=1)\n",
    "\n",
    "Q_sat = qv(GCM_T,1.0,P0,PS,hyai,hybi)\n",
    "CSF_bottom = np.nansum(Q_sat*dp[None,:,None,None]/g, axis=1)\n",
    "CSF = (CSF_Top/CSF_bottom)\n",
    "CSF_Label_final = np.reshape(CSF, (CSF.size))"
   ]
  },
  {
   "cell_type": "code",
   "execution_count": null,
   "metadata": {},
   "outputs": [],
   "source": [
    "scipy.stats.describe(CSF_Label_final)"
   ]
  },
  {
   "cell_type": "code",
   "execution_count": null,
   "metadata": {},
   "outputs": [],
   "source": [
    "fig = plt.figure(figsize=(16,12))\n",
    "ax = fig.add_subplot(111, projection='3d')\n",
    "\n",
    "cp = ax.scatter(xs=z_test_tsne_track[:, 0], ys=z_test_tsne_track[:, 1], zs=z_test_tsne_track[:, 2], c=CSF_Label_final, cmap=\"Greens\", s=10.0)\n",
    "ax.set_title(\"Column Saturation Fraction Labeling\", fontsize = fz*0.75)\n",
    "#ax.set_xlim(-40,100)\n",
    "#ax.set_ylim(-20,35)\n",
    "cbar = fig.colorbar(cp)\n",
    "cbar.set_label(label=\"CSF\", rotation=\"horizontal\", fontsize=fz*0.5, labelpad=30, y = 0.55)\n",
    "\n",
    "print(scipy.stats.pearsonr(z_test_tsne_track[:, 0], CSF_Label_final)[0])\n",
    "print(scipy.stats.pearsonr(z_test_tsne_track[:, 1], CSF_Label_final)[0])\n",
    "print(scipy.stats.pearsonr(z_test_tsne_track[:, 2], CSF_Label_final)[0])"
   ]
  },
  {
   "cell_type": "code",
   "execution_count": null,
   "metadata": {},
   "outputs": [],
   "source": [
    "quintiles = np.percentile(CSF_Label_final, [20,40,60,80])\n",
    "out = np.searchsorted(quintiles,CSF_Label_final)"
   ]
  },
  {
   "cell_type": "code",
   "execution_count": null,
   "metadata": {},
   "outputs": [],
   "source": [
    "cmap = matplotlib.colors.ListedColormap([\"pink\", \"green\", \"blue\",\"red\",\"black\"])\n",
    "fig = plt.figure(figsize=(16,12))\n",
    "ax = fig.add_subplot(111, projection='3d')\n",
    "\n",
    "cp = ax.scatter(xs=z_test_tsne_track[:, 0], ys=z_test_tsne_track[:, 1], zs=z_test_tsne_track[:, 2], c=out, cmap=cmap, s=10.0)\n",
    "ax.set_title(\"CSF Labeling\", fontsize = fz*0.75)\n",
    "#ax.set_xlim(-40,100)\n",
    "#ax.set_ylim(-20,35)\n",
    "cbar = fig.colorbar(cp)\n",
    "cbar.set_label(label=\"Percentiles\", rotation=\"horizontal\", fontsize=fz*0.5, labelpad=30, y = 0.55)\n",
    "cbar.set_ticks([0,1,2,3,4])\n",
    "cbar.set_ticklabels([\"0\",\"20\",\"40\",\"60\",\"80\"])\n",
    "\n",
    "print(scipy.stats.pearsonr(z_test_tsne_track[:, 0], out)[0])\n",
    "print(scipy.stats.pearsonr(z_test_tsne_track[:, 1], out)[0])\n",
    "print(scipy.stats.pearsonr(z_test_tsne_track[:, 2], out)[0])"
   ]
  },
  {
   "cell_type": "markdown",
   "metadata": {},
   "source": [
    "## Bowen Ratio"
   ]
  },
  {
   "cell_type": "code",
   "execution_count": null,
   "metadata": {},
   "outputs": [],
   "source": [
    "SH = real_ds.SHFLX_LON_0e_to_360e_LAT_20s_to_20n.values\n",
    "LH = real_ds.LHFLX_LON_0e_to_360e_LAT_20s_to_20n.values\n",
    "\n",
    "Bowen = SH/LH\n",
    "Bowen_Label_final = np.reshape(Bowen, (Bowen.size))\n",
    "Bowen_Label_final = np.nan_to_num(Bowen_Label_final, posinf=6.0, neginf=0.0)\n",
    "scipy.stats.describe(Bowen_Label_final) \n",
    "#masked_Y = np.ma.array(Bowen_Label_final, mask=~np.isfinite(Bowen))\n",
    "#print(np.nanmin(masked_Y))\n",
    "#print(np.nanmax(masked_Y))"
   ]
  },
  {
   "cell_type": "code",
   "execution_count": null,
   "metadata": {},
   "outputs": [],
   "source": [
    "fig = plt.figure(figsize=(16,12))\n",
    "ax = fig.add_subplot(111, projection='3d')\n",
    "\n",
    "cp = ax.scatter(xs=z_test_tsne_track[:, 0], ys=z_test_tsne_track[:, 1], zs=z_test_tsne_track[:, 2], c=Bowen_Label_final, cmap=\"Greens\", s=10.0)\n",
    "ax.set_title(\"Bowen Ratio Labeling\", fontsize = fz*0.75)\n",
    "#ax.set_xlim(-40,100)\n",
    "#ax.set_ylim(-20,35)\n",
    "cbar = fig.colorbar(cp)\n",
    "cbar.set_label(label=\"Bowen Ratio\", rotation=\"horizontal\", fontsize=fz*0.5, labelpad=30, y = 0.55)\n",
    "\n",
    "print(scipy.stats.pearsonr(z_test_tsne_track[:, 0], Bowen_Label_final)[0])\n",
    "print(scipy.stats.pearsonr(z_test_tsne_track[:, 1], Bowen_Label_final)[0])\n",
    "print(scipy.stats.pearsonr(z_test_tsne_track[:, 2], Bowen_Label_final)[0])"
   ]
  },
  {
   "cell_type": "code",
   "execution_count": null,
   "metadata": {},
   "outputs": [],
   "source": [
    "quintiles = np.percentile(Bowen_Label_final, [20,40,60,80])\n",
    "out = np.searchsorted(quintiles,Bowen_Label_final)"
   ]
  },
  {
   "cell_type": "code",
   "execution_count": null,
   "metadata": {},
   "outputs": [],
   "source": [
    "cmap = matplotlib.colors.ListedColormap([\"pink\", \"green\", \"blue\",\"red\",\"black\"])\n",
    "fig = plt.figure(figsize=(16,12))\n",
    "ax = fig.add_subplot(111, projection='3d')\n",
    "\n",
    "cp = ax.scatter(xs=z_test_tsne_track[:, 0], ys=z_test_tsne_track[:, 1], zs=z_test_tsne_track[:, 2], c=out, cmap=cmap, s=10.0)\n",
    "ax.set_title(\"BR Labeling\", fontsize = fz*0.75)\n",
    "#ax.set_xlim(-40,100)\n",
    "#ax.set_ylim(-20,35)\n",
    "cbar = fig.colorbar(cp)\n",
    "cbar.set_label(label=\"Percentiles\", rotation=\"horizontal\", fontsize=fz*0.5, labelpad=30, y = 0.55)\n",
    "cbar.set_ticks([0,1,2,3,4])\n",
    "cbar.set_ticklabels([\"0\",\"20\",\"40\",\"60\",\"80\"])\n",
    "\n",
    "print(scipy.stats.pearsonr(z_test_tsne_track[:, 0], out)[0])\n",
    "print(scipy.stats.pearsonr(z_test_tsne_track[:, 1], out)[0])\n",
    "print(scipy.stats.pearsonr(z_test_tsne_track[:, 2], out)[0])"
   ]
  },
  {
   "cell_type": "markdown",
   "metadata": {},
   "source": [
    "## Surface Fluxes"
   ]
  },
  {
   "cell_type": "code",
   "execution_count": null,
   "metadata": {},
   "outputs": [],
   "source": [
    "#downwelling longwave flux at the surface\n",
    "FLDS = real_ds.FLDS_LON_0e_to_360e_LAT_20s_to_20n.values\n",
    "#net longwave flux at the surface\n",
    "FLNS = real_ds.FLNS_LON_0e_to_360e_LAT_20s_to_20n.values\n",
    "#downwelling solar flux at surface\n",
    "FSDS = real_ds.FSDS_LON_0e_to_360e_LAT_20s_to_20n.values\n",
    "#net solar flux at the surface\n",
    "FSNS = real_ds.FSNS_LON_0e_to_360e_LAT_20s_to_20n.values\n",
    "\n",
    "FLDS_Label_final = np.reshape(FLDS, (FLDS.size))\n",
    "FLNS_Label_final = np.reshape(FLNS, (FLNS.size))\n",
    "FSDS_Label_final = np.reshape(FSDS, (FSDS.size))\n",
    "FSNS_Label_final = np.reshape(FSNS, (FSNS.size))"
   ]
  },
  {
   "cell_type": "code",
   "execution_count": null,
   "metadata": {},
   "outputs": [],
   "source": [
    "fig = plt.figure(figsize=(16,12))\n",
    "ax = fig.add_subplot(111, projection='3d')\n",
    "\n",
    "cp = ax.scatter(xs=z_test_tsne_track[:, 0], ys=z_test_tsne_track[:, 1], zs=z_test_tsne_track[:, 2], c=FLDS_Label_final, cmap=\"Greens\", s=10.0)\n",
    "ax.set_title('Downwelling longwave flux at surface', fontsize = fz*0.75)\n",
    "#ax.set_xlim(-40,100)\n",
    "#ax.set_ylim(-20,35)\n",
    "cbar = fig.colorbar(cp)\n",
    "cbar.set_label(label=\"FLDS\", rotation=\"horizontal\", fontsize=fz*0.5, labelpad=30, y = 0.55)\n",
    "\n",
    "print(scipy.stats.pearsonr(z_test_tsne_track[:, 0], FLDS_Label_final)[0])\n",
    "print(scipy.stats.pearsonr(z_test_tsne_track[:, 1], FLDS_Label_final)[0])\n",
    "print(scipy.stats.pearsonr(z_test_tsne_track[:, 2], FLDS_Label_final)[0])"
   ]
  },
  {
   "cell_type": "code",
   "execution_count": null,
   "metadata": {},
   "outputs": [],
   "source": [
    "quintiles = np.percentile(FLDS_Label_final, [20,40,60,80])\n",
    "out = np.searchsorted(quintiles,FLDS_Label_final)"
   ]
  },
  {
   "cell_type": "code",
   "execution_count": null,
   "metadata": {},
   "outputs": [],
   "source": [
    "cmap = matplotlib.colors.ListedColormap([\"pink\", \"green\", \"blue\",\"red\",\"black\"])\n",
    "fig = plt.figure(figsize=(16,12))\n",
    "ax = fig.add_subplot(111, projection='3d')\n",
    "\n",
    "cp = ax.scatter(xs=z_test_tsne_track[:, 0], ys=z_test_tsne_track[:, 1], zs=z_test_tsne_track[:, 2], c=out, cmap=cmap, s=10.0)\n",
    "ax.set_title(\"FLDS Labeling\", fontsize = fz*0.75)\n",
    "#ax.set_xlim(-40,100)\n",
    "#ax.set_ylim(-20,35)\n",
    "cbar = fig.colorbar(cp)\n",
    "cbar.set_label(label=\"Percentiles\", rotation=\"horizontal\", fontsize=fz*0.5, labelpad=30, y = 0.55)\n",
    "cbar.set_ticks([0,1,2,3,4])\n",
    "cbar.set_ticklabels([\"0\",\"20\",\"40\",\"60\",\"80\"])\n",
    "\n",
    "print(scipy.stats.pearsonr(z_test_tsne_track[:, 0], out)[0])\n",
    "print(scipy.stats.pearsonr(z_test_tsne_track[:, 1], out)[0])\n",
    "print(scipy.stats.pearsonr(z_test_tsne_track[:, 2], out)[0])"
   ]
  },
  {
   "cell_type": "code",
   "execution_count": null,
   "metadata": {},
   "outputs": [],
   "source": [
    "fig = plt.figure(figsize=(16,12))\n",
    "ax = fig.add_subplot(111, projection='3d')\n",
    "\n",
    "cp = ax.scatter(xs=z_test_tsne_track[:, 0], ys=z_test_tsne_track[:, 1], zs=z_test_tsne_track[:, 2], c=FLNS_Label_final, cmap=\"Purples\", s=10.0)\n",
    "ax.set_title(\"Net Longwave Flux at sfc\", fontsize = fz*2.0)\n",
    "#ax.set_xlim(-40,100)\n",
    "#ax.set_ylim(-20,35)\n",
    "cbar = fig.colorbar(cp, pad=0.002)\n",
    "cbar.set_label(label=r\"$wm^{-2}$\", rotation=\"horizontal\", fontsize=fz, labelpad=30, y = 0.55)\n",
    "\n",
    "print(scipy.stats.pearsonr(z_test_tsne_track[:, 0], FLNS_Label_final)[0])\n",
    "print(scipy.stats.pearsonr(z_test_tsne_track[:, 1], FLNS_Label_final)[0])\n",
    "print(scipy.stats.pearsonr(z_test_tsne_track[:, 2], FLNS_Label_final)[0])"
   ]
  },
  {
   "cell_type": "code",
   "execution_count": null,
   "metadata": {},
   "outputs": [],
   "source": [
    "quintiles = np.percentile(FLNS_Label_final, [20,40,60,80])\n",
    "out = np.searchsorted(quintiles,FLNS_Label_final)"
   ]
  },
  {
   "cell_type": "code",
   "execution_count": null,
   "metadata": {},
   "outputs": [],
   "source": [
    "cmap = matplotlib.colors.ListedColormap([\"pink\", \"green\", \"blue\",\"red\",\"black\"])\n",
    "fig = plt.figure(figsize=(16,12))\n",
    "ax = fig.add_subplot(111, projection='3d')\n",
    "\n",
    "cp = ax.scatter(xs=z_test_tsne_track[:, 0], ys=z_test_tsne_track[:, 1], zs=z_test_tsne_track[:, 2], c=out, cmap=cmap, s=10.0)\n",
    "ax.set_title(\"FLNS Labeling\", fontsize = fz*0.75)\n",
    "#ax.set_xlim(-40,100)\n",
    "#ax.set_ylim(-20,35)\n",
    "cbar = fig.colorbar(cp)\n",
    "cbar.set_label(label=\"Percentiles\", rotation=\"horizontal\", fontsize=fz*0.5, labelpad=30, y = 0.55)\n",
    "cbar.set_ticks([0,1,2,3,4])\n",
    "cbar.set_ticklabels([\"0\",\"20\",\"40\",\"60\",\"80\"])\n",
    "\n",
    "print(scipy.stats.pearsonr(z_test_tsne_track[:, 0], out)[0])\n",
    "print(scipy.stats.pearsonr(z_test_tsne_track[:, 1], out)[0])\n",
    "print(scipy.stats.pearsonr(z_test_tsne_track[:, 2], out)[0])"
   ]
  },
  {
   "cell_type": "code",
   "execution_count": null,
   "metadata": {},
   "outputs": [],
   "source": [
    "fig = plt.figure(figsize=(16,12))\n",
    "ax = fig.add_subplot(111, projection='3d')\n",
    "\n",
    "cp = ax.scatter(xs=z_test_tsne_track[:, 0], ys=z_test_tsne_track[:, 1], zs=z_test_tsne_track[:, 2], c=FSDS_Label_final, cmap=\"Greens\", s=10.0)\n",
    "ax.set_title(\"Downwelling solar flux at sfc.\", fontsize = fz*0.75)\n",
    "#ax.set_xlim(-40,100)\n",
    "#ax.set_ylim(-20,35)\n",
    "cbar = fig.colorbar(cp)\n",
    "cbar.set_label(label=\"FSDS\", rotation=\"horizontal\", fontsize=fz*0.5, labelpad=30, y = 0.55)\n",
    "\n",
    "print(scipy.stats.pearsonr(z_test_tsne_track[:, 0], FSDS_Label_final)[0])\n",
    "print(scipy.stats.pearsonr(z_test_tsne_track[:, 1], FSDS_Label_final)[0])\n",
    "print(scipy.stats.pearsonr(z_test_tsne_track[:, 2], FSDS_Label_final)[0])"
   ]
  },
  {
   "cell_type": "code",
   "execution_count": null,
   "metadata": {},
   "outputs": [],
   "source": [
    "quintiles = np.percentile(FSDS_Label_final, [20,40,60,80])\n",
    "out = np.searchsorted(quintiles,FSDS_Label_final)"
   ]
  },
  {
   "cell_type": "code",
   "execution_count": null,
   "metadata": {},
   "outputs": [],
   "source": [
    "cmap = matplotlib.colors.ListedColormap([\"pink\", \"green\", \"blue\",\"red\",\"black\"])\n",
    "fig = plt.figure(figsize=(16,12))\n",
    "ax = fig.add_subplot(111, projection='3d')\n",
    "\n",
    "cp = ax.scatter(xs=z_test_tsne_track[:, 0], ys=z_test_tsne_track[:, 1], zs=z_test_tsne_track[:, 2], c=out, cmap=cmap, s=10.0)\n",
    "ax.set_title(\"FSDS Labeling\", fontsize = fz*0.75)\n",
    "#ax.set_xlim(-40,100)\n",
    "#ax.set_ylim(-20,35)\n",
    "cbar = fig.colorbar(cp)\n",
    "cbar.set_label(label=\"Percentiles\", rotation=\"horizontal\", fontsize=fz*0.5, labelpad=30, y = 0.55)\n",
    "cbar.set_ticks([0,1,2,3,4])\n",
    "cbar.set_ticklabels([\"0\",\"20\",\"40\",\"60\",\"80\"])\n",
    "\n",
    "print(scipy.stats.pearsonr(z_test_tsne_track[:, 0], out)[0])\n",
    "print(scipy.stats.pearsonr(z_test_tsne_track[:, 1], out)[0])\n",
    "print(scipy.stats.pearsonr(z_test_tsne_track[:, 2], out)[0])"
   ]
  },
  {
   "cell_type": "code",
   "execution_count": null,
   "metadata": {},
   "outputs": [],
   "source": [
    "fig = plt.figure(figsize=(16,12))\n",
    "ax = fig.add_subplot(111, projection='3d')\n",
    "\n",
    "cp = ax.scatter(xs=z_test_tsne_track[:, 0], ys=z_test_tsne_track[:, 1], zs=z_test_tsne_track[:, 2], c=FSNS_Label_final, cmap=\"Greens\", s=10.0)\n",
    "ax.set_title(\"Net Solar flux at sfc.\", fontsize = fz*0.75)\n",
    "#ax.set_xlim(-40,100)\n",
    "#ax.set_ylim(-20,35)\n",
    "cbar = fig.colorbar(cp)\n",
    "cbar.set_label(label=\"FSNS\", rotation=\"horizontal\", fontsize=fz*0.5, labelpad=30, y = 0.55)\n",
    "\n",
    "print(scipy.stats.pearsonr(z_test_tsne_track[:, 0], FSNS_Label_final)[0])\n",
    "print(scipy.stats.pearsonr(z_test_tsne_track[:, 1], FSNS_Label_final)[0])\n",
    "print(scipy.stats.pearsonr(z_test_tsne_track[:, 2], FSNS_Label_final)[0])"
   ]
  },
  {
   "cell_type": "code",
   "execution_count": null,
   "metadata": {},
   "outputs": [],
   "source": [
    "quintiles = np.percentile(FSDS_Label_final, [20,40,60,80])\n",
    "out = np.searchsorted(quintiles,FSDS_Label_final)"
   ]
  },
  {
   "cell_type": "code",
   "execution_count": null,
   "metadata": {},
   "outputs": [],
   "source": [
    "cmap = matplotlib.colors.ListedColormap([\"pink\", \"green\", \"blue\",\"red\",\"black\"])\n",
    "fig = plt.figure(figsize=(16,12))\n",
    "ax = fig.add_subplot(111, projection='3d')\n",
    "\n",
    "cp = ax.scatter(xs=z_test_tsne_track[:, 0], ys=z_test_tsne_track[:, 1], zs=z_test_tsne_track[:, 2], c=out, cmap=cmap, s=10.0)\n",
    "ax.set_title(\"FSDS Labeling\", fontsize = fz*0.75)\n",
    "#ax.set_xlim(-40,100)\n",
    "#ax.set_ylim(-20,35)\n",
    "cbar = fig.colorbar(cp)\n",
    "cbar.set_label(label=\"Percentiles\", rotation=\"horizontal\", fontsize=fz*0.5, labelpad=30, y = 0.55)\n",
    "cbar.set_ticks([0,1,2,3,4])\n",
    "cbar.set_ticklabels([\"0\",\"20\",\"40\",\"60\",\"80\"])\n",
    "\n",
    "print(scipy.stats.pearsonr(z_test_tsne_track[:, 0], out)[0])\n",
    "print(scipy.stats.pearsonr(z_test_tsne_track[:, 1], out)[0])\n",
    "print(scipy.stats.pearsonr(z_test_tsne_track[:, 2], out)[0])"
   ]
  },
  {
   "cell_type": "markdown",
   "metadata": {},
   "source": [
    "# Bouyancy Formula"
   ]
  },
  {
   "cell_type": "markdown",
   "metadata": {},
   "source": [
    "http://www.atmo.arizona.edu/students/courselinks/spring11/hwr523/HWR423_523_files/Module1b.pdf"
   ]
  },
  {
   "cell_type": "code",
   "execution_count": null,
   "metadata": {},
   "outputs": [],
   "source": [
    "#Boundary Layer -> 1000-850 hpa\n",
    "#Lower Free Troposphere -> 850-500 hpa \n",
    "\n",
    "def theta_e_calc(press_hPa, temp, q):\n",
    "    pref = 100000.\n",
    "    tmelt  = 273.15\n",
    "    CPD = 1005.7\n",
    "    CPV=1870.0\n",
    "    CPVMCL=2320.0\n",
    "    RV=461.5\n",
    "    RD=287.04\n",
    "    EPS=RD/RV\n",
    "    ALV0=2.501E6\n",
    "    #press, tempc,theta_e\n",
    "    #cdef double r,ev_hPa, TL, chi_e\n",
    "    press = press_hPa * 100. # in Pa\n",
    "    tempc = temp - tmelt # in C\n",
    "    r = q / (1. - q)\n",
    "    # get ev in hPa \n",
    "    ev_hPa = press_hPa * r / (EPS + r)\n",
    "    #get TL\n",
    "    TL = (2840. / ((3.5*np.log(temp)) - (np.log(ev_hPa)) - 4.805)) + 55.\n",
    "    #calc chi_e:\n",
    "    chi_e = 0.2854 * (1. - (0.28*r))\n",
    "    theta_e = temp * (pref / press)**chi_e * np.exp(((3.376/TL) - 0.00254) * r * 1000. * (1. + (0.81 * r)))\n",
    "    return theta_e\n",
    "\n",
    "\n",
    "\n",
    "def theta_e_sat_calc(press_hPa, temp):\n",
    "    pref = 100000.\n",
    "    tmelt  = 273.15\n",
    "    CPD = 1005.7\n",
    "    CPV=1870.0\n",
    "    CPVMCL=2320.0\n",
    "    RV=461.5\n",
    "    RD=287.04\n",
    "    EPS=RD/RV\n",
    "    ALV0=2.501E6\n",
    "    #press, tempc,theta_e\n",
    "    #cdef double r,ev_hPa, TL, chi_e\n",
    "    press = press_hPa * 100. # in Pa\n",
    "    tempc = temp - tmelt # in C\n",
    "    \n",
    "    e_sat = 611.0*np.exp((17.3*tempc)/(tempc+273.15))\n",
    "    q = 0.622*e_sat/(press-(1-0.622)*e_sat)\n",
    "    \n",
    "    r = q / (1. - q)\n",
    "    # get ev in hPa \n",
    "    ev_hPa = press_hPa * r / (EPS + r)\n",
    "    #get TL\n",
    "    TL = (2840. / ((3.5*np.log(temp)) - (np.log(ev_hPa)) - 4.805)) + 55.\n",
    "    #calc chi_e:\n",
    "    chi_e = 0.2854 * (1. - (0.28*r))\n",
    "    theta_e = temp * (pref / press)**chi_e * np.exp(((3.376/TL) - 0.00254) * r * 1000. * (1. + (0.81 * r)))\n",
    "    return theta_e\n",
    "\n",
    "w_b = 0.52\n",
    "w_l = 0.48"
   ]
  },
  {
   "cell_type": "markdown",
   "metadata": {},
   "source": [
    "## Part A"
   ]
  },
  {
   "cell_type": "code",
   "execution_count": null,
   "metadata": {},
   "outputs": [],
   "source": [
    "Theta_e = np.empty(GCM_Q.shape)\n",
    "Theta_e_s = np.empty(GCM_Q.shape)\n",
    "for i in range(len(GCM_Q)):\n",
    "    for j in range(len(GCM_Q[i])):\n",
    "        for k in range(len(GCM_Q[i][j])):\n",
    "            for l in range(len(GCM_Q[i][j][k])):\n",
    "                Theta_e[i,j,k,l] = theta_e_calc(levs[j], GCM_T[i,j,k,l], GCM_Q[i,j,k,l])\n",
    "                Theta_e_s[i,j,k,l] = theta_e_sat_calc(levs[j], GCM_T[i,j,k,l])"
   ]
  },
  {
   "cell_type": "code",
   "execution_count": null,
   "metadata": {},
   "outputs": [],
   "source": [
    "\n",
    "\n",
    "theta_e_BL = np.nanmean(Theta_e[:,-7:,:,:], axis= 1)\n",
    "theta_e_s_BL = np.nanmean(Theta_e_s[:,-7:,:,:], axis= 1)\n",
    "\n",
    "theta_e_LFT = np.nanmean(Theta_e[:,-12:-6,:,:], axis= 1)\n",
    "theta_e_s_LFT = np.nanmean(Theta_e_s[:,-12:-6,:,:], axis= 1)\n",
    "\n",
    "\n",
    "part_a = (theta_e_BL - theta_e_s_LFT)/theta_e_s_LFT\n",
    "part_a_final = np.reshape(part_a, (part_a.size))"
   ]
  },
  {
   "cell_type": "code",
   "execution_count": null,
   "metadata": {},
   "outputs": [],
   "source": [
    "fig = plt.figure(figsize=(16,12))\n",
    "ax = fig.add_subplot(111, projection='3d')\n",
    "\n",
    "cp = ax.scatter(xs=z_test_tsne_track[:, 0], ys=z_test_tsne_track[:, 1], zs=z_test_tsne_track[:, 2], c=part_a_final, cmap=\"Greens\", s=10.0)\n",
    "ax.set_title(\"Part A\", fontsize = fz*0.75)\n",
    "#ax.set_xlim(-40,100)\n",
    "#ax.set_ylim(-20,35)\n",
    "cbar = fig.colorbar(cp)\n",
    "cbar.set_label(label=\"Part A\", rotation=\"horizontal\", fontsize=fz*0.5, labelpad=30, y = 0.55)\n",
    "\n",
    "print(scipy.stats.pearsonr(z_test_tsne_track[:, 0], part_a_final)[0])\n",
    "print(scipy.stats.pearsonr(z_test_tsne_track[:, 1], part_a_final)[0])\n",
    "print(scipy.stats.pearsonr(z_test_tsne_track[:, 2], part_a_final)[0])"
   ]
  },
  {
   "cell_type": "code",
   "execution_count": null,
   "metadata": {},
   "outputs": [],
   "source": [
    "quintiles = np.percentile(part_a_final, [20,40,60,80])\n",
    "out = np.searchsorted(quintiles,part_a_final)\n",
    "\n",
    "cmap = matplotlib.colors.ListedColormap([\"pink\", \"green\", \"blue\",\"red\",\"black\"])\n",
    "fig = plt.figure(figsize=(16,12))\n",
    "ax = fig.add_subplot(111, projection='3d')\n",
    "\n",
    "cp = ax.scatter(xs=z_test_tsne_track[:, 0], ys=z_test_tsne_track[:, 1], zs=z_test_tsne_track[:, 2], c=out, cmap=cmap, s=10.0)\n",
    "ax.set_title(\"Buoyancy Part A Labeling\", fontsize = fz*0.75)\n",
    "#ax.set_xlim(-40,100)\n",
    "#ax.set_ylim(-20,35)\n",
    "cbar = fig.colorbar(cp)\n",
    "cbar.set_label(label=\"Percentiles\", rotation=\"horizontal\", fontsize=fz*0.5, labelpad=30, y = 0.55)\n",
    "cbar.set_ticks([0,1,2,3,4])\n",
    "cbar.set_ticklabels([\"0\",\"20\",\"40\",\"60\",\"80\"])\n",
    "\n",
    "print(scipy.stats.pearsonr(z_test_tsne_track[:, 0], out)[0])\n",
    "print(scipy.stats.pearsonr(z_test_tsne_track[:, 1], out)[0])\n",
    "print(scipy.stats.pearsonr(z_test_tsne_track[:, 2], out)[0])"
   ]
  },
  {
   "cell_type": "markdown",
   "metadata": {},
   "source": [
    "## Part B"
   ]
  },
  {
   "cell_type": "code",
   "execution_count": null,
   "metadata": {},
   "outputs": [],
   "source": [
    "part_b = (theta_e_s_LFT - theta_e_LFT)/theta_e_s_LFT\n",
    "part_b_final = np.reshape(part_b, (part_b.size))"
   ]
  },
  {
   "cell_type": "code",
   "execution_count": null,
   "metadata": {},
   "outputs": [],
   "source": [
    "fig = plt.figure(figsize=(16,12))\n",
    "ax = fig.add_subplot(111, projection='3d')\n",
    "\n",
    "cp = ax.scatter(xs=z_test_tsne_track[:, 0], ys=z_test_tsne_track[:, 1], zs=z_test_tsne_track[:, 2], c=part_b_final, cmap=\"Greens\", s=10.0)\n",
    "ax.set_title(\"Part B\", fontsize = fz*0.75)\n",
    "#ax.set_xlim(-40,100)\n",
    "#ax.set_ylim(-20,35)\n",
    "cbar = fig.colorbar(cp)\n",
    "cbar.set_label(label=\"Part B\", rotation=\"horizontal\", fontsize=fz*0.5, labelpad=30, y = 0.55)\n",
    "\n",
    "print(scipy.stats.pearsonr(z_test_tsne_track[:, 0], part_b_final)[0])\n",
    "print(scipy.stats.pearsonr(z_test_tsne_track[:, 1], part_b_final)[0])\n",
    "print(scipy.stats.pearsonr(z_test_tsne_track[:, 2], part_b_final)[0])"
   ]
  },
  {
   "cell_type": "code",
   "execution_count": null,
   "metadata": {},
   "outputs": [],
   "source": [
    "quintiles = np.percentile(part_b_final, [20,40,60,80])\n",
    "out = np.searchsorted(quintiles,part_b_final)\n",
    "\n",
    "cmap = matplotlib.colors.ListedColormap([\"pink\", \"green\", \"blue\",\"red\",\"black\"])\n",
    "fig = plt.figure(figsize=(16,12))\n",
    "ax = fig.add_subplot(111, projection='3d')\n",
    "\n",
    "cp = ax.scatter(xs=z_test_tsne_track[:, 0], ys=z_test_tsne_track[:, 1], zs=z_test_tsne_track[:, 2], c=out, cmap=cmap, s=10.0)\n",
    "ax.set_title(\"Buoyancy Part B Labeling\", fontsize = fz*0.75)\n",
    "#ax.set_xlim(-40,100)\n",
    "#ax.set_ylim(-20,35)\n",
    "cbar = fig.colorbar(cp)\n",
    "cbar.set_label(label=\"Percentiles\", rotation=\"horizontal\", fontsize=fz*0.5, labelpad=30, y = 0.55)\n",
    "cbar.set_ticks([0,1,2,3,4])\n",
    "cbar.set_ticklabels([\"0\",\"20\",\"40\",\"60\",\"80\"])\n",
    "\n",
    "print(scipy.stats.pearsonr(z_test_tsne_track[:, 0], out)[0])\n",
    "print(scipy.stats.pearsonr(z_test_tsne_track[:, 1], out)[0])\n",
    "print(scipy.stats.pearsonr(z_test_tsne_track[:, 2], out)[0])"
   ]
  },
  {
   "cell_type": "markdown",
   "metadata": {},
   "source": [
    "## All"
   ]
  },
  {
   "cell_type": "code",
   "execution_count": null,
   "metadata": {},
   "outputs": [],
   "source": [
    "total = 9.81*(w_b*part_a_final+w_l*part_b_final)"
   ]
  },
  {
   "cell_type": "code",
   "execution_count": null,
   "metadata": {},
   "outputs": [],
   "source": [
    "fig = plt.figure(figsize=(16,12))\n",
    "ax = fig.add_subplot(111, projection='3d')\n",
    "\n",
    "cp = ax.scatter(xs=z_test_tsne_track[:, 0], ys=z_test_tsne_track[:, 1], zs=z_test_tsne_track[:, 2], c=total, cmap=\"Greens\", s=10.0)\n",
    "ax.set_title(\"Buoyancy\", fontsize = fz*0.75)\n",
    "#ax.set_xlim(-40,100)\n",
    "#ax.set_ylim(-20,35)\n",
    "cbar = fig.colorbar(cp)\n",
    "cbar.set_label(label=\"Buoyancy\", rotation=\"horizontal\", fontsize=fz*0.5, labelpad=30, y = 0.55)\n",
    "\n",
    "print(scipy.stats.pearsonr(z_test_tsne_track[:, 0], total)[0])\n",
    "print(scipy.stats.pearsonr(z_test_tsne_track[:, 1], total)[0])\n",
    "print(scipy.stats.pearsonr(z_test_tsne_track[:, 2], total)[0])"
   ]
  },
  {
   "cell_type": "markdown",
   "metadata": {},
   "source": [
    "## Gross Moist Stability"
   ]
  },
  {
   "cell_type": "code",
   "execution_count": null,
   "metadata": {},
   "outputs": [],
   "source": [
    "NNQBP = real_ds.QBP_LON_0e_to_360e_LAT_20s_to_20n.values\n",
    "NNTBP = real_ds.TBP_LON_0e_to_360e_LAT_20s_to_20n.values\n",
    "# Ideal gas law -> rho=p(R_d*T_v)\n",
    "eps = 0.622 # Ratio of molecular weight(H2O)/molecular weight(dry air)\n",
    "R_D = 287 # Specific gas constant of dry air in J/K/kg\n",
    "Z_final = np.empty(NNTBP.shape)\n",
    "levs = real_ds.lev.values\n",
    "for i in range(len(Z_final)):\n",
    "    for j in range(len(Z_final[0][0])):\n",
    "        for k in range(len(Z_final[0][0][0])):\n",
    "            r = NNQBP[i,:,j,k]/(NNQBP[i,:,j,k]**0-NNQBP[i,:,j,k])\n",
    "            Tv = NNTBP[i,:,j,k]*(r**0+r/eps)/(r**0+r)\n",
    "            RHO = 1e2*levs/(R_D*Tv)\n",
    "            Z = scipy.integrate.cumtrapz(x=1e2*levs,y=1/(g*RHO))\n",
    "            Z = np.concatenate((np.zeros(1,),Z))\n",
    "            Z = np.flip(Z)\n",
    "            Z_final[i,:,j,k] = Z\n"
   ]
  },
  {
   "cell_type": "code",
   "execution_count": null,
   "metadata": {},
   "outputs": [],
   "source": [
    "path_to_file = '/DFS-L/DATA/pritchard/gmooers/Workflow/MAPS/SPCAM/100_Days/New_SPCAM5/archive/TimestepOutput_Neuralnet_SPCAM_216/atm/hist/TimestepOutput_Neuralnet_SPCAM_216.cam.h1.2009-01-20-00000.nc'\n",
    "extra_variables = xr.open_dataset(path_to_file)\n",
    "lats = np.squeeze(extra_variables.LAT_20s_to_20n.values)\n",
    "lons = np.squeeze(extra_variables.LON_0e_to_360e.values)"
   ]
  },
  {
   "cell_type": "code",
   "execution_count": null,
   "metadata": {},
   "outputs": [],
   "source": [
    "print(lats)"
   ]
  },
  {
   "cell_type": "code",
   "execution_count": null,
   "metadata": {},
   "outputs": [],
   "source": [
    "GCM_U = real_ds.U10_LON_0e_to_360e_LAT_20s_to_20n.values\n",
    "GCM_V = real_ds.VAP_LON_0e_to_360e_LAT_20s_to_20n.values\n",
    "\n",
    "cp = 1004.0\n",
    "L = 2256000.0\n",
    "dse = GCM_T*cp + g*Z_final\n",
    "bottom = np.nansum(dse*GCM_V*dp[None,:,None,None]/g, axis=1)\n",
    "mse = dse + GCM_Q*L\n",
    "top = np.nansum(mse*GCM_V*dp[None,:,None,None]/g, axis=1)\n",
    "\n"
   ]
  },
  {
   "cell_type": "code",
   "execution_count": null,
   "metadata": {},
   "outputs": [],
   "source": [
    "def GMS_field(GMS_T, GMS_B, y, x):\n",
    "    r=6.371e6\n",
    "    GMS = np.zeros(shape=(len(GMS_T),len(y)-2,len(x)-2))\n",
    "    GMS[:,:,:] = np.nan\n",
    "    count_x = 0\n",
    "    count_y = 0\n",
    "    for a in range(len(GMS_T)):\n",
    "        for i in range(len(x)):\n",
    "            if i !=0 and i != len(x)-1:\n",
    "                for j in range(len(y)):\n",
    "                    if j !=0 and j != len(y)-1:\n",
    "                    \n",
    "                        dy = math.radians(y[j+1]-[y[j-1]])\n",
    "                \n",
    "                        y_comp_top = (1/(r*math.cos(math.radians(y[j]))))*(GMS_T[a,j+1,i]-GMS_T[a,j-1,i])/dy\n",
    "                        y_comp_bottom = (1/(r*math.cos(math.radians(y[j]))))*(GMS_B[a,j+1,i]-GMS_B[a,j-1,i])/dy\n",
    "                        \n",
    "                    \n",
    "                        GMS[a,count_y,count_x] =y_comp_top/y_comp_bottom\n",
    "                        count_y = count_y+1\n",
    "                    \n",
    "                count_x = count_x+1\n",
    "            count_y = 0\n",
    "        count_x=0\n",
    "                \n",
    "    \n",
    "    \n",
    "    \n",
    "    return GMS\n",
    "\n",
    "GMS = GMS_field(top, bottom, lats, lons)"
   ]
  },
  {
   "cell_type": "code",
   "execution_count": null,
   "metadata": {},
   "outputs": [],
   "source": [
    "GMS_z = np.empty(shape=(2,16,22,144))\n",
    "\n",
    "count = 0\n",
    "for i in range(16):\n",
    "    for j in range(22):\n",
    "        for k in range(144):\n",
    "            GMS_z[:,i,j,k] = z_test_tsne_track[count,:] \n",
    "            count = count+1\n",
    "        \n",
    "GMS_z_final = GMS_z[:,:,1:-1,1:-1]\n",
    "\n",
    "GMS_z_plot = np.empty(shape=(len(GMS_z_final[0])*len(GMS_z_final[0][0])*len(GMS_z_final[0][0][0]),2))\n",
    "count = 0\n",
    "for i in range(16):\n",
    "    for j in range(20):\n",
    "        for k in range(142):\n",
    "            GMS_z_plot[count,:] = GMS_z_final[:,i,j,k]\n",
    "            count = count+1\n",
    "            \n",
    "            \n",
    "            \n",
    "GMS_Label_final = np.reshape(GMS, (GMS.size))"
   ]
  },
  {
   "cell_type": "code",
   "execution_count": null,
   "metadata": {},
   "outputs": [],
   "source": [
    "scipy.stats.describe(GMS_Label_final)"
   ]
  },
  {
   "cell_type": "code",
   "execution_count": null,
   "metadata": {},
   "outputs": [],
   "source": [
    "fig = plt.figure(figsize=(16,12))\n",
    "ax = fig.add_subplot(111, projection='3d')\n",
    "\n",
    "cp = ax.scatter(xs=z_test_tsne_track[:, 0], ys=z_test_tsne_track[:, 1], zs=z_test_tsne_track[:, 2], c=GMS_Label_final, cmap=\"Greens\", s=10.0)\n",
    "ax.set_title(\"Gross Moist Stability Labeling\", fontsize = fz*0.75)\n",
    "#ax.set_xlim(-40,100)\n",
    "#ax.set_ylim(-20,35)\n",
    "cbar = fig.colorbar(cp)\n",
    "cbar.set_label(label=\"GMS\", rotation=\"horizontal\", fontsize=fz*0.5, labelpad=30, y = 0.55)\n",
    "\n",
    "print(scipy.stats.pearsonr(z_test_tsne_track[:, 0], GMS_Label_final)[0])\n",
    "print(scipy.stats.pearsonr(z_test_tsne_track[:, 1], GMS_Label_final)[0])\n",
    "print(scipy.stats.pearsonr(z_test_tsne_track[:, 2], GMS_Label_final)[0])"
   ]
  },
  {
   "cell_type": "code",
   "execution_count": null,
   "metadata": {},
   "outputs": [],
   "source": []
  }
 ],
 "metadata": {
  "kernelspec": {
   "display_name": "Python 3",
   "language": "python",
   "name": "python3"
  },
  "language_info": {
   "codemirror_mode": {
    "name": "ipython",
    "version": 3
   },
   "file_extension": ".py",
   "mimetype": "text/x-python",
   "name": "python",
   "nbconvert_exporter": "python",
   "pygments_lexer": "ipython3",
   "version": "3.7.3"
  }
 },
 "nbformat": 4,
 "nbformat_minor": 4
}
