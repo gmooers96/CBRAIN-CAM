{
 "cells": [
  {
   "cell_type": "code",
   "execution_count": 1,
   "metadata": {},
   "outputs": [],
   "source": [
    "import math\n",
    "import numpy as np\n",
    "import matplotlib.pyplot as plt\n",
    "from mpl_toolkits.axes_grid1 import make_axes_locatable\n",
    "import netCDF4"
   ]
  },
  {
   "cell_type": "code",
   "execution_count": 2,
   "metadata": {},
   "outputs": [],
   "source": [
    "Training_Images = np.load('/fast/gmooers/Preprocessed_Data/W_Trial/Space_Time_W_Training.npy')\n",
    "Test_Images = np.load('/fast/gmooers/Preprocessed_Data/W_Trial/Space_Time_W_Test.npy')\n",
    "\n",
    "Max_Scalar = np.load('/fast/gmooers/Preprocessed_Data/W_Trial/Space_Time_Max_Scalar.npy')\n",
    "Min_Scalar = np.load('/fast/gmooers/Preprocessed_Data/W_Trial/Space_Time_Min_Scalar.npy')"
   ]
  },
  {
   "cell_type": "code",
   "execution_count": 3,
   "metadata": {},
   "outputs": [
    {
     "name": "stderr",
     "output_type": "stream",
     "text": [
      "Using TensorFlow backend.\n",
      "/export/home/gmooers/miniconda3/envs/tf_gpu/lib/python3.7/site-packages/tensorflow/python/framework/dtypes.py:526: FutureWarning: Passing (type, 1) or '1type' as a synonym of type is deprecated; in a future version of numpy, it will be understood as (type, (1,)) / '(1,)type'.\n",
      "  _np_qint8 = np.dtype([(\"qint8\", np.int8, 1)])\n",
      "/export/home/gmooers/miniconda3/envs/tf_gpu/lib/python3.7/site-packages/tensorflow/python/framework/dtypes.py:527: FutureWarning: Passing (type, 1) or '1type' as a synonym of type is deprecated; in a future version of numpy, it will be understood as (type, (1,)) / '(1,)type'.\n",
      "  _np_quint8 = np.dtype([(\"quint8\", np.uint8, 1)])\n",
      "/export/home/gmooers/miniconda3/envs/tf_gpu/lib/python3.7/site-packages/tensorflow/python/framework/dtypes.py:528: FutureWarning: Passing (type, 1) or '1type' as a synonym of type is deprecated; in a future version of numpy, it will be understood as (type, (1,)) / '(1,)type'.\n",
      "  _np_qint16 = np.dtype([(\"qint16\", np.int16, 1)])\n",
      "/export/home/gmooers/miniconda3/envs/tf_gpu/lib/python3.7/site-packages/tensorflow/python/framework/dtypes.py:529: FutureWarning: Passing (type, 1) or '1type' as a synonym of type is deprecated; in a future version of numpy, it will be understood as (type, (1,)) / '(1,)type'.\n",
      "  _np_quint16 = np.dtype([(\"quint16\", np.uint16, 1)])\n",
      "/export/home/gmooers/miniconda3/envs/tf_gpu/lib/python3.7/site-packages/tensorflow/python/framework/dtypes.py:530: FutureWarning: Passing (type, 1) or '1type' as a synonym of type is deprecated; in a future version of numpy, it will be understood as (type, (1,)) / '(1,)type'.\n",
      "  _np_qint32 = np.dtype([(\"qint32\", np.int32, 1)])\n",
      "/export/home/gmooers/miniconda3/envs/tf_gpu/lib/python3.7/site-packages/tensorflow/python/framework/dtypes.py:535: FutureWarning: Passing (type, 1) or '1type' as a synonym of type is deprecated; in a future version of numpy, it will be understood as (type, (1,)) / '(1,)type'.\n",
      "  np_resource = np.dtype([(\"resource\", np.ubyte, 1)])\n"
     ]
    }
   ],
   "source": [
    "import keras\n",
    "from keras import layers\n",
    "from keras import backend as K\n",
    "from keras.models import Model\n",
    "from keras.losses import binary_crossentropy\n",
    "import tensorflow as tf\n",
    "from keras.utils import plot_model"
   ]
  },
  {
   "cell_type": "code",
   "execution_count": 4,
   "metadata": {},
   "outputs": [],
   "source": [
    "class Sampling(keras.layers.Layer):\n",
    "    def call(self, inputs):\n",
    "        mean, log_var = inputs\n",
    "        return K.random_normal(tf.shape(log_var))*K.exp(log_var/2)+mean"
   ]
  },
  {
   "cell_type": "code",
   "execution_count": 5,
   "metadata": {},
   "outputs": [
    {
     "name": "stdout",
     "output_type": "stream",
     "text": [
      "WARNING:tensorflow:From /export/home/gmooers/miniconda3/envs/tf_gpu/lib/python3.7/site-packages/tensorflow/python/framework/op_def_library.py:263: colocate_with (from tensorflow.python.framework.ops) is deprecated and will be removed in a future version.\n",
      "Instructions for updating:\n",
      "Colocations handled automatically by placer.\n"
     ]
    }
   ],
   "source": [
    "#latent dim\n",
    "codings_size = 2\n",
    "\n",
    "batch_size = 128\n",
    "img_width = len(Training_Images[0])\n",
    "img_height = len(Training_Images[0][0])\n",
    "\n",
    "num =2\n",
    "d1 = 32\n",
    "d2 = 3\n",
    "den1 = 100\n",
    "den2 = 150\n",
    "stride = 2\n",
    "\n",
    "activation = 'selu'\n",
    "def encoder_gen(num_layers, width, height, dim1, dim2, dense1, dense2, acti, strides, latent_dim):\n",
    "    inputs = keras.layers.Input(shape=[width, height, 1])\n",
    "    #inputs = keras.Input(shape=[width, height, 1])\n",
    "    for i in range(num_layers):\n",
    "        if i == 0:\n",
    "            z = keras.layers.convolutional.Conv2D(dim1, dim2, padding='same', activation = acti)(inputs)\n",
    "        if i == 1:\n",
    "            z = keras.layers.convolutional.Conv2D(dim1, dim2, padding='same', activation = acti, strides = (stride, stride))(z)\n",
    "        if i > 1:\n",
    "            z = keras.layers.convolutional.Conv2D(dim1, dim2, padding='same', activation = acti)(z)\n",
    "    \n",
    "    shape_before_flattening = K.int_shape(z)      \n",
    "    z = keras.layers.Flatten()(inputs)\n",
    "    z = keras.layers.Dense(dense1, activation=acti)(z)\n",
    "    #z = keras.layers.Dense(dense2, activation=acti)(z)\n",
    "    codings_mean = keras.layers.Dense(codings_size)(z)\n",
    "    codings_log_var = keras.layers.Dense(codings_size)(z)\n",
    "    codings = Sampling()([codings_mean, codings_log_var])\n",
    "    variational_encoder = keras.Model(inputs = [inputs], outputs=[codings_mean, codings_log_var, codings])\n",
    "    return inputs, codings_mean, codings_log_var, codings, variational_encoder, shape_before_flattening\n",
    "\n",
    "inputs, codings_mean, codings_log_var, codings, variational_encoder, shape_before_flattening = encoder_gen(num, img_width, img_height, d1, d2, den1, den2, activation, stride, codings_size)"
   ]
  },
  {
   "cell_type": "code",
   "execution_count": 6,
   "metadata": {},
   "outputs": [
    {
     "name": "stdout",
     "output_type": "stream",
     "text": [
      "(None, 15, 64, 32)\n"
     ]
    }
   ],
   "source": [
    "print(shape_before_flattening)"
   ]
  },
  {
   "cell_type": "code",
   "execution_count": 18,
   "metadata": {},
   "outputs": [
    {
     "name": "stdout",
     "output_type": "stream",
     "text": [
      "(?, 30720)\n",
      "(?, 15, 64, 32)\n",
      "(?, ?, ?, 32)\n",
      "(?, ?, ?, 1)\n",
      "(?, 30, 128, 1)\n"
     ]
    }
   ],
   "source": [
    "activation = 'selu'\n",
    "den1 = 100\n",
    "den2 = 150\n",
    "act_function = \"sigmoid\"\n",
    "d1 = 32\n",
    "d2 = 3\n",
    "strides = 2\n",
    "small_dim_set = 1\n",
    "def decoder_gen(latent_dim, dense1, dense2, dim1, dim2, stride, acti, width, height, af, small_dim, shape_before_flat, nums):\n",
    "    decoder_inputs = keras.layers.Input(shape=[latent_dim])\n",
    "    x = keras.layers.Dense(np.prod(shape_before_flat[1:]), activation=acti)(decoder_inputs)\n",
    "    print(x.shape)\n",
    "    x = keras.layers.Reshape(shape_before_flat[1:])(x)\n",
    "    print(x.shape)\n",
    "    #outputs = keras.layers.Reshape([width,height])(x)\n",
    "    #x = keras.layers.Reshape([width,height, 1])(x)\n",
    "    x = keras.layers.Conv2DTranspose(dim1, dim2, padding='same', activation=acti, strides=(stride, stride))(x)\n",
    "    print(x.shape)\n",
    "    x = keras.layers.Conv2D(small_dim, dim2, padding='same', activation=af)(x)\n",
    "    print(x.shape)\n",
    "    outputs = keras.layers.Reshape([width,height,1])(x)\n",
    "    print(outputs.shape)\n",
    "    variational_decoder = keras.Model(inputs=[decoder_inputs], outputs=[outputs])\n",
    "    return outputs, variational_decoder\n",
    "\n",
    "outputs, variational_decoder = decoder_gen(codings_size, den1, den2, d1, d2, stride, activation, img_width, img_height, act_function, small_dim_set, shape_before_flattening, num)"
   ]
  },
  {
   "cell_type": "code",
   "execution_count": 8,
   "metadata": {},
   "outputs": [],
   "source": [
    "_, _, codings = variational_encoder(inputs)\n",
    "reconstructions = variational_decoder(codings)\n",
    "variational_ae = keras.Model(inputs=[inputs], outputs=[reconstructions])"
   ]
  },
  {
   "cell_type": "code",
   "execution_count": 9,
   "metadata": {},
   "outputs": [],
   "source": [
    "def kl_reconstruction_loss(true, pred):\n",
    "    # Reconstruction loss\n",
    "    reconstruction_loss = binary_crossentropy(K.flatten(true), K.flatten(pred)) * img_width * img_height\n",
    "    # KL divergence loss\n",
    "    kl_loss = 1 + codings_log_var - K.square(codings_mean) - K.exp(codings_log_var)\n",
    "    kl_loss = K.sum(kl_loss, axis=-1)\n",
    "    kl_loss *= -0.5\n",
    "    # Total loss = 50% rec + 50% KL divergence loss\n",
    "    #On ruihan's advice, I will weight KL down\n",
    "    kl_weight = 0.1\n",
    "    return K.mean(reconstruction_loss + kl_weight*kl_loss)\n",
    "    #return K.mean(reconstruction_loss + kl_loss)\n",
    "\n",
    "\n",
    "def kl(true, pred):\n",
    "    kl_loss = 1 + codings_log_var - K.square(codings_mean) - K.exp(codings_log_var)\n",
    "    kl_loss = K.sum(kl_loss, axis=-1)\n",
    "    kl_loss *= -0.5\n",
    "    return kl_loss\n",
    "\n",
    "def reconstruction(true, pred):\n",
    "    # Reconstruction loss\n",
    "    reconstruction_loss = binary_crossentropy(K.flatten(true), K.flatten(pred)) * img_width * img_height\n",
    "    return reconstruction_loss"
   ]
  },
  {
   "cell_type": "code",
   "execution_count": 10,
   "metadata": {},
   "outputs": [
    {
     "name": "stdout",
     "output_type": "stream",
     "text": [
      "_________________________________________________________________\n",
      "Layer (type)                 Output Shape              Param #   \n",
      "=================================================================\n",
      "input_1 (InputLayer)         (None, 30, 128, 1)        0         \n",
      "_________________________________________________________________\n",
      "model_1 (Model)              [(None, 2), (None, 2), (N 384504    \n",
      "_________________________________________________________________\n",
      "model_2 (Model)              (None, 30, 128, 1)        101697    \n",
      "=================================================================\n",
      "Total params: 486,201\n",
      "Trainable params: 486,201\n",
      "Non-trainable params: 0\n",
      "_________________________________________________________________\n"
     ]
    }
   ],
   "source": [
    "#latent_loss = -0.5*K.sum(1+codings_log_var - K.exp(codings_log_var) - K.square(codings_mean), axis = -1)\n",
    "#variational_ae.add_loss(K.mean(latent_loss)/784.)\n",
    "variational_ae.compile(loss=kl_reconstruction_loss, optimizer =\"rmsprop\", metrics=[kl, reconstruction])\n",
    "variational_ae.summary()"
   ]
  },
  {
   "cell_type": "code",
   "execution_count": 11,
   "metadata": {},
   "outputs": [],
   "source": [
    "Training_Images = Training_Images.reshape(Training_Images.shape+(1,))\n",
    "Test_Images = Test_Images.reshape(Test_Images.shape+(1,))"
   ]
  },
  {
   "cell_type": "code",
   "execution_count": 12,
   "metadata": {},
   "outputs": [
    {
     "name": "stdout",
     "output_type": "stream",
     "text": [
      "WARNING:tensorflow:From /export/home/gmooers/miniconda3/envs/tf_gpu/lib/python3.7/site-packages/tensorflow/python/ops/math_ops.py:3066: to_int32 (from tensorflow.python.ops.math_ops) is deprecated and will be removed in a future version.\n",
      "Instructions for updating:\n",
      "Use tf.cast instead.\n",
      "Train on 8371 samples, validate on 2093 samples\n",
      "Epoch 1/60\n",
      "8371/8371 [==============================] - 9s 1ms/step - loss: 2281.4809 - kl: 165.1339 - reconstruction: 2264.9675 - val_loss: 2242.9984 - val_kl: 58.7180 - val_reconstruction: 2237.1266\n",
      "Epoch 2/60\n",
      "8371/8371 [==============================] - 1s 166us/step - loss: 2235.9269 - kl: 77.2064 - reconstruction: 2228.2063 - val_loss: 2223.1386 - val_kl: 37.3921 - val_reconstruction: 2219.3994\n",
      "Epoch 3/60\n",
      "8371/8371 [==============================] - 1s 173us/step - loss: 2221.8687 - kl: 26.5716 - reconstruction: 2219.2116 - val_loss: 2214.7774 - val_kl: 3.8756 - val_reconstruction: 2214.3899\n",
      "Epoch 4/60\n",
      "8371/8371 [==============================] - 1s 175us/step - loss: 2215.8023 - kl: 3.2988 - reconstruction: 2215.4724 - val_loss: 2214.2017 - val_kl: 0.7818 - val_reconstruction: 2214.1235\n",
      "Epoch 5/60\n",
      "8371/8371 [==============================] - 1s 174us/step - loss: 2214.7678 - kl: 0.8807 - reconstruction: 2214.6797 - val_loss: 2213.6259 - val_kl: 0.0204 - val_reconstruction: 2213.6239\n",
      "Epoch 6/60\n",
      "8371/8371 [==============================] - 1s 172us/step - loss: 2214.5203 - kl: 0.5893 - reconstruction: 2214.4614 - val_loss: 2213.7117 - val_kl: 0.0570 - val_reconstruction: 2213.7059\n",
      "Epoch 7/60\n",
      "8371/8371 [==============================] - 1s 172us/step - loss: 2214.5851 - kl: 0.5556 - reconstruction: 2214.5295 - val_loss: 2213.6308 - val_kl: 0.0080 - val_reconstruction: 2213.6299\n",
      "Epoch 8/60\n",
      "8371/8371 [==============================] - 1s 171us/step - loss: 2214.4505 - kl: 0.4968 - reconstruction: 2214.4008 - val_loss: 2213.8319 - val_kl: 0.0139 - val_reconstruction: 2213.8306\n",
      "Epoch 9/60\n",
      "8371/8371 [==============================] - 1s 170us/step - loss: 2214.4863 - kl: 0.4557 - reconstruction: 2214.4407 - val_loss: 2216.4528 - val_kl: 0.8411 - val_reconstruction: 2216.3687\n",
      "Epoch 10/60\n",
      "8371/8371 [==============================] - 1s 171us/step - loss: 2214.2601 - kl: 0.4345 - reconstruction: 2214.2167 - val_loss: 2213.6183 - val_kl: 0.0038 - val_reconstruction: 2213.6179\n",
      "Epoch 11/60\n",
      "8371/8371 [==============================] - 1s 174us/step - loss: 2214.3912 - kl: 0.4580 - reconstruction: 2214.3453 - val_loss: 2214.0871 - val_kl: 0.6582 - val_reconstruction: 2214.0212\n",
      "Epoch 12/60\n",
      "8371/8371 [==============================] - 1s 166us/step - loss: 2214.1735 - kl: 0.3792 - reconstruction: 2214.1356 - val_loss: 2213.8161 - val_kl: 0.0087 - val_reconstruction: 2213.8152\n",
      "Epoch 13/60\n",
      "8371/8371 [==============================] - 1s 166us/step - loss: 2214.2593 - kl: 0.3382 - reconstruction: 2214.2255 - val_loss: 2214.3015 - val_kl: 0.0174 - val_reconstruction: 2214.2997\n",
      "Epoch 14/60\n",
      "8371/8371 [==============================] - 1s 173us/step - loss: 2214.2398 - kl: 0.2889 - reconstruction: 2214.2109 - val_loss: 2213.6403 - val_kl: 0.0027 - val_reconstruction: 2213.6401\n",
      "Epoch 15/60\n",
      "8371/8371 [==============================] - 1s 177us/step - loss: 2214.2651 - kl: 0.2848 - reconstruction: 2214.2366 - val_loss: 2213.6223 - val_kl: 0.0141 - val_reconstruction: 2213.6208\n",
      "Epoch 16/60\n",
      "8371/8371 [==============================] - 2s 179us/step - loss: 2214.1059 - kl: 0.2094 - reconstruction: 2214.0849 - val_loss: 2213.9723 - val_kl: 0.0299 - val_reconstruction: 2213.9693\n",
      "Epoch 17/60\n",
      "8371/8371 [==============================] - 1s 177us/step - loss: 2214.1475 - kl: 0.2314 - reconstruction: 2214.1244 - val_loss: 2214.0102 - val_kl: 5.7612e-04 - val_reconstruction: 2214.0102\n",
      "Epoch 18/60\n",
      "8371/8371 [==============================] - 1s 179us/step - loss: 2214.1224 - kl: 0.1972 - reconstruction: 2214.1027 - val_loss: 2213.9502 - val_kl: 0.0013 - val_reconstruction: 2213.9501\n",
      "Epoch 19/60\n",
      "8371/8371 [==============================] - 1s 179us/step - loss: 2214.1215 - kl: 0.1957 - reconstruction: 2214.1019 - val_loss: 2215.2331 - val_kl: 0.0782 - val_reconstruction: 2215.2252\n",
      "Epoch 20/60\n",
      "8371/8371 [==============================] - 1s 179us/step - loss: 2214.1076 - kl: 0.2077 - reconstruction: 2214.0868 - val_loss: 2214.0771 - val_kl: 0.2669 - val_reconstruction: 2214.0503\n",
      "Epoch 21/60\n",
      "8371/8371 [==============================] - 1s 173us/step - loss: 2214.0853 - kl: 0.1971 - reconstruction: 2214.0656 - val_loss: 2214.3682 - val_kl: 0.1542 - val_reconstruction: 2214.3527\n",
      "Epoch 22/60\n",
      "8371/8371 [==============================] - 1s 176us/step - loss: 2214.0385 - kl: 0.1939 - reconstruction: 2214.0192 - val_loss: 2213.6282 - val_kl: 0.0126 - val_reconstruction: 2213.6270\n",
      "Epoch 23/60\n",
      "8371/8371 [==============================] - 1s 176us/step - loss: 2213.9714 - kl: 0.1420 - reconstruction: 2213.9572 - val_loss: 2213.8645 - val_kl: 0.0032 - val_reconstruction: 2213.8641\n",
      "Epoch 24/60\n",
      "8371/8371 [==============================] - 2s 180us/step - loss: 2214.0421 - kl: 0.1749 - reconstruction: 2214.0246 - val_loss: 2213.9525 - val_kl: 0.0546 - val_reconstruction: 2213.9471\n",
      "Epoch 25/60\n",
      "8371/8371 [==============================] - 2s 185us/step - loss: 2213.9393 - kl: 0.1223 - reconstruction: 2213.9271 - val_loss: 2213.8077 - val_kl: 0.0893 - val_reconstruction: 2213.7988\n",
      "Epoch 26/60\n",
      "8371/8371 [==============================] - 2s 185us/step - loss: 2213.9326 - kl: 0.1252 - reconstruction: 2213.9201 - val_loss: 2214.3073 - val_kl: 0.0109 - val_reconstruction: 2214.3063\n",
      "Epoch 27/60\n",
      "8371/8371 [==============================] - 2s 182us/step - loss: 2213.9600 - kl: 0.1480 - reconstruction: 2213.9452 - val_loss: 2213.6576 - val_kl: 0.0014 - val_reconstruction: 2213.6574\n",
      "Epoch 28/60\n",
      "8371/8371 [==============================] - 2s 181us/step - loss: 2213.8891 - kl: 0.1019 - reconstruction: 2213.8789 - val_loss: 2214.2423 - val_kl: 0.0285 - val_reconstruction: 2214.2394\n",
      "Epoch 29/60\n",
      "8371/8371 [==============================] - 2s 181us/step - loss: 2213.9099 - kl: 0.1048 - reconstruction: 2213.8994 - val_loss: 2213.6587 - val_kl: 2.7441e-04 - val_reconstruction: 2213.6587\n",
      "Epoch 30/60\n",
      "8371/8371 [==============================] - 2s 180us/step - loss: 2213.8988 - kl: 0.1116 - reconstruction: 2213.8876 - val_loss: 2213.7049 - val_kl: 0.0111 - val_reconstruction: 2213.7038\n",
      "Epoch 31/60\n",
      "8371/8371 [==============================] - 2s 184us/step - loss: 2213.8533 - kl: 0.0645 - reconstruction: 2213.8468 - val_loss: 2213.9112 - val_kl: 0.0604 - val_reconstruction: 2213.9052\n",
      "Epoch 32/60\n",
      "8371/8371 [==============================] - 2s 185us/step - loss: 2213.8345 - kl: 0.0513 - reconstruction: 2213.8294 - val_loss: 2213.9299 - val_kl: 0.2334 - val_reconstruction: 2213.9066\n",
      "Epoch 33/60\n",
      "8371/8371 [==============================] - 2s 184us/step - loss: 2213.8262 - kl: 0.0545 - reconstruction: 2213.8207 - val_loss: 2213.8467 - val_kl: 0.1165 - val_reconstruction: 2213.8350\n",
      "Epoch 34/60\n",
      "8371/8371 [==============================] - 2s 185us/step - loss: 2213.7915 - kl: 0.0421 - reconstruction: 2213.7873 - val_loss: 2213.8488 - val_kl: 0.0022 - val_reconstruction: 2213.8486\n",
      "Epoch 35/60\n",
      "8371/8371 [==============================] - 2s 181us/step - loss: 2213.7867 - kl: 0.0408 - reconstruction: 2213.7826 - val_loss: 2213.7832 - val_kl: 0.0055 - val_reconstruction: 2213.7827\n",
      "Epoch 36/60\n",
      "8371/8371 [==============================] - 1s 179us/step - loss: 2213.7777 - kl: 0.0432 - reconstruction: 2213.7734 - val_loss: 2213.7472 - val_kl: 0.0120 - val_reconstruction: 2213.7460\n",
      "Epoch 37/60\n",
      "8371/8371 [==============================] - 2s 180us/step - loss: 2213.7636 - kl: 0.0365 - reconstruction: 2213.7599 - val_loss: 2213.7446 - val_kl: 0.0294 - val_reconstruction: 2213.7416\n",
      "Epoch 38/60\n",
      "8371/8371 [==============================] - 2s 181us/step - loss: 2213.7571 - kl: 0.0364 - reconstruction: 2213.7535 - val_loss: 2213.7627 - val_kl: 0.0545 - val_reconstruction: 2213.7573\n",
      "Epoch 39/60\n",
      "8371/8371 [==============================] - 2s 181us/step - loss: 2213.7535 - kl: 0.0308 - reconstruction: 2213.7504 - val_loss: 2213.7835 - val_kl: 0.0502 - val_reconstruction: 2213.7786\n",
      "Epoch 40/60\n",
      "8371/8371 [==============================] - 2s 181us/step - loss: 2213.7475 - kl: 0.0292 - reconstruction: 2213.7446 - val_loss: 2213.7199 - val_kl: 0.0236 - val_reconstruction: 2213.7174\n",
      "Epoch 41/60\n",
      "8371/8371 [==============================] - 2s 180us/step - loss: 2213.7427 - kl: 0.0264 - reconstruction: 2213.7400 - val_loss: 2213.7104 - val_kl: 0.0097 - val_reconstruction: 2213.7094\n",
      "Epoch 42/60\n",
      "8371/8371 [==============================] - 2s 182us/step - loss: 2213.7386 - kl: 0.0203 - reconstruction: 2213.7366 - val_loss: 2213.7444 - val_kl: 0.0093 - val_reconstruction: 2213.7434\n",
      "Epoch 43/60\n",
      "8371/8371 [==============================] - 2s 181us/step - loss: 2213.7328 - kl: 0.0209 - reconstruction: 2213.7308 - val_loss: 2213.7646 - val_kl: 0.0108 - val_reconstruction: 2213.7636\n",
      "Epoch 44/60\n",
      "8371/8371 [==============================] - 1s 176us/step - loss: 2213.7318 - kl: 0.0177 - reconstruction: 2213.7300 - val_loss: 2213.7464 - val_kl: 0.0104 - val_reconstruction: 2213.7455\n",
      "Epoch 45/60\n",
      "8371/8371 [==============================] - 1s 178us/step - loss: 2213.7267 - kl: 0.0177 - reconstruction: 2213.7249 - val_loss: 2213.7632 - val_kl: 0.0238 - val_reconstruction: 2213.7608\n",
      "Epoch 46/60\n",
      "8371/8371 [==============================] - 1s 175us/step - loss: 2213.7245 - kl: 0.0178 - reconstruction: 2213.7227 - val_loss: 2213.7292 - val_kl: 0.0145 - val_reconstruction: 2213.7277\n",
      "Epoch 47/60\n",
      "8371/8371 [==============================] - 2s 181us/step - loss: 2213.7238 - kl: 0.0187 - reconstruction: 2213.7220 - val_loss: 2213.6896 - val_kl: 0.0074 - val_reconstruction: 2213.6889\n",
      "Epoch 48/60\n",
      "8371/8371 [==============================] - 2s 185us/step - loss: 2213.7202 - kl: 0.0158 - reconstruction: 2213.7187 - val_loss: 2213.7382 - val_kl: 0.0174 - val_reconstruction: 2213.7365\n",
      "Epoch 49/60\n",
      "8371/8371 [==============================] - 2s 185us/step - loss: 2213.7205 - kl: 0.0171 - reconstruction: 2213.7188 - val_loss: 2213.7551 - val_kl: 0.0697 - val_reconstruction: 2213.7480\n",
      "Epoch 50/60\n",
      "8371/8371 [==============================] - 2s 183us/step - loss: 2213.7199 - kl: 0.0162 - reconstruction: 2213.7183 - val_loss: 2213.7478 - val_kl: 0.0207 - val_reconstruction: 2213.7459\n",
      "Epoch 51/60\n",
      "8371/8371 [==============================] - 1s 170us/step - loss: 2213.7194 - kl: 0.0183 - reconstruction: 2213.7175 - val_loss: 2213.7501 - val_kl: 0.0190 - val_reconstruction: 2213.7481\n",
      "Epoch 52/60\n",
      "8371/8371 [==============================] - 1s 169us/step - loss: 2213.7190 - kl: 0.0173 - reconstruction: 2213.7172 - val_loss: 2213.7346 - val_kl: 0.0581 - val_reconstruction: 2213.7288\n",
      "Epoch 53/60\n",
      "8371/8371 [==============================] - 1s 175us/step - loss: 2213.7166 - kl: 0.0165 - reconstruction: 2213.7149 - val_loss: 2213.7184 - val_kl: 0.0220 - val_reconstruction: 2213.7162\n",
      "Epoch 54/60\n",
      "8371/8371 [==============================] - 1s 178us/step - loss: 2213.7186 - kl: 0.0167 - reconstruction: 2213.7170 - val_loss: 2213.7230 - val_kl: 0.0044 - val_reconstruction: 2213.7225\n",
      "Epoch 55/60\n",
      "8371/8371 [==============================] - 2s 181us/step - loss: 2213.7159 - kl: 0.0172 - reconstruction: 2213.7141 - val_loss: 2213.7514 - val_kl: 0.0257 - val_reconstruction: 2213.7488\n",
      "Epoch 56/60\n",
      "8371/8371 [==============================] - 2s 181us/step - loss: 2213.7197 - kl: 0.0185 - reconstruction: 2213.7178 - val_loss: 2213.7093 - val_kl: 0.0061 - val_reconstruction: 2213.7088\n",
      "Epoch 57/60\n",
      "8371/8371 [==============================] - 2s 180us/step - loss: 2213.7147 - kl: 0.0164 - reconstruction: 2213.7131 - val_loss: 2213.6802 - val_kl: 0.0093 - val_reconstruction: 2213.6792\n",
      "Epoch 58/60\n",
      "8371/8371 [==============================] - 2s 180us/step - loss: 2213.7151 - kl: 0.0182 - reconstruction: 2213.7133 - val_loss: 2213.6711 - val_kl: 0.0025 - val_reconstruction: 2213.6709\n",
      "Epoch 59/60\n",
      "8371/8371 [==============================] - 1s 179us/step - loss: 2213.7144 - kl: 0.0153 - reconstruction: 2213.7129 - val_loss: 2213.7145 - val_kl: 0.0042 - val_reconstruction: 2213.7141\n",
      "Epoch 60/60\n",
      "8371/8371 [==============================] - 2s 179us/step - loss: 2213.7166 - kl: 0.0199 - reconstruction: 2213.7146 - val_loss: 2213.6782 - val_kl: 4.9034e-04 - val_reconstruction: 2213.6782\n"
     ]
    }
   ],
   "source": [
    "h = variational_ae.fit(Training_Images, Training_Images, epochs=60, batch_size=batch_size, validation_data=[Test_Images, Test_Images])"
   ]
  },
  {
   "cell_type": "code",
   "execution_count": 13,
   "metadata": {},
   "outputs": [],
   "source": [
    "plot_model(variational_encoder, to_file='W_Conv_Model_Structures/vae_W_encoder.png', show_shapes=True)\n",
    "plot_model(variational_decoder, to_file='W_Conv_Model_Structures/vae_W_decoder.png', show_shapes=True)\n",
    "plot_model(variational_ae, to_file='W_Conv_Model_Structures/vae_W.png', show_shapes=True)"
   ]
  },
  {
   "cell_type": "code",
   "execution_count": 14,
   "metadata": {},
   "outputs": [
    {
     "data": {
      "image/png": "[encoded data removed]",
      "text/plain": [
       "<Figure size 432x288 with 1 Axes>"
      ]
     },
     "metadata": {
      "needs_background": "light"
     },
     "output_type": "display_data"
    }
   ],
   "source": [
    "hdict1 = h.history\n",
    "train_loss_values1 = hdict1['loss']\n",
    "valid_loss_values1 = hdict1['val_loss']\n",
    "epochs1 = range(1, len(train_loss_values1) + 1)\n",
    "plt.plot(epochs1, train_loss_values1, 'bo', label='Train loss')\n",
    "plt.plot(epochs1, valid_loss_values1, 'b', label='Valid loss')\n",
    "plt.title('VAE Training and validation loss')\n",
    "plt.xlabel('Epochs', fontsize = 20)\n",
    "plt.ylabel('Loss', fontsize = 20)\n",
    "#plt.yscale('log')\n",
    "plt.legend()\n",
    "plt.show()\n",
    "plt.close()"
   ]
  },
  {
   "cell_type": "code",
   "execution_count": 15,
   "metadata": {},
   "outputs": [
    {
     "data": {
      "image/png": "[encoded data removed]",
      "text/plain": [
       "<Figure size 432x288 with 1 Axes>"
      ]
     },
     "metadata": {
      "needs_background": "light"
     },
     "output_type": "display_data"
    }
   ],
   "source": [
    "train_loss_values1 = hdict1['reconstruction']\n",
    "valid_loss_values1 = hdict1['val_reconstruction']\n",
    "epochs1 = range(1, len(train_loss_values1) + 1)\n",
    "plt.plot(epochs1, train_loss_values1, 'go', label='Train loss')\n",
    "plt.plot(epochs1, valid_loss_values1, 'g', label='Valid loss')\n",
    "plt.title('Reconstruction Training and validation loss')\n",
    "plt.xlabel('Epochs', fontsize = 20)\n",
    "plt.ylabel('Loss', fontsize = 20)\n",
    "#plt.yscale('log')\n",
    "plt.legend()\n",
    "plt.show()\n",
    "plt.close()"
   ]
  },
  {
   "cell_type": "code",
   "execution_count": 16,
   "metadata": {},
   "outputs": [
    {
     "data": {
      "image/png": "[encoded data removed]",
      "text/plain": [
       "<Figure size 432x288 with 1 Axes>"
      ]
     },
     "metadata": {
      "needs_background": "light"
     },
     "output_type": "display_data"
    }
   ],
   "source": [
    "#make a plot for kl and reconstruction loss\n",
    "kl_train_loss_values1 = hdict1['kl']\n",
    "kl_valid_loss_values1 = hdict1['val_kl']\n",
    "recon_train_loss_values1 = hdict1['reconstruction']\n",
    "recon_valid_loss_values1 = hdict1['val_reconstruction']\n",
    "epochs1 = range(1, len(train_loss_values1) + 1)\n",
    "plt.plot(epochs1, kl_train_loss_values1, 'ro', label='Train KL loss')\n",
    "plt.plot(epochs1, kl_valid_loss_values1, 'r', label='Valid KL loss')\n",
    "plt.plot(epochs1, recon_train_loss_values1, 'go', label='Train Reconstruction loss')\n",
    "plt.plot(epochs1, recon_valid_loss_values1, 'g', label='Valid Reconstruction loss')\n",
    "plt.title('VAE Loss Compoinents')\n",
    "plt.xlabel('Epochs', fontsize = 20)\n",
    "plt.ylabel('Loss', fontsize = 20)\n",
    "plt.yscale('log')\n",
    "plt.legend()\n",
    "plt.show()\n",
    "plt.close()"
   ]
  },
  {
   "cell_type": "code",
   "execution_count": 17,
   "metadata": {},
   "outputs": [],
   "source": [
    "del variational_ae"
   ]
  },
  {
   "cell_type": "code",
   "execution_count": null,
   "metadata": {},
   "outputs": [],
   "source": []
  }
 ],
 "metadata": {
  "kernelspec": {
   "display_name": "Python 3",
   "language": "python",
   "name": "python3"
  },
  "language_info": {
   "codemirror_mode": {
    "name": "ipython",
    "version": 3
   },
   "file_extension": ".py",
   "mimetype": "text/x-python",
   "name": "python",
   "nbconvert_exporter": "python",
   "pygments_lexer": "ipython3",
   "version": "3.7.3"
  }
 },
 "nbformat": 4,
 "nbformat_minor": 2
}
