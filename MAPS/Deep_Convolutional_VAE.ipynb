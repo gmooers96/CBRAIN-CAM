{
 "cells": [
  {
   "cell_type": "code",
   "execution_count": 182,
   "metadata": {},
   "outputs": [],
   "source": [
    "import math\n",
    "import numpy as np\n",
    "import matplotlib.pyplot as plt\n",
    "from mpl_toolkits.axes_grid1 import make_axes_locatable\n",
    "import netCDF4"
   ]
  },
  {
   "cell_type": "code",
   "execution_count": 183,
   "metadata": {},
   "outputs": [],
   "source": [
    "Training_Images = np.load('/fast/gmooers/Preprocessed_Data/W_Trial/Space_Time_W_Training.npy')\n",
    "Test_Images = np.load('/fast/gmooers/Preprocessed_Data/W_Trial/Space_Time_W_Test.npy')\n",
    "\n",
    "Max_Scalar = np.load('/fast/gmooers/Preprocessed_Data/W_Trial/Space_Time_Max_Scalar.npy')\n",
    "Min_Scalar = np.load('/fast/gmooers/Preprocessed_Data/W_Trial/Space_Time_Min_Scalar.npy')"
   ]
  },
  {
   "cell_type": "code",
   "execution_count": 184,
   "metadata": {},
   "outputs": [],
   "source": [
    "import keras\n",
    "from keras import layers\n",
    "from keras import backend as K\n",
    "from keras.models import Model\n",
    "from keras.losses import binary_crossentropy\n",
    "import tensorflow as tf\n",
    "from keras.utils import plot_model"
   ]
  },
  {
   "cell_type": "code",
   "execution_count": 185,
   "metadata": {},
   "outputs": [],
   "source": [
    "class Sampling(keras.layers.Layer):\n",
    "    def call(self, inputs):\n",
    "        mean, log_var = inputs\n",
    "        return K.random_normal(tf.shape(log_var))*K.exp(log_var/2)+mean"
   ]
  },
  {
   "cell_type": "code",
   "execution_count": 186,
   "metadata": {},
   "outputs": [],
   "source": [
    "#latent dim\n",
    "codings_size = 2\n",
    "\n",
    "batch_size = 128\n",
    "img_width = len(Training_Images[0])\n",
    "img_height = len(Training_Images[0][0])\n",
    "\n",
    "num =2\n",
    "d1 = 32\n",
    "d2 = 3\n",
    "den1 = 100\n",
    "den2 = 150\n",
    "stride = 2\n",
    "\n",
    "activation = 'selu'\n",
    "def encoder_gen(num_layers, width, height, dim1, dim2, dense1, dense2, acti, strides, latent_dim):\n",
    "    inputs = keras.layers.Input(shape=[width, height, 1])\n",
    "    #inputs = keras.Input(shape=[width, height, 1])\n",
    "    for i in range(num_layers):\n",
    "        if i == 0:\n",
    "            z = keras.layers.convolutional.Conv2D(dim1, dim2, padding='same', activation = acti)(inputs)\n",
    "        if i == 1:\n",
    "            z = keras.layers.convolutional.Conv2D(dim1, dim2, padding='same', activation = acti, strides = (stride, stride))(z)\n",
    "        if i > 1:\n",
    "            z = keras.layers.convolutional.Conv2D(dim1, dim2, padding='same', activation = acti)(z)\n",
    "    \n",
    "    shape_before_flattening = K.int_shape(z)      \n",
    "    z = keras.layers.Flatten()(inputs)\n",
    "    z = keras.layers.Dense(dense1, activation=acti)(z)\n",
    "    #z = keras.layers.Dense(dense2, activation=acti)(z)\n",
    "    codings_mean = keras.layers.Dense(codings_size)(z)\n",
    "    codings_log_var = keras.layers.Dense(codings_size)(z)\n",
    "    codings = Sampling()([codings_mean, codings_log_var])\n",
    "    variational_encoder = keras.Model(inputs = [inputs], outputs=[codings_mean, codings_log_var, codings])\n",
    "    return inputs, codings_mean, codings_log_var, codings, variational_encoder, shape_before_flattening\n",
    "\n",
    "inputs, codings_mean, codings_log_var, codings, variational_encoder, shape_before_flattening = encoder_gen(num, img_width, img_height, d1, d2, den1, den2, activation, stride, codings_size)"
   ]
  },
  {
   "cell_type": "code",
   "execution_count": 187,
   "metadata": {},
   "outputs": [
    {
     "name": "stdout",
     "output_type": "stream",
     "text": [
      "(None, 15, 64, 32)\n"
     ]
    }
   ],
   "source": [
    "print(shape_before_flattening)"
   ]
  },
  {
   "cell_type": "code",
   "execution_count": 188,
   "metadata": {},
   "outputs": [],
   "source": [
    "activation = 'selu'\n",
    "den1 = 100\n",
    "den2 = 150\n",
    "act_function = \"sigmoid\"\n",
    "d1 = 32\n",
    "d2 = 3\n",
    "strides = 2\n",
    "small_dim_set = 1\n",
    "def decoder_gen(latent_dim, dense1, dense2, dim1, dim2, stride, acti, width, height, af, small_dim, shape_before_flat, nums):\n",
    "    decoder_inputs = keras.layers.Input(shape=[latent_dim])\n",
    "    x = keras.layers.Dense(np.prod(shape_before_flat[1:]), activation=acti)(decoder_inputs)\n",
    "    x = keras.layers.Reshape(shape_before_flat[1:])(x)\n",
    "    #outputs = keras.layers.Reshape([width,height])(x)\n",
    "    #x = keras.layers.Reshape([width,height, 1])(x)\n",
    "    x = keras.layers.Conv2DTranspose(dim1, dim2, padding='same', activation=acti, strides=(stride, stride))(x)\n",
    "    x = keras.layers.Conv2D(small_dim, dim2, padding='same', activation=af)(x)\n",
    "    outputs = keras.layers.Reshape([width,height,1])(x)\n",
    "    variational_decoder = keras.Model(inputs=[decoder_inputs], outputs=[outputs])\n",
    "    return outputs, variational_decoder\n",
    "\n",
    "outputs, variational_decoder = decoder_gen(codings_size, den1, den2, d1, d2, stride, activation, img_width, img_height, act_function, small_dim_set, shape_before_flattening, num)"
   ]
  },
  {
   "cell_type": "code",
   "execution_count": 189,
   "metadata": {},
   "outputs": [],
   "source": [
    "_, _, codings = variational_encoder(inputs)\n",
    "reconstructions = variational_decoder(codings)\n",
    "variational_ae = keras.Model(inputs=[inputs], outputs=[reconstructions])"
   ]
  },
  {
   "cell_type": "code",
   "execution_count": 190,
   "metadata": {},
   "outputs": [],
   "source": [
    "def kl_reconstruction_loss(true, pred):\n",
    "    # Reconstruction loss\n",
    "    reconstruction_loss = binary_crossentropy(K.flatten(true), K.flatten(pred)) * img_width * img_height\n",
    "    # KL divergence loss\n",
    "    kl_loss = 1 + codings_log_var - K.square(codings_mean) - K.exp(codings_log_var)\n",
    "    kl_loss = K.sum(kl_loss, axis=-1)\n",
    "    kl_loss *= -0.5\n",
    "    # Total loss = 50% rec + 50% KL divergence loss\n",
    "    #On ruihan's advice, I will weight KL down\n",
    "    kl_weight = 0.1\n",
    "    return K.mean(reconstruction_loss + kl_weight*kl_loss)\n",
    "    #return K.mean(reconstruction_loss + kl_loss)\n",
    "\n",
    "\n",
    "def kl(true, pred):\n",
    "    kl_loss = 1 + codings_log_var - K.square(codings_mean) - K.exp(codings_log_var)\n",
    "    kl_loss = K.sum(kl_loss, axis=-1)\n",
    "    kl_loss *= -0.5\n",
    "    return kl_loss\n",
    "\n",
    "def reconstruction(true, pred):\n",
    "    # Reconstruction loss\n",
    "    reconstruction_loss = binary_crossentropy(K.flatten(true), K.flatten(pred)) * img_width * img_height\n",
    "    return reconstruction_loss"
   ]
  },
  {
   "cell_type": "code",
   "execution_count": 191,
   "metadata": {},
   "outputs": [
    {
     "name": "stdout",
     "output_type": "stream",
     "text": [
      "_________________________________________________________________\n",
      "Layer (type)                 Output Shape              Param #   \n",
      "=================================================================\n",
      "input_56 (InputLayer)        (None, 30, 128, 1)        0         \n",
      "_________________________________________________________________\n",
      "model_36 (Model)             [(None, 2), (None, 2), (N 384504    \n",
      "_________________________________________________________________\n",
      "model_37 (Model)             (None, 30, 128, 1)        101697    \n",
      "=================================================================\n",
      "Total params: 486,201\n",
      "Trainable params: 486,201\n",
      "Non-trainable params: 0\n",
      "_________________________________________________________________\n"
     ]
    }
   ],
   "source": [
    "#latent_loss = -0.5*K.sum(1+codings_log_var - K.exp(codings_log_var) - K.square(codings_mean), axis = -1)\n",
    "#variational_ae.add_loss(K.mean(latent_loss)/784.)\n",
    "variational_ae.compile(loss=kl_reconstruction_loss, optimizer =\"rmsprop\", metrics=[kl, reconstruction])\n",
    "variational_ae.summary()"
   ]
  },
  {
   "cell_type": "code",
   "execution_count": 192,
   "metadata": {},
   "outputs": [],
   "source": [
    "Training_Images = Training_Images.reshape(Training_Images.shape+(1,))\n",
    "Test_Images = Test_Images.reshape(Test_Images.shape+(1,))"
   ]
  },
  {
   "cell_type": "code",
   "execution_count": 193,
   "metadata": {},
   "outputs": [
    {
     "name": "stdout",
     "output_type": "stream",
     "text": [
      "Train on 8371 samples, validate on 2093 samples\n",
      "Epoch 1/60\n",
      "8371/8371 [==============================] - 3s 353us/step - loss: 2273.4618 - kl: 133.4233 - reconstruction: 2260.1194 - val_loss: 2231.9639 - val_kl: 108.6739 - val_reconstruction: 2221.0965\n",
      "Epoch 2/60\n",
      "8371/8371 [==============================] - 2s 180us/step - loss: 2232.0413 - kl: 61.1034 - reconstruction: 2225.9309 - val_loss: 2219.5318 - val_kl: 42.2290 - val_reconstruction: 2215.3089\n",
      "Epoch 3/60\n",
      "8371/8371 [==============================] - 1s 171us/step - loss: 2219.1983 - kl: 15.5182 - reconstruction: 2217.6465 - val_loss: 2213.9048 - val_kl: 1.8268 - val_reconstruction: 2213.7221\n",
      "Epoch 4/60\n",
      "8371/8371 [==============================] - 1s 178us/step - loss: 2216.2813 - kl: 4.2291 - reconstruction: 2215.8583 - val_loss: 2213.8056 - val_kl: 1.2949 - val_reconstruction: 2213.6761\n",
      "Epoch 5/60\n",
      "8371/8371 [==============================] - 2s 181us/step - loss: 2215.4862 - kl: 2.7907 - reconstruction: 2215.2072 - val_loss: 2214.2121 - val_kl: 1.0893 - val_reconstruction: 2214.1032\n",
      "Epoch 6/60\n",
      "8371/8371 [==============================] - 1s 171us/step - loss: 2215.1850 - kl: 1.9523 - reconstruction: 2214.9898 - val_loss: 2213.7976 - val_kl: 1.2985 - val_reconstruction: 2213.6677\n",
      "Epoch 7/60\n",
      "8371/8371 [==============================] - 1s 174us/step - loss: 2215.1135 - kl: 1.7334 - reconstruction: 2214.9401 - val_loss: 2214.0263 - val_kl: 2.7953 - val_reconstruction: 2213.7468\n",
      "Epoch 8/60\n",
      "8371/8371 [==============================] - 1s 178us/step - loss: 2214.6802 - kl: 1.3971 - reconstruction: 2214.5405 - val_loss: 2213.7454 - val_kl: 0.5969 - val_reconstruction: 2213.6858\n",
      "Epoch 9/60\n",
      "8371/8371 [==============================] - 1s 172us/step - loss: 2214.5420 - kl: 1.2195 - reconstruction: 2214.4201 - val_loss: 2213.6500 - val_kl: 0.1199 - val_reconstruction: 2213.6379\n",
      "Epoch 10/60\n",
      "8371/8371 [==============================] - 1s 174us/step - loss: 2214.3272 - kl: 0.7091 - reconstruction: 2214.2563 - val_loss: 2215.3126 - val_kl: 0.0048 - val_reconstruction: 2215.3121\n",
      "Epoch 11/60\n",
      "8371/8371 [==============================] - 2s 184us/step - loss: 2214.5852 - kl: 1.0368 - reconstruction: 2214.4815 - val_loss: 2213.6403 - val_kl: 0.1596 - val_reconstruction: 2213.6242\n",
      "Epoch 12/60\n",
      "8371/8371 [==============================] - 2s 184us/step - loss: 2214.2385 - kl: 0.6553 - reconstruction: 2214.1729 - val_loss: 2213.6227 - val_kl: 0.0033 - val_reconstruction: 2213.6224\n",
      "Epoch 13/60\n",
      "8371/8371 [==============================] - 1s 170us/step - loss: 2214.1702 - kl: 0.4052 - reconstruction: 2214.1297 - val_loss: 2213.7943 - val_kl: 0.0678 - val_reconstruction: 2213.7876\n",
      "Epoch 14/60\n",
      "8371/8371 [==============================] - 1s 173us/step - loss: 2214.1337 - kl: 0.5312 - reconstruction: 2214.0806 - val_loss: 2213.6697 - val_kl: 0.0015 - val_reconstruction: 2213.6696\n",
      "Epoch 15/60\n",
      "8371/8371 [==============================] - 1s 166us/step - loss: 2214.0890 - kl: 0.4515 - reconstruction: 2214.0439 - val_loss: 2213.6724 - val_kl: 8.0050e-04 - val_reconstruction: 2213.6723\n",
      "Epoch 16/60\n",
      "8371/8371 [==============================] - 1s 176us/step - loss: 2214.0050 - kl: 0.3724 - reconstruction: 2213.9678 - val_loss: 2213.8618 - val_kl: 0.0023 - val_reconstruction: 2213.8616\n",
      "Epoch 17/60\n",
      "8371/8371 [==============================] - 1s 178us/step - loss: 2213.9913 - kl: 0.3418 - reconstruction: 2213.9571 - val_loss: 2213.8555 - val_kl: 0.0367 - val_reconstruction: 2213.8518\n",
      "Epoch 18/60\n",
      "8371/8371 [==============================] - 1s 173us/step - loss: 2213.9457 - kl: 0.3590 - reconstruction: 2213.9098 - val_loss: 2213.7830 - val_kl: 0.0438 - val_reconstruction: 2213.7787\n",
      "Epoch 19/60\n",
      "8371/8371 [==============================] - 2s 186us/step - loss: 2213.9040 - kl: 0.2812 - reconstruction: 2213.8759 - val_loss: 2213.8776 - val_kl: 0.1302 - val_reconstruction: 2213.8645\n",
      "Epoch 20/60\n",
      "8371/8371 [==============================] - 2s 185us/step - loss: 2213.8707 - kl: 0.2480 - reconstruction: 2213.8459 - val_loss: 2213.7893 - val_kl: 0.0182 - val_reconstruction: 2213.7874\n",
      "Epoch 21/60\n",
      "8371/8371 [==============================] - 2s 182us/step - loss: 2213.8552 - kl: 0.2250 - reconstruction: 2213.8327 - val_loss: 2213.8269 - val_kl: 0.0320 - val_reconstruction: 2213.8236\n",
      "Epoch 22/60\n",
      "8371/8371 [==============================] - 2s 183us/step - loss: 2213.8283 - kl: 0.1971 - reconstruction: 2213.8086 - val_loss: 2213.8357 - val_kl: 0.0605 - val_reconstruction: 2213.8297\n",
      "Epoch 23/60\n",
      "8371/8371 [==============================] - 2s 182us/step - loss: 2213.8187 - kl: 0.2029 - reconstruction: 2213.7985 - val_loss: 2213.8906 - val_kl: 0.0798 - val_reconstruction: 2213.8827\n",
      "Epoch 24/60\n",
      "8371/8371 [==============================] - 2s 180us/step - loss: 2213.8018 - kl: 0.1480 - reconstruction: 2213.7870 - val_loss: 2213.8258 - val_kl: 0.0665 - val_reconstruction: 2213.8191\n",
      "Epoch 25/60\n",
      "8371/8371 [==============================] - 2s 193us/step - loss: 2213.8029 - kl: 0.1632 - reconstruction: 2213.7866 - val_loss: 2213.8896 - val_kl: 0.1319 - val_reconstruction: 2213.8763\n",
      "Epoch 26/60\n",
      "8371/8371 [==============================] - 2s 185us/step - loss: 2213.7891 - kl: 0.1247 - reconstruction: 2213.7766 - val_loss: 2213.8103 - val_kl: 0.1502 - val_reconstruction: 2213.7953\n",
      "Epoch 27/60\n",
      "8371/8371 [==============================] - 2s 180us/step - loss: 2213.7888 - kl: 0.1249 - reconstruction: 2213.7763 - val_loss: 2213.7952 - val_kl: 0.1248 - val_reconstruction: 2213.7826\n",
      "Epoch 28/60\n",
      "8371/8371 [==============================] - 2s 182us/step - loss: 2213.7830 - kl: 0.1104 - reconstruction: 2213.7720 - val_loss: 2213.7711 - val_kl: 0.0616 - val_reconstruction: 2213.7648\n",
      "Epoch 29/60\n",
      "8371/8371 [==============================] - 1s 169us/step - loss: 2213.7820 - kl: 0.0995 - reconstruction: 2213.7720 - val_loss: 2213.7670 - val_kl: 0.1022 - val_reconstruction: 2213.7569\n",
      "Epoch 30/60\n",
      "8371/8371 [==============================] - 1s 169us/step - loss: 2213.7795 - kl: 0.0954 - reconstruction: 2213.7700 - val_loss: 2213.7700 - val_kl: 0.1143 - val_reconstruction: 2213.7587\n",
      "Epoch 31/60\n",
      "8371/8371 [==============================] - 1s 169us/step - loss: 2213.7796 - kl: 0.0956 - reconstruction: 2213.7701 - val_loss: 2213.7447 - val_kl: 0.0162 - val_reconstruction: 2213.7432\n",
      "Epoch 32/60\n",
      "8371/8371 [==============================] - 1s 169us/step - loss: 2213.7737 - kl: 0.0811 - reconstruction: 2213.7656 - val_loss: 2213.7842 - val_kl: 0.0758 - val_reconstruction: 2213.7767\n",
      "Epoch 33/60\n",
      "8371/8371 [==============================] - 1s 170us/step - loss: 2213.7719 - kl: 0.0871 - reconstruction: 2213.7632 - val_loss: 2213.7551 - val_kl: 0.1260 - val_reconstruction: 2213.7425\n",
      "Epoch 34/60\n",
      "8371/8371 [==============================] - 1s 178us/step - loss: 2213.7727 - kl: 0.0852 - reconstruction: 2213.7642 - val_loss: 2213.7817 - val_kl: 0.0970 - val_reconstruction: 2213.7721\n",
      "Epoch 35/60\n",
      "8371/8371 [==============================] - 2s 184us/step - loss: 2213.7690 - kl: 0.0732 - reconstruction: 2213.7617 - val_loss: 2213.7309 - val_kl: 0.0166 - val_reconstruction: 2213.7292\n",
      "Epoch 36/60\n",
      "8371/8371 [==============================] - 2s 184us/step - loss: 2213.7660 - kl: 0.0711 - reconstruction: 2213.7589 - val_loss: 2213.7367 - val_kl: 0.0096 - val_reconstruction: 2213.7358\n",
      "Epoch 37/60\n",
      "8371/8371 [==============================] - 1s 177us/step - loss: 2213.7660 - kl: 0.0613 - reconstruction: 2213.7598 - val_loss: 2213.7929 - val_kl: 0.0085 - val_reconstruction: 2213.7920\n",
      "Epoch 38/60\n",
      "8371/8371 [==============================] - 2s 180us/step - loss: 2213.7646 - kl: 0.0506 - reconstruction: 2213.7596 - val_loss: 2213.7858 - val_kl: 0.0197 - val_reconstruction: 2213.7838\n",
      "Epoch 39/60\n",
      "8371/8371 [==============================] - 1s 179us/step - loss: 2213.7618 - kl: 0.0556 - reconstruction: 2213.7562 - val_loss: 2213.7694 - val_kl: 0.0542 - val_reconstruction: 2213.7640\n",
      "Epoch 40/60\n",
      "8371/8371 [==============================] - 1s 176us/step - loss: 2213.7624 - kl: 0.0560 - reconstruction: 2213.7568 - val_loss: 2213.7497 - val_kl: 0.0079 - val_reconstruction: 2213.7490\n",
      "Epoch 41/60\n"
     ]
    },
    {
     "name": "stdout",
     "output_type": "stream",
     "text": [
      "8371/8371 [==============================] - 1s 170us/step - loss: 2213.7617 - kl: 0.0493 - reconstruction: 2213.7568 - val_loss: 2213.7283 - val_kl: 0.0018 - val_reconstruction: 2213.7280\n",
      "Epoch 42/60\n",
      "8371/8371 [==============================] - 1s 170us/step - loss: 2213.7615 - kl: 0.0539 - reconstruction: 2213.7561 - val_loss: 2213.7611 - val_kl: 0.0370 - val_reconstruction: 2213.7573\n",
      "Epoch 43/60\n",
      "8371/8371 [==============================] - 1s 169us/step - loss: 2213.7570 - kl: 0.0493 - reconstruction: 2213.7521 - val_loss: 2213.7504 - val_kl: 0.0115 - val_reconstruction: 2213.7493\n",
      "Epoch 44/60\n",
      "8371/8371 [==============================] - 1s 173us/step - loss: 2213.7562 - kl: 0.0445 - reconstruction: 2213.7518 - val_loss: 2213.7003 - val_kl: 0.0236 - val_reconstruction: 2213.6979\n",
      "Epoch 45/60\n",
      "8371/8371 [==============================] - 1s 172us/step - loss: 2213.7552 - kl: 0.0472 - reconstruction: 2213.7505 - val_loss: 2213.7307 - val_kl: 0.0195 - val_reconstruction: 2213.7287\n",
      "Epoch 46/60\n",
      "8371/8371 [==============================] - 1s 178us/step - loss: 2213.7527 - kl: 0.0479 - reconstruction: 2213.7480 - val_loss: 2213.7226 - val_kl: 0.0047 - val_reconstruction: 2213.7221\n",
      "Epoch 47/60\n",
      "8371/8371 [==============================] - 2s 179us/step - loss: 2213.7519 - kl: 0.0467 - reconstruction: 2213.7473 - val_loss: 2213.7853 - val_kl: 0.0145 - val_reconstruction: 2213.7838\n",
      "Epoch 48/60\n",
      "8371/8371 [==============================] - 1s 176us/step - loss: 2213.7540 - kl: 0.0487 - reconstruction: 2213.7491 - val_loss: 2213.7201 - val_kl: 0.0012 - val_reconstruction: 2213.7200\n",
      "Epoch 49/60\n",
      "8371/8371 [==============================] - 2s 182us/step - loss: 2213.7498 - kl: 0.0369 - reconstruction: 2213.7462 - val_loss: 2213.7082 - val_kl: 0.0080 - val_reconstruction: 2213.7075\n",
      "Epoch 50/60\n",
      "8371/8371 [==============================] - 1s 179us/step - loss: 2213.7533 - kl: 0.0452 - reconstruction: 2213.7487 - val_loss: 2213.6775 - val_kl: 0.0011 - val_reconstruction: 2213.6775\n",
      "Epoch 51/60\n",
      "8371/8371 [==============================] - 1s 177us/step - loss: 2213.7489 - kl: 0.0409 - reconstruction: 2213.7449 - val_loss: 2213.7116 - val_kl: 7.2648e-04 - val_reconstruction: 2213.7116\n",
      "Epoch 52/60\n",
      "8371/8371 [==============================] - 1s 175us/step - loss: 2213.7447 - kl: 0.0337 - reconstruction: 2213.7414 - val_loss: 2213.7811 - val_kl: 0.0142 - val_reconstruction: 2213.7796\n",
      "Epoch 53/60\n",
      "8371/8371 [==============================] - 2s 182us/step - loss: 2213.7487 - kl: 0.0321 - reconstruction: 2213.7454 - val_loss: 2213.7421 - val_kl: 0.0141 - val_reconstruction: 2213.7407\n",
      "Epoch 54/60\n",
      "8371/8371 [==============================] - 1s 178us/step - loss: 2213.7452 - kl: 0.0316 - reconstruction: 2213.7420 - val_loss: 2213.7348 - val_kl: 0.0030 - val_reconstruction: 2213.7346\n",
      "Epoch 55/60\n",
      "8371/8371 [==============================] - 1s 170us/step - loss: 2213.7444 - kl: 0.0379 - reconstruction: 2213.7406 - val_loss: 2213.7368 - val_kl: 0.0019 - val_reconstruction: 2213.7365\n",
      "Epoch 56/60\n",
      "8371/8371 [==============================] - 1s 175us/step - loss: 2213.7443 - kl: 0.0286 - reconstruction: 2213.7415 - val_loss: 2213.7462 - val_kl: 0.0053 - val_reconstruction: 2213.7457\n",
      "Epoch 57/60\n",
      "8371/8371 [==============================] - 1s 174us/step - loss: 2213.7435 - kl: 0.0285 - reconstruction: 2213.7406 - val_loss: 2213.7403 - val_kl: 0.0414 - val_reconstruction: 2213.7362\n",
      "Epoch 58/60\n",
      "8371/8371 [==============================] - 1s 174us/step - loss: 2213.7401 - kl: 0.0347 - reconstruction: 2213.7367 - val_loss: 2213.7728 - val_kl: 0.0880 - val_reconstruction: 2213.7640\n",
      "Epoch 59/60\n",
      "8371/8371 [==============================] - 2s 184us/step - loss: 2213.7396 - kl: 0.0351 - reconstruction: 2213.7361 - val_loss: 2213.8437 - val_kl: 0.0045 - val_reconstruction: 2213.8432\n",
      "Epoch 60/60\n",
      "8371/8371 [==============================] - 2s 185us/step - loss: 2213.7396 - kl: 0.0331 - reconstruction: 2213.7363 - val_loss: 2213.8202 - val_kl: 0.0066 - val_reconstruction: 2213.8194\n"
     ]
    }
   ],
   "source": [
    "h = variational_ae.fit(Training_Images, Training_Images, epochs=60, batch_size=batch_size, validation_data=[Test_Images, Test_Images])"
   ]
  },
  {
   "cell_type": "code",
   "execution_count": 194,
   "metadata": {},
   "outputs": [],
   "source": [
    "plot_model(variational_encoder, to_file='W_Conv_Model_Structures/vae_W_encoder.png', show_shapes=True)\n",
    "plot_model(variational_decoder, to_file='W_Conv_Model_Structures/vae_W_decoder.png', show_shapes=True)\n",
    "plot_model(variational_ae, to_file='W_Conv_Model_Structures/vae_W.png', show_shapes=True)"
   ]
  },
  {
   "cell_type": "code",
   "execution_count": 195,
   "metadata": {},
   "outputs": [
    {
     "data": {
      "image/png": "[encoded data removed]",
      "text/plain": [
       "<Figure size 432x288 with 1 Axes>"
      ]
     },
     "metadata": {
      "needs_background": "light"
     },
     "output_type": "display_data"
    }
   ],
   "source": [
    "hdict1 = h.history\n",
    "train_loss_values1 = hdict1['loss']\n",
    "valid_loss_values1 = hdict1['val_loss']\n",
    "epochs1 = range(1, len(train_loss_values1) + 1)\n",
    "plt.plot(epochs1, train_loss_values1, 'bo', label='Train loss')\n",
    "plt.plot(epochs1, valid_loss_values1, 'b', label='Valid loss')\n",
    "plt.title('VAE Training and validation loss')\n",
    "plt.xlabel('Epochs', fontsize = 20)\n",
    "plt.ylabel('Loss', fontsize = 20)\n",
    "#plt.yscale('log')\n",
    "plt.legend()\n",
    "plt.show()\n",
    "plt.close()"
   ]
  },
  {
   "cell_type": "code",
   "execution_count": 196,
   "metadata": {},
   "outputs": [
    {
     "data": {
      "image/png": "[encoded data removed]",
      "text/plain": [
       "<Figure size 432x288 with 1 Axes>"
      ]
     },
     "metadata": {
      "needs_background": "light"
     },
     "output_type": "display_data"
    }
   ],
   "source": [
    "train_loss_values1 = hdict1['reconstruction']\n",
    "valid_loss_values1 = hdict1['val_reconstruction']\n",
    "epochs1 = range(1, len(train_loss_values1) + 1)\n",
    "plt.plot(epochs1, train_loss_values1, 'go', label='Train loss')\n",
    "plt.plot(epochs1, valid_loss_values1, 'g', label='Valid loss')\n",
    "plt.title('Reconstruction Training and validation loss')\n",
    "plt.xlabel('Epochs', fontsize = 20)\n",
    "plt.ylabel('Loss', fontsize = 20)\n",
    "#plt.yscale('log')\n",
    "plt.legend()\n",
    "plt.show()\n",
    "plt.close()"
   ]
  },
  {
   "cell_type": "code",
   "execution_count": 197,
   "metadata": {},
   "outputs": [
    {
     "data": {
      "image/png": "[encoded data removed]",
      "text/plain": [
       "<Figure size 432x288 with 1 Axes>"
      ]
     },
     "metadata": {
      "needs_background": "light"
     },
     "output_type": "display_data"
    }
   ],
   "source": [
    "#make a plot for kl and reconstruction loss\n",
    "kl_train_loss_values1 = hdict1['kl']\n",
    "kl_valid_loss_values1 = hdict1['val_kl']\n",
    "recon_train_loss_values1 = hdict1['reconstruction']\n",
    "recon_valid_loss_values1 = hdict1['val_reconstruction']\n",
    "epochs1 = range(1, len(train_loss_values1) + 1)\n",
    "plt.plot(epochs1, kl_train_loss_values1, 'ro', label='Train KL loss')\n",
    "plt.plot(epochs1, kl_valid_loss_values1, 'r', label='Valid KL loss')\n",
    "plt.plot(epochs1, recon_train_loss_values1, 'go', label='Train Reconstruction loss')\n",
    "plt.plot(epochs1, recon_valid_loss_values1, 'g', label='Valid Reconstruction loss')\n",
    "plt.title('VAE Loss Compoinents')\n",
    "plt.xlabel('Epochs', fontsize = 20)\n",
    "plt.ylabel('Loss', fontsize = 20)\n",
    "plt.yscale('log')\n",
    "plt.legend()\n",
    "plt.show()\n",
    "plt.close()"
   ]
  },
  {
   "cell_type": "code",
   "execution_count": 198,
   "metadata": {},
   "outputs": [],
   "source": [
    "del variational_ae"
   ]
  },
  {
   "cell_type": "code",
   "execution_count": null,
   "metadata": {},
   "outputs": [],
   "source": []
  }
 ],
 "metadata": {
  "kernelspec": {
   "display_name": "Python 3",
   "language": "python",
   "name": "python3"
  },
  "language_info": {
   "codemirror_mode": {
    "name": "ipython",
    "version": 3
   },
   "file_extension": ".py",
   "mimetype": "text/x-python",
   "name": "python",
   "nbconvert_exporter": "python",
   "pygments_lexer": "ipython3",
   "version": "3.7.3"
  }
 },
 "nbformat": 4,
 "nbformat_minor": 2
}
