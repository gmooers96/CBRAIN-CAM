{
 "cells": [
  {
   "cell_type": "code",
   "execution_count": null,
   "metadata": {},
   "outputs": [],
   "source": [
    "import numpy as np\n",
    "import itertools\n",
    "import math\n",
    "import scipy\n",
    "from scipy import spatial\n",
    "import matplotlib.pyplot as plt\n",
    "import matplotlib\n",
    "import matplotlib.patches as patches\n",
    "from matplotlib import animation\n",
    "from matplotlib import transforms\n",
    "from mpl_toolkits.axes_grid1 import make_axes_locatable\n",
    "import xarray as xr\n",
    "import dask\n",
    "from sklearn.cluster import KMeans\n",
    "from sklearn.cluster import AgglomerativeClustering\n",
    "import pandas as pd\n",
    "import netCDF4"
   ]
  },
  {
   "cell_type": "code",
   "execution_count": null,
   "metadata": {},
   "outputs": [],
   "source": [
    "def plot_generator_paper(sample, X, Z):\n",
    "    \n",
    "    fz = 15*1.25\n",
    "    lw = 4\n",
    "    siz = 100\n",
    "    XNNA = 1.25 # Abscissa where architecture-constrained network will be placed\n",
    "    XTEXT = 0.25 # Text placement\n",
    "    YTEXT = 0.3 # Text placement\n",
    "    \n",
    "    plt.rc('text', usetex=False)\n",
    "    matplotlib.rcParams['mathtext.fontset'] = 'stix'\n",
    "    matplotlib.rcParams['font.family'] = 'STIXGeneral'\n",
    "    #mpl.rcParams[\"font.serif\"] = \"STIX\"\n",
    "    plt.rc('font', family='serif', size=fz)\n",
    "    matplotlib.rcParams['lines.linewidth'] = lw\n",
    "    \n",
    "    \n",
    "    cmap=\"RdBu_r\"\n",
    "    fig, ax = plt.subplots(1,1, figsize=(15,6))\n",
    "    cs0 = ax.pcolor(X, Z, sample, cmap=cmap, vmin=-1.0, vmax = 1.0)\n",
    "    ax.set_title(\"Anomalous Vertical Velocity Field Detected By ELBO\")\n",
    "    ax.set_ylim(ax.get_ylim()[::-1])\n",
    "    ax.set_xlabel(\"CRMs\", fontsize=fz*1.5)\n",
    "    ax.xaxis.set_label_coords(0.54,-0.05)\n",
    "    h = ax.set_ylabel(\"hPa\", fontsize = fz*1.5)\n",
    "    h.set_rotation(0)\n",
    "    ax.yaxis.set_label_coords(-0.10,0.44)\n",
    "    #y_ticks = np.arange(1350, 0, -350)\n",
    "    #ax.set_yticklabels(y_ticks, fontsize=fz*1.33)\n",
    "    ax.tick_params(axis='x', labelsize=fz*1.33)\n",
    "    ax.tick_params(axis='y', labelsize=fz*1.33)\n",
    "    divider = make_axes_locatable(ax)\n",
    "    cax = divider.append_axes(\"right\", size=\"5%\", pad=0.05)\n",
    "    cbar = fig.colorbar(cs0, cax=cax)\n",
    "    cbar.set_label(label=r'$\\left(\\mathrm{m\\ s^{-1}}\\right)$', rotation=\"horizontal\", fontsize=fz*1.5, labelpad=30, y = 0.65)\n",
    "    plt.show()\n",
    "    #plt.savefig(\"/fast/gmooers/gmooers_git/CBRAIN-CAM/MAPS/CI_Figure_Data/Anomaly.pdf\")\n",
    "    \n",
    "#plot_generator(test[0,:,:])"
   ]
  },
  {
   "cell_type": "code",
   "execution_count": null,
   "metadata": {},
   "outputs": [],
   "source": [
    "path_to_file = '/DFS-L/DATA/pritchard/gmooers/Workflow/MAPS/SPCAM/100_Days/New_SPCAM5/archive/TimestepOutput_Neuralnet_SPCAM_216/atm/hist/TimestepOutput_Neuralnet_SPCAM_216.cam.h1.2009-01-20-00000.nc'\n",
    "extra_variables = xr.open_dataset(path_to_file)\n",
    "lats = np.squeeze(extra_variables.LAT_20s_to_20n.values)\n",
    "lons = np.squeeze(extra_variables.LON_0e_to_360e.values)"
   ]
  },
  {
   "cell_type": "code",
   "execution_count": null,
   "metadata": {},
   "outputs": [],
   "source": [
    "path_to_file = '/DFS-L/DATA/pritchard/gmooers/Workflow/MAPS/SPCAM/100_Days/New_SPCAM5/archive/TimestepOutput_Neuralnet_SPCAM_216/atm/hist/TimestepOutput_Neuralnet_SPCAM_216.cam.h1.20*'\n",
    "extra_variables = xr.open_mfdataset(path_to_file)\n",
    "amazon = xr.DataArray.squeeze(extra_variables.CRM_W_LON_0e_to_360e_LAT_20s_to_20n[:,:,:,:,10,-29])\n",
    "atlantic = xr.DataArray.squeeze(extra_variables.CRM_W_LON_0e_to_360e_LAT_20s_to_20n[:,:,:,:,10,121])\n",
    "print(amazon.shape)"
   ]
  },
  {
   "cell_type": "code",
   "execution_count": null,
   "metadata": {},
   "outputs": [],
   "source": [
    "others = netCDF4.Dataset(\"/fast/gmooers/Raw_Data/extras/TimestepOutput_Neuralnet_SPCAM_216.cam.h1.2009-01-01-00000.nc\")\n",
    "levs = np.array(others.variables['lev'])\n",
    "new = np.flip(levs)\n",
    "crms = np.arange(1,129,1)\n",
    "Xs, Zs = np.meshgrid(crms, new)"
   ]
  },
  {
   "cell_type": "code",
   "execution_count": null,
   "metadata": {},
   "outputs": [],
   "source": [
    "Max_Scalar = np.load(\"/fast/gmooers/Preprocessed_Data/W_Variable/Space_Time_Max_Scalar.npy\")\n",
    "Min_Scalar = np.load(\"/fast/gmooers/Preprocessed_Data/W_Variable/Space_Time_Min_Scalar.npy\")"
   ]
  },
  {
   "cell_type": "code",
   "execution_count": null,
   "metadata": {},
   "outputs": [],
   "source": [
    "day_images = amazon[16:112,:,:]\n",
    "week_images = amazon[16:112*6+16,:,:]\n",
    "synoptic_imagess = amazon[16:112*13,:,:]\n",
    "\n",
    "atlantic_day_images = atlantic[5:101,:,:]\n",
    "atlantic_week_images = atlantic[5:96*7+5,:,:]\n",
    "atlantic_synoptic_imagess = atlantic[5:96*14+5,:,:]"
   ]
  },
  {
   "cell_type": "code",
   "execution_count": null,
   "metadata": {},
   "outputs": [],
   "source": [
    "Test_Day = np.interp(day_images, (Min_Scalar, Max_Scalar), (0, 1))\n",
    "Test_Week = np.interp(week_images, (Min_Scalar, Max_Scalar), (0, 1))\n",
    "Test_Synoptic = np.interp(synoptic_imagess, (Min_Scalar, Max_Scalar), (0, 1))\n",
    "\n",
    "atlantic_Test_Day = np.interp(atlantic_day_images, (Min_Scalar, Max_Scalar), (0, 1))\n",
    "atlantic_Test_Week = np.interp(atlantic_week_images, (Min_Scalar, Max_Scalar), (0, 1))\n",
    "atlantic_Test_Synoptic = np.interp(atlantic_synoptic_imagess, (Min_Scalar, Max_Scalar), (0, 1))"
   ]
  },
  {
   "cell_type": "code",
   "execution_count": null,
   "metadata": {},
   "outputs": [],
   "source": [
    "np.save(\"/fast/gmooers/Preprocessed_Data/Single_Amazon_Unaveraged/w_var_test_day.npy\",Test_Day)\n",
    "np.save(\"/fast/gmooers/Preprocessed_Data/Single_Amazon_Unaveraged/w_var_test_week.npy\",Test_Week)\n",
    "np.save(\"/fast/gmooers/Preprocessed_Data/Single_Amazon_Unaveraged/w_var_test_synoptic.npy\",Test_Synoptic)"
   ]
  },
  {
   "cell_type": "code",
   "execution_count": null,
   "metadata": {},
   "outputs": [],
   "source": [
    "np.save(\"/fast/gmooers/Preprocessed_Data/Single_Amazon_Unaveraged/w_var_atlantic_test_day.npy\",atlantic_Test_Day)\n",
    "np.save(\"/fast/gmooers/Preprocessed_Data/Single_Amazon_Unaveraged/w_var_atlantic_test_week.npy\",atlantic_Test_Week)\n",
    "np.save(\"/fast/gmooers/Preprocessed_Data/Single_Amazon_Unaveraged/w_var_atlantic_test_synoptic.npy\",atlantic_Test_Synoptic)"
   ]
  },
  {
   "cell_type": "code",
   "execution_count": null,
   "metadata": {},
   "outputs": [],
   "source": [
    "All_amazon = np.interp(amazon[16:,:,:], (Min_Scalar, Max_Scalar), (0, 1))\n",
    "All_Atlantic = np.interp(atlantic[5:,:,:], (Min_Scalar, Max_Scalar), (0, 1))"
   ]
  },
  {
   "cell_type": "code",
   "execution_count": null,
   "metadata": {},
   "outputs": [],
   "source": [
    "np.save(\"/fast/gmooers/Preprocessed_Data/Single_Amazon_Unaveraged/w_var_test_amazon_all.npy\",All_amazon)\n",
    "np.save(\"/fast/gmooers/Preprocessed_Data/Single_Amazon_Unaveraged/w_var_test_atlantic_all.npy\",All_Atlantic)"
   ]
  }
 ],
 "metadata": {
  "kernelspec": {
   "display_name": "Python 3",
   "language": "python",
   "name": "python3"
  },
  "language_info": {
   "codemirror_mode": {
    "name": "ipython",
    "version": 3
   },
   "file_extension": ".py",
   "mimetype": "text/x-python",
   "name": "python",
   "nbconvert_exporter": "python",
   "pygments_lexer": "ipython3",
   "version": "3.7.3"
  }
 },
 "nbformat": 4,
 "nbformat_minor": 4
}
