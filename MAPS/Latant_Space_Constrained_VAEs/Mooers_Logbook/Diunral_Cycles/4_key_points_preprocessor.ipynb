{
 "cells": [
  {
   "cell_type": "code",
   "execution_count": 1,
   "metadata": {},
   "outputs": [],
   "source": [
    "import numpy as np\n",
    "import itertools\n",
    "import math\n",
    "import scipy\n",
    "from scipy import spatial\n",
    "import matplotlib.pyplot as plt\n",
    "import matplotlib\n",
    "import matplotlib.patches as patches\n",
    "from matplotlib import animation\n",
    "from matplotlib import transforms\n",
    "from mpl_toolkits.axes_grid1 import make_axes_locatable\n",
    "import xarray as xr\n",
    "import dask\n",
    "from sklearn.cluster import KMeans\n",
    "from sklearn.cluster import AgglomerativeClustering\n",
    "import pandas as pd\n",
    "import netCDF4"
   ]
  },
  {
   "cell_type": "code",
   "execution_count": 2,
   "metadata": {},
   "outputs": [],
   "source": [
    "path_to_file = '/DFS-L/DATA/pritchard/gmooers/Workflow/MAPS/SPCAM/100_Days/New_SPCAM5/archive/TimestepOutput_Neuralnet_SPCAM_216/atm/hist/TimestepOutput_Neuralnet_SPCAM_216.cam.h1.2009-01-20-00000.nc'\n",
    "extra_variables = xr.open_dataset(path_to_file)\n",
    "lats = np.squeeze(extra_variables.LAT_20s_to_20n.values)\n",
    "lons = np.squeeze(extra_variables.LON_0e_to_360e.values)"
   ]
  },
  {
   "cell_type": "code",
   "execution_count": 3,
   "metadata": {},
   "outputs": [
    {
     "name": "stdout",
     "output_type": "stream",
     "text": [
      "-0.9473684210526301 285.0\n",
      "-12.31578947368422 2.5\n",
      "10.421052631578945 50.0\n",
      "0.9473684210526301 160.0\n"
     ]
    }
   ],
   "source": [
    "print(lats[10], lons[-30])\n",
    "print(lats[4], lons[1])\n",
    "print(lats[-6], lons[20])\n",
    "print(lats[-11], lons[-80])"
   ]
  },
  {
   "cell_type": "code",
   "execution_count": null,
   "metadata": {},
   "outputs": [],
   "source": [
    "path_to_file = '/DFS-L/DATA/pritchard/gmooers/Workflow/MAPS/SPCAM/100_Days/New_SPCAM5/archive/TimestepOutput_Neuralnet_SPCAM_216/atm/hist/TimestepOutput_Neuralnet_SPCAM_216.cam.h1.20*'\n",
    "extra_variables = xr.open_mfdataset(path_to_file)\n",
    "\n",
    "amazon = xr.DataArray.squeeze(extra_variables.CRM_W_LON_0e_to_360e_LAT_20s_to_20n[20+96*3:96*13+20,:,:,:,10,-30]).values\n",
    "sc_cloud = xr.DataArray.squeeze(extra_variables.CRM_W_LON_0e_to_360e_LAT_20s_to_20n[95+96*3:96*13+95,:,:,:,4,1]).values\n",
    "african_horn = xr.DataArray.squeeze(extra_variables.CRM_W_LON_0e_to_360e_LAT_20s_to_20n[83+96*3:96*13+83,:,:,:,-6,20]).values\n",
    "warm_pool = xr.DataArray.squeeze(extra_variables.CRM_W_LON_0e_to_360e_LAT_20s_to_20n[37+96*3:96*13+37,:,:,:,-11,-80]).values\n"
   ]
  },
  {
   "cell_type": "code",
   "execution_count": null,
   "metadata": {},
   "outputs": [],
   "source": [
    "others = netCDF4.Dataset(\"/fast/gmooers/Raw_Data/extras/TimestepOutput_Neuralnet_SPCAM_216.cam.h1.2009-01-01-00000.nc\")\n",
    "levs = np.array(others.variables['lev'])\n",
    "new = np.flip(levs)\n",
    "crms = np.arange(1,129,1)\n",
    "Xs, Zs = np.meshgrid(crms, new)"
   ]
  },
  {
   "cell_type": "code",
   "execution_count": null,
   "metadata": {},
   "outputs": [],
   "source": [
    "Max_Scalar = np.load(\"/fast/gmooers/Preprocessed_Data/Centered_50_50/Space_Time_Max_Scalar.npy\")\n",
    "Min_Scalar = np.load(\"/fast/gmooers/Preprocessed_Data/Centered_50_50/Space_Time_Min_Scalar.npy\")"
   ]
  },
  {
   "cell_type": "code",
   "execution_count": null,
   "metadata": {},
   "outputs": [],
   "source": [
    "amazon = np.interp(amazon, (Min_Scalar, Max_Scalar), (0, 1))\n",
    "sc_cloud = np.interp(sc_cloud, (Min_Scalar, Max_Scalar), (0, 1))\n",
    "african_horn = np.interp(african_horn, (Min_Scalar, Max_Scalar), (0, 1))\n",
    "warm_pool = np.interp(warm_pool, (Min_Scalar, Max_Scalar), (0, 1))"
   ]
  },
  {
   "cell_type": "code",
   "execution_count": null,
   "metadata": {},
   "outputs": [],
   "source": [
    "np.save(\"/fast/gmooers/Preprocessed_Data/Single_Amazon_Unaveraged/synoptic_amazon_point.npy\",amazon)\n",
    "np.save(\"/fast/gmooers/Preprocessed_Data/Single_Amazon_Unaveraged/synoptic_sc_point.npy\",sc_cloud)\n",
    "np.save(\"/fast/gmooers/Preprocessed_Data/Single_Amazon_Unaveraged/synoptic_desert_point.npy\",african_horn)\n",
    "np.save(\"/fast/gmooers/Preprocessed_Data/Single_Amazon_Unaveraged/synoptic_warm_pool_point.npy\",warm_pool)"
   ]
  },
  {
   "cell_type": "code",
   "execution_count": null,
   "metadata": {},
   "outputs": [],
   "source": [
    "amazon = xr.DataArray.squeeze(extra_variables.CRM_W_LON_0e_to_360e_LAT_20s_to_20n[20+96*3:96*13+20,:,:,:,10,-30]).values\n",
    "sc_cloud = xr.DataArray.squeeze(extra_variables.CRM_W_LON_0e_to_360e_LAT_20s_to_20n[95+96*3:96*13+95,:,:,:,4,1]).values\n",
    "african_horn = xr.DataArray.squeeze(extra_variables.CRM_W_LON_0e_to_360e_LAT_20s_to_20n[83+96*3:96*13+83,:,:,:,-6,20]).values\n",
    "warm_pool = xr.DataArray.squeeze(extra_variables.CRM_W_LON_0e_to_360e_LAT_20s_to_20n[37+96*3:96*13+37,:,:,:,-11,-80]).values\n"
   ]
  },
  {
   "cell_type": "code",
   "execution_count": null,
   "metadata": {},
   "outputs": [],
   "source": []
  }
 ],
 "metadata": {
  "kernelspec": {
   "display_name": "Python 3",
   "language": "python",
   "name": "python3"
  },
  "language_info": {
   "codemirror_mode": {
    "name": "ipython",
    "version": 3
   },
   "file_extension": ".py",
   "mimetype": "text/x-python",
   "name": "python",
   "nbconvert_exporter": "python",
   "pygments_lexer": "ipython3",
   "version": "3.7.3"
  }
 },
 "nbformat": 4,
 "nbformat_minor": 4
}
