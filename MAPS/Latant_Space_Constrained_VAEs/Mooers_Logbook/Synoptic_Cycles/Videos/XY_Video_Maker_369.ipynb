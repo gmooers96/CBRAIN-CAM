{
 "cells": [
  {
   "cell_type": "code",
   "execution_count": 1,
   "metadata": {},
   "outputs": [],
   "source": [
    "import os\n",
    "import moviepy.video.io.ImageSequenceClip\n",
    "from IPython.display import Video"
   ]
  },
  {
   "cell_type": "code",
   "execution_count": null,
   "metadata": {},
   "outputs": [
    {
     "name": "stderr",
     "output_type": "stream",
     "text": [
      "\r",
      "t:   0%|          | 0/961 [00:00<?, ?it/s, now=None]"
     ]
    },
    {
     "name": "stdout",
     "output_type": "stream",
     "text": [
      "Moviepy - Building video Animations/XY_Synoptic_Amazon_369.mp4.\n",
      "Moviepy - Writing video Animations/XY_Synoptic_Amazon_369.mp4\n",
      "\n"
     ]
    },
    {
     "name": "stderr",
     "output_type": "stream",
     "text": [
      "t:  12%|█▏        | 113/961 [00:14<01:46,  7.95it/s, now=None]"
     ]
    }
   ],
   "source": [
    "image_folder='XY_Amazon/'\n",
    "fps=30\n",
    "image_files = [image_folder+'/'+img for img in os.listdir(image_folder) if img.endswith(\".png\")]\n",
    "clip = moviepy.video.io.ImageSequenceClip.ImageSequenceClip(sorted(image_files), fps=fps)\n",
    "clip.write_videofile('Animations/XY_Synoptic_Amazon_369.mp4')"
   ]
  },
  {
   "cell_type": "code",
   "execution_count": null,
   "metadata": {},
   "outputs": [],
   "source": [
    "Video(\"Animations/XY_Synoptic_Amazon_369.mp4\", embed=True, width=1024, height=576)"
   ]
  },
  {
   "cell_type": "code",
   "execution_count": null,
   "metadata": {},
   "outputs": [],
   "source": [
    "image_folder='XY_SC_Cloud/'\n",
    "fps=30\n",
    "image_files = [image_folder+'/'+img for img in os.listdir(image_folder) if img.endswith(\".png\")]\n",
    "clip = moviepy.video.io.ImageSequenceClip.ImageSequenceClip(sorted(image_files), fps=fps)\n",
    "clip.write_videofile('Animations/XY_Synoptic_SC_Cloud_369.mp4')"
   ]
  },
  {
   "cell_type": "code",
   "execution_count": null,
   "metadata": {},
   "outputs": [],
   "source": [
    "Video(\"Animations/XY_Synoptic_SC_Cloud_369.mp4\", embed=True, width=1024, height=576)"
   ]
  },
  {
   "cell_type": "code",
   "execution_count": null,
   "metadata": {},
   "outputs": [],
   "source": [
    "image_folder='XY_Desert/'\n",
    "fps=30\n",
    "image_files = [image_folder+'/'+img for img in os.listdir(image_folder) if img.endswith(\".png\")]\n",
    "clip = moviepy.video.io.ImageSequenceClip.ImageSequenceClip(sorted(image_files), fps=fps)\n",
    "clip.write_videofile('Animations/XY_Synoptic_Desert_369.mp4')"
   ]
  },
  {
   "cell_type": "code",
   "execution_count": null,
   "metadata": {},
   "outputs": [],
   "source": [
    "Video(\"Animations/XY_Synoptic_Desert_369.mp4\", embed=True, width=1024, height=576)"
   ]
  },
  {
   "cell_type": "code",
   "execution_count": null,
   "metadata": {},
   "outputs": [],
   "source": [
    "image_folder='XY_Warm_Pool/'\n",
    "fps=30\n",
    "image_files = [image_folder+'/'+img for img in os.listdir(image_folder) if img.endswith(\".png\")]\n",
    "clip = moviepy.video.io.ImageSequenceClip.ImageSequenceClip(sorted(image_files), fps=fps)\n",
    "clip.write_videofile('Animations/XY_Synoptic_Warm_Pool_369.mp4')"
   ]
  },
  {
   "cell_type": "code",
   "execution_count": null,
   "metadata": {},
   "outputs": [],
   "source": [
    "Video(\"Animations/XY_Synoptic_Warm_Pool_369.mp4\", embed=True, width=1024, height=576)"
   ]
  }
 ],
 "metadata": {
  "kernelspec": {
   "display_name": "Python 3",
   "language": "python",
   "name": "python3"
  },
  "language_info": {
   "codemirror_mode": {
    "name": "ipython",
    "version": 3
   },
   "file_extension": ".py",
   "mimetype": "text/x-python",
   "name": "python",
   "nbconvert_exporter": "python",
   "pygments_lexer": "ipython3",
   "version": "3.7.3"
  }
 },
 "nbformat": 4,
 "nbformat_minor": 4
}
