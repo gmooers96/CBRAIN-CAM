{
 "cells": [
  {
   "cell_type": "markdown",
   "metadata": {},
   "source": [
    "Script to run a simple VAE"
   ]
  },
  {
   "cell_type": "markdown",
   "metadata": {},
   "source": [
    "Import the training and test \"Images\""
   ]
  },
  {
   "cell_type": "code",
   "execution_count": 1,
   "metadata": {},
   "outputs": [
    {
     "name": "stderr",
     "output_type": "stream",
     "text": [
      "/export/home/gmooers/miniconda3/envs/tf_gpu/lib/python3.7/site-packages/dask/config.py:168: YAMLLoadWarning: calling yaml.load() without Loader=... is deprecated, as the default Loader is unsafe. Please read https://msg.pyyaml.org/load for full details.\n",
      "  data = yaml.load(f.read()) or {}\n"
     ]
    }
   ],
   "source": [
    "import xarray as xr\n",
    "import dask\n",
    "import math\n",
    "import numpy as np\n",
    "import matplotlib.pyplot as plt"
   ]
  },
  {
   "cell_type": "code",
   "execution_count": 2,
   "metadata": {},
   "outputs": [],
   "source": [
    "Training_Images = np.load('/fast/gmooers/Preprocessed_Data/W_Trial/Space_Time_W_Training.npy')\n",
    "Test_Images = np.load('/fast/gmooers/Preprocessed_Data/W_Trial/Space_Time_W_Test.npy')"
   ]
  },
  {
   "cell_type": "code",
   "execution_count": 3,
   "metadata": {},
   "outputs": [
    {
     "name": "stdout",
     "output_type": "stream",
     "text": [
      "(8371, 30, 128)\n",
      "(2093, 30, 128)\n"
     ]
    }
   ],
   "source": [
    "print(Training_Images.shape)\n",
    "print(Test_Images.shape)"
   ]
  },
  {
   "cell_type": "markdown",
   "metadata": {},
   "source": [
    "Import the tools to construct the VAE"
   ]
  },
  {
   "cell_type": "code",
   "execution_count": 4,
   "metadata": {},
   "outputs": [
    {
     "name": "stderr",
     "output_type": "stream",
     "text": [
      "Using TensorFlow backend.\n"
     ]
    }
   ],
   "source": [
    "import keras\n",
    "from keras import layers\n",
    "from keras import backend as K\n",
    "from keras.models import Model"
   ]
  },
  {
   "cell_type": "markdown",
   "metadata": {},
   "source": [
    "Specify the dimensions of \"Loe Res Image Snapshots\""
   ]
  },
  {
   "cell_type": "code",
   "execution_count": 5,
   "metadata": {},
   "outputs": [],
   "source": [
    "img_shape = (len(Training_Images[0]), len(Training_Images[0][0]), 1)\n",
    "#Choose batch size - not sure what it should be\n",
    "batch_size = 16\n",
    "#Choose latent dim - 2 for now for easy analysis?\n",
    "latent_dim = 10\n",
    "\n",
    "\n",
    "#Specify the shape of the input layer\n",
    "input_img = keras.Input(shape =img_shape)"
   ]
  },
  {
   "cell_type": "markdown",
   "metadata": {},
   "source": [
    "Develope the Encoder portion of the VAE"
   ]
  },
  {
   "cell_type": "markdown",
   "metadata": {},
   "source": [
    "Encoder Settings"
   ]
  },
  {
   "cell_type": "code",
   "execution_count": 6,
   "metadata": {},
   "outputs": [],
   "source": [
    "dim1 = 64\n",
    "dim2 = 3\n",
    "stride = 2\n",
    "acti = 'relu'\n",
    "dense_shape = 32"
   ]
  },
  {
   "cell_type": "code",
   "execution_count": 7,
   "metadata": {},
   "outputs": [
    {
     "name": "stdout",
     "output_type": "stream",
     "text": [
      "WARNING:tensorflow:From /export/home/gmooers/miniconda3/envs/tf_gpu/lib/python3.7/site-packages/tensorflow/python/framework/op_def_library.py:263: colocate_with (from tensorflow.python.framework.ops) is deprecated and will be removed in a future version.\n",
      "Instructions for updating:\n",
      "Colocations handled automatically by placer.\n"
     ]
    }
   ],
   "source": [
    "x = layers.Conv2D(dim1, dim2, padding='same', activation = acti)(input_img)\n",
    "x = layers.Conv2D(dim1, dim2, padding='same', activation = acti, strides = (stride, stride))(x)\n",
    "x = layers.Conv2D(dim1, dim2, padding='same', activation = acti)(x)\n",
    "x = layers.Conv2D(dim1, dim2, padding='same', activation = acti)(x)\n",
    "shape_before_flattening = K.int_shape(x)\n",
    "x = layers.Flatten()(x)\n",
    "x = layers.Dense(dense_shape, activation = acti)(x)\n",
    "z_mean = layers.Dense(latent_dim)(x)\n",
    "z_log_var = layers.Dense(latent_dim)(x)"
   ]
  },
  {
   "cell_type": "markdown",
   "metadata": {},
   "source": [
    "Put in a custom layer for Latent Space sampling function"
   ]
  },
  {
   "cell_type": "code",
   "execution_count": 8,
   "metadata": {},
   "outputs": [],
   "source": [
    "def sampling(args):\n",
    "    z_mean, z_log_var = args\n",
    "    epsilon = K.random_normal(shape=(K.shape(z_mean)[0], latent_dim), mean=0., stddev=1.)\n",
    "    return z_mean + K.exp(z_log_var) * epsilon\n",
    "\n",
    "z = layers.Lambda(sampling)([z_mean, z_log_var])"
   ]
  },
  {
   "cell_type": "markdown",
   "metadata": {},
   "source": [
    "Now do the second half - the decoder network"
   ]
  },
  {
   "cell_type": "markdown",
   "metadata": {},
   "source": [
    "Decoder Setting"
   ]
  },
  {
   "cell_type": "code",
   "execution_count": 9,
   "metadata": {},
   "outputs": [],
   "source": [
    "dim1 = 32\n",
    "dim2 = 3\n",
    "small_dim = 1\n",
    "stride = 2\n",
    "acti = 'relu'\n",
    "acti_function = 'sigmoid'"
   ]
  },
  {
   "cell_type": "code",
   "execution_count": 10,
   "metadata": {},
   "outputs": [],
   "source": [
    "decoder_input = layers.Input(K.int_shape(z)[1:])\n",
    "x = layers.Dense(np.prod(shape_before_flattening[1:]), activation=acti)(decoder_input)\n",
    "x = layers.Reshape(shape_before_flattening[1:])(x)\n",
    "x = layers.Conv2DTranspose(dim1, dim2, padding='same', activation=acti, strides=(stride, stride))(x)\n",
    "x = layers.Conv2D(small_dim, dim2, padding='same', activation=acti_function)(x)\n",
    "decoder = Model(decoder_input, x)\n",
    "z_decoded = decoder(z)"
   ]
  },
  {
   "cell_type": "markdown",
   "metadata": {},
   "source": [
    "Add in a custom loss function that internally uses the built in add_loss layer method to create an arbitrary loss"
   ]
  },
  {
   "cell_type": "markdown",
   "metadata": {},
   "source": [
    "Reccomended Loss Function from Chollet 2018"
   ]
  },
  {
   "cell_type": "code",
   "execution_count": 11,
   "metadata": {},
   "outputs": [
    {
     "ename": "IndentationError",
     "evalue": "unexpected indent (<ipython-input-11-a487def3ac0e>, line 11)",
     "output_type": "error",
     "traceback": [
      "\u001b[0;36m  File \u001b[0;32m\"<ipython-input-11-a487def3ac0e>\"\u001b[0;36m, line \u001b[0;32m11\u001b[0m\n\u001b[0;31m    def kl_loss_part(self, x, z_decoded):\u001b[0m\n\u001b[0m    ^\u001b[0m\n\u001b[0;31mIndentationError\u001b[0m\u001b[0;31m:\u001b[0m unexpected indent\n"
     ]
    }
   ],
   "source": [
    "# class CustomVariationalLayer(keras.layers.Layer):\n",
    "    \n",
    "#     def vae_loss(self, x, z_decoded):\n",
    "#         x = K.flatten(x)\n",
    "#         z_decoded = K.flatten(z_decoded)\n",
    "#         xent_loss = keras.metrics.binary_crossentropy(x, z_decoded)\n",
    "#         kl_loss = -5e-4 * K.mean(1 + z_log_var - K.square(z_mean) - K.exp(z_log_var), axis=-1)\n",
    "#         #kl_loss = -5e-16 * K.mean(1 + z_log_var - K.square(z_mean) - K.exp(z_log_var), axis=-1)\n",
    "#         return K.mean(xent_loss + kl_loss)\n",
    "    \n",
    "#     def kl_loss_part(self, x, z_decoded):\n",
    "#         x = K.flatten(x)\n",
    "#         z_decoded = K.flatten(z_decoded)\n",
    "#         kl_loss = -5e-4 * K.mean(1 + z_log_var - K.square(z_mean) - K.exp(z_log_var), axis=-1)\n",
    "#         return kl_loss\n",
    "    \n",
    "#     def latent_loss(self, x, z_decoded):\n",
    "#         x = K.flatten(x)\n",
    "#         z_decoded = K.flatten(z_decoded)\n",
    "#         xent_loss = keras.metrics.binary_crossentropy(x, z_decoded)\n",
    "#         return xent_loss\n",
    "    \n",
    "#     def call(self, inputs):\n",
    "#         x = inputs[0]\n",
    "#         z_decoded = inputs[1]\n",
    "#         loss = self.vae_loss(x, z_decoded)\n",
    "#         self.add_loss(loss, inputs=inputs)\n",
    "#         #Griffin's edits to try ot add in info about the two losses\n",
    "#         kl_loss = self.kl_loss_part(x, z_decoded)\n",
    "#         xent_loss = self.latent_loss(x, z_decoded)\n",
    "        \n",
    "#         self.add_loss(kl_loss, inputs=inputs)\n",
    "#         self.add_loss(xent_loss, inputs=inputs)\n",
    "#         self.metrics_tensors = []\n",
    "#         self.metric_names = []\n",
    "        \n",
    "#         self.metrics_tensors.append(kl_loss)\n",
    "#         self.metric_names.append(\"kl_loss\")\n",
    "        \n",
    "#         self.metrics_tensors.append(xent_loss)\n",
    "#         self.metric_names.append(\"latent_loss\")\n",
    "#         return x\n",
    "    \n",
    "# y = CustomVariationalLayer()([input_img, z_decoded])"
   ]
  },
  {
   "cell_type": "code",
   "execution_count": 12,
   "metadata": {},
   "outputs": [],
   "source": [
    "class CustomVariationalLayer(keras.layers.Layer):\n",
    "    \n",
    "    def vae_loss(self, x, z_decoded):\n",
    "        x = K.flatten(x)\n",
    "        z_decoded = K.flatten(z_decoded)\n",
    "        xent_loss = keras.metrics.binary_crossentropy(x, z_decoded)\n",
    "        kl_loss = -5e-4 * K.mean(1 + z_log_var - K.square(z_mean) - K.exp(z_log_var), axis=-1)\n",
    "        #kl_loss = -5e-16 * K.mean(1 + z_log_var - K.square(z_mean) - K.exp(z_log_var), axis=-1)\n",
    "        return K.mean(xent_loss + kl_loss)\n",
    "\n",
    "    def call(self, inputs):\n",
    "        x = inputs[0]\n",
    "        z_decoded = inputs[1]\n",
    "        loss = self.vae_loss(x, z_decoded)\n",
    "        self.add_loss(loss, inputs=inputs)\n",
    "        #Griffin's edits to try ot add in info about the two losses\n",
    "        return x\n",
    "    \n",
    "y = CustomVariationalLayer()([input_img, z_decoded])\n"
   ]
  },
  {
   "cell_type": "markdown",
   "metadata": {},
   "source": [
    "Reccomended way to design loss function from Geron 2019\n",
    "\n",
    "VAE loss rewritten using $y = \\log(\\sigma _2)$\n",
    "\n",
    "$L = -\\frac{1}{2}\\sum_{i=1}^K 1 + t_i - e^{y_i} - \\mu_i^2$"
   ]
  },
  {
   "cell_type": "markdown",
   "metadata": {},
   "source": [
    "Combine these components to train the VAE"
   ]
  },
  {
   "cell_type": "code",
   "execution_count": 13,
   "metadata": {},
   "outputs": [
    {
     "name": "stdout",
     "output_type": "stream",
     "text": [
      "__________________________________________________________________________________________________\n",
      "Layer (type)                    Output Shape         Param #     Connected to                     \n",
      "==================================================================================================\n",
      "input_1 (InputLayer)            (None, 30, 128, 1)   0                                            \n",
      "__________________________________________________________________________________________________\n",
      "conv2d_1 (Conv2D)               (None, 30, 128, 64)  640         input_1[0][0]                    \n",
      "__________________________________________________________________________________________________\n",
      "conv2d_2 (Conv2D)               (None, 15, 64, 64)   36928       conv2d_1[0][0]                   \n",
      "__________________________________________________________________________________________________\n",
      "conv2d_3 (Conv2D)               (None, 15, 64, 64)   36928       conv2d_2[0][0]                   \n",
      "__________________________________________________________________________________________________\n",
      "conv2d_4 (Conv2D)               (None, 15, 64, 64)   36928       conv2d_3[0][0]                   \n",
      "__________________________________________________________________________________________________\n",
      "flatten_1 (Flatten)             (None, 61440)        0           conv2d_4[0][0]                   \n",
      "__________________________________________________________________________________________________\n",
      "dense_1 (Dense)                 (None, 32)           1966112     flatten_1[0][0]                  \n",
      "__________________________________________________________________________________________________\n",
      "dense_2 (Dense)                 (None, 10)           330         dense_1[0][0]                    \n",
      "__________________________________________________________________________________________________\n",
      "dense_3 (Dense)                 (None, 10)           330         dense_1[0][0]                    \n",
      "__________________________________________________________________________________________________\n",
      "lambda_1 (Lambda)               (None, 10)           0           dense_2[0][0]                    \n",
      "                                                                 dense_3[0][0]                    \n",
      "__________________________________________________________________________________________________\n",
      "model_1 (Model)                 (None, 30, 128, 1)   694593      lambda_1[0][0]                   \n",
      "__________________________________________________________________________________________________\n",
      "custom_variational_layer_1 (Cus [(None, 30, 128, 1), 0           input_1[0][0]                    \n",
      "                                                                 model_1[1][0]                    \n",
      "==================================================================================================\n",
      "Total params: 2,772,789\n",
      "Trainable params: 2,772,789\n",
      "Non-trainable params: 0\n",
      "__________________________________________________________________________________________________\n"
     ]
    }
   ],
   "source": [
    "vae = Model(input_img, y)\n",
    "vae.compile(optimizer='rmsprop', loss=None)\n",
    "vae.summary()"
   ]
  },
  {
   "cell_type": "markdown",
   "metadata": {},
   "source": [
    "Reshape training images to put into the VAE"
   ]
  },
  {
   "cell_type": "code",
   "execution_count": 14,
   "metadata": {},
   "outputs": [],
   "source": [
    "Training_Images = Training_Images.reshape(Training_Images.shape+(1,))\n",
    "Test_Images = Test_Images.reshape(Test_Images.shape+(1,))"
   ]
  },
  {
   "cell_type": "code",
   "execution_count": null,
   "metadata": {},
   "outputs": [
    {
     "name": "stdout",
     "output_type": "stream",
     "text": [
      "WARNING:tensorflow:From /export/home/gmooers/miniconda3/envs/tf_gpu/lib/python3.7/site-packages/tensorflow/python/ops/math_ops.py:3066: to_int32 (from tensorflow.python.ops.math_ops) is deprecated and will be removed in a future version.\n",
      "Instructions for updating:\n",
      "Use tf.cast instead.\n",
      "Train on 8371 samples, validate on 2093 samples\n",
      "Epoch 1/10\n"
     ]
    }
   ],
   "source": [
    "h = vae.fit(x=Training_Images, y=None, shuffle=True, epochs=10, batch_size=batch_size, validation_data=(Test_Images, None))"
   ]
  },
  {
   "cell_type": "code",
   "execution_count": null,
   "metadata": {},
   "outputs": [],
   "source": [
    "print(vae.metrics['kl_loss'])"
   ]
  },
  {
   "cell_type": "code",
   "execution_count": null,
   "metadata": {},
   "outputs": [],
   "source": [
    "print(hdict1['kl_loss'])"
   ]
  },
  {
   "cell_type": "code",
   "execution_count": null,
   "metadata": {},
   "outputs": [],
   "source": [
    "hdict1 = h.history\n",
    "train_loss_values1 = hdict1['loss']\n",
    "valid_loss_values1 = hdict1['val_loss']\n",
    "epochs1 = range(1, len(train_loss_values1) + 1)\n",
    "plt.plot(epochs1, train_loss_values1, 'bo', label='Train loss')\n",
    "plt.plot(epochs1, valid_loss_values1, 'b', label='Valid loss')\n",
    "plt.title('VAE Training and validation loss')\n",
    "plt.xlabel('Epochs', fontsize = 20)\n",
    "plt.ylabel('Loss', fontsize = 20)\n",
    "plt.yscale('log')\n",
    "plt.legend()\n",
    "plt.show()"
   ]
  },
  {
   "cell_type": "markdown",
   "metadata": {},
   "source": [
    "One way to sample from latent space - see if it has any utility here?"
   ]
  },
  {
   "cell_type": "code",
   "execution_count": null,
   "metadata": {},
   "outputs": [],
   "source": [
    "# Scalar = np.load('/fast/gmooers/Preprocessed_Data/W_Trial/Space_Time_Scalar.npy')\n",
    "# print(Scalar)"
   ]
  },
  {
   "cell_type": "code",
   "execution_count": null,
   "metadata": {},
   "outputs": [],
   "source": [
    "import matplotlib.pyplot as plt\n",
    "from scipy.stats import norm\n",
    "n = 2\n",
    "digit_size_one = 30\n",
    "digit_size_two = 128\n",
    "figure = np.zeros((digit_size_one * n, digit_size_two * n))\n",
    "grid_x = norm.ppf(np.linspace(0.05, 0.95, n))\n",
    "grid_y = norm.ppf(np.linspace(0.05, 0.95, n))\n",
    "for i, yi in enumerate(grid_x):\n",
    "    for j, xi in enumerate(grid_y):\n",
    "        z_sample = np.array([[xi, yi]])\n",
    "        z_sample = np.tile(z_sample, batch_size).reshape(batch_size, 2)\n",
    "        x_decoded = decoder.predict(z_sample, batch_size=batch_size)\n",
    "        digit = x_decoded[0].reshape(digit_size_one, digit_size_two)\n",
    "        figure[i * digit_size_one: (i + 1) * digit_size_one,\n",
    "            j * digit_size_two: (j + 1) * digit_size_two] = digit\n",
    "\n",
    "fig = plt.figure(figsize=(30, 20))\n",
    "ax = plt.axes()\n",
    "my_plot = plt.imshow(figure, cmap='RdBu')\n",
    "cax = fig.add_axes([ax.get_position().x1+0.01,ax.get_position().y0,0.02,ax.get_position().height])\n",
    "plt.colorbar(my_plot, label = \"Vertical Velocities\", cax = cax)\n",
    "ax.set_ylabel(\"Pressure Grids\")\n",
    "ax.set_xlabel(\"CRM Grids\")\n",
    "ax.set_xticks([])\n",
    "ax.set_yticks([])\n",
    "ax.set_title(\"Vertical Velocity Fields Sampled From Latent Space\")\n",
    "plt.show()"
   ]
  },
  {
   "cell_type": "code",
   "execution_count": null,
   "metadata": {},
   "outputs": [],
   "source": [
    "print(vae)"
   ]
  },
  {
   "cell_type": "code",
   "execution_count": null,
   "metadata": {},
   "outputs": [],
   "source": [
    "print('made it')"
   ]
  }
 ],
 "metadata": {
  "kernelspec": {
   "display_name": "Python 3",
   "language": "python",
   "name": "python3"
  },
  "language_info": {
   "codemirror_mode": {
    "name": "ipython",
    "version": 3
   },
   "file_extension": ".py",
   "mimetype": "text/x-python",
   "name": "python",
   "nbconvert_exporter": "python",
   "pygments_lexer": "ipython3",
   "version": "3.7.3"
  }
 },
 "nbformat": 4,
 "nbformat_minor": 2
}
