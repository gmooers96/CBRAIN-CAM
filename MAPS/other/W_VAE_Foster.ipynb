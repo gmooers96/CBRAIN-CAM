{
 "cells": [
  {
   "cell_type": "code",
   "execution_count": 1,
   "metadata": {},
   "outputs": [
    {
     "name": "stderr",
     "output_type": "stream",
     "text": [
      "/export/home/gmooers/miniconda3/envs/tf_gpu/lib/python3.7/site-packages/dask/config.py:168: YAMLLoadWarning: calling yaml.load() without Loader=... is deprecated, as the default Loader is unsafe. Please read https://msg.pyyaml.org/load for full details.\n",
      "  data = yaml.load(f.read()) or {}\n"
     ]
    }
   ],
   "source": [
    "import xarray as xr\n",
    "import dask\n",
    "import math\n",
    "import numpy as np"
   ]
  },
  {
   "cell_type": "code",
   "execution_count": 2,
   "metadata": {},
   "outputs": [],
   "source": [
    "Training_Images = np.load('/fast/gmooers/Preprocessed_Data/W_Trial/W_Training.npy')\n",
    "Test_Images = np.load('/fast/gmooers/Preprocessed_Data/W_Trial/W_Test.npy')"
   ]
  },
  {
   "cell_type": "code",
   "execution_count": 3,
   "metadata": {},
   "outputs": [
    {
     "name": "stderr",
     "output_type": "stream",
     "text": [
      "Using TensorFlow backend.\n"
     ]
    }
   ],
   "source": [
    "import keras\n",
    "from keras import layers\n",
    "from keras import backend as K\n",
    "from keras.models import Model"
   ]
  },
  {
   "cell_type": "code",
   "execution_count": 19,
   "metadata": {},
   "outputs": [],
   "source": [
    "input_dim = (len(Training_Images[0]), len(Training_Images[0][0]),1)\n",
    "encoder_input = layers.Input(input_dim, name = 'encoder_input')\n",
    "x = encoder_input\n",
    "dim1 = 64\n",
    "dim2 = 3\n",
    "n_layers_encoder = 4\n",
    "stride = 2\n",
    "zdim = 32\n",
    "acti = \"selu\"\n",
    "\n",
    "x = layers.Conv2D(dim1, dim2, padding='same', activation = acti)(encoder_input)\n",
    "x = layers.Conv2D(dim1, dim2, padding='same', activation = acti, strides = (stride, stride))(x)\n",
    "x = layers.Conv2D(dim1, dim2, padding='same', activation = acti)(x)\n",
    "x = layers.Conv2D(dim1, dim2, padding='same', activation = acti)(x)\n",
    "shape_before_flattening = K.int_shape(x)\n",
    "x = layers.Flatten()(x)\n",
    "\n",
    "mu = layers.Dense(zdim, name='mu')(x)\n",
    "log_var = layers.Dense(zdim, name = 'log_var')(x)\n",
    "\n",
    "encoder_mu_log_var = Model(encoder_input, (mu, log_var))\n",
    "\n",
    "\n",
    "\n"
   ]
  },
  {
   "cell_type": "code",
   "execution_count": 20,
   "metadata": {},
   "outputs": [],
   "source": [
    "def sampling(args):\n",
    "    mu, log_var = args\n",
    "    epsilon = K.random_normal(shape=K.shape(mu), mean=0., stddev=1.)\n",
    "    return mu+K.exp(log_var/2)*epsilon"
   ]
  },
  {
   "cell_type": "code",
   "execution_count": 22,
   "metadata": {},
   "outputs": [],
   "source": [
    "encoder_output = layers.Lambda(sampling, name='encoder_output')([mu, log_var])"
   ]
  },
  {
   "cell_type": "code",
   "execution_count": 23,
   "metadata": {},
   "outputs": [],
   "source": [
    "encoder = Model(encoder_input, encoder_output)"
   ]
  },
  {
   "cell_type": "code",
   "execution_count": null,
   "metadata": {},
   "outputs": [],
   "source": [
    "dim1 = 32\n",
    "dim2 = 3\n",
    "small_dim = 1\n",
    "stride = 2\n",
    "acti = 'relu'\n",
    "acti_function = 'sigmoid'"
   ]
  },
  {
   "cell_type": "code",
   "execution_count": null,
   "metadata": {},
   "outputs": [],
   "source": [
    "decoder_input = layers.Input(K.int_shape(z)[1:])\n",
    "x = layers.Dense(np.prod(shape_before_flattening[1:]), activation=acti)(decoder_input)\n",
    "x = layers.Reshape(shape_before_flattening[1:])(x)\n",
    "x = layers.Conv2DTranspose(dim1, dim2, padding='same', activation=acti, strides=(stride, stride))(x)\n",
    "x = layers.Conv2D(small_dim, dim2, padding='same', activation=acti_function)(x)\n",
    "decoder = Model(decoder_input, x)\n",
    "z_decoded = decoder(z)"
   ]
  },
  {
   "cell_type": "code",
   "execution_count": 26,
   "metadata": {},
   "outputs": [],
   "source": [
    "#given in example\n",
    "learning_rate = 0.0005\n",
    "optimizer = keras.optimizers.Adam(lr=learning_rate)"
   ]
  },
  {
   "cell_type": "code",
   "execution_count": 27,
   "metadata": {},
   "outputs": [],
   "source": [
    "def vae_r_loss(y_true, y_pred):\n",
    "    r_loss = K.mean(K.square(y_true-y_pred), axis = [1,2,3])\n",
    "    return r_loss_factor*r_loss\n",
    "\n",
    "def vae_kl_loss(y_true, y_pred):\n",
    "    kl_loss = -0.5*K.sum(1+self.log_var-K.square(self.mu)-K.exp(self.log_var), axis = 1)\n",
    "    return kl_loss\n",
    "\n",
    "def vae_loss(y_true, y_pred):\n",
    "    r_loss = vae_r_loss(y_true, y_pred)\n",
    "    kl_loss = vae_kl_loss(y_true, y_pred)\n",
    "    return r_loss+kl_loss\n"
   ]
  },
  {
   "cell_type": "code",
   "execution_count": 32,
   "metadata": {},
   "outputs": [
    {
     "ename": "TypeError",
     "evalue": "compile() missing 1 required positional argument: 'self'",
     "output_type": "error",
     "traceback": [
      "\u001b[0;31m---------------------------------------------------------------------------\u001b[0m",
      "\u001b[0;31mTypeError\u001b[0m                                 Traceback (most recent call last)",
      "\u001b[0;32m<ipython-input-32-689a396b637d>\u001b[0m in \u001b[0;36m<module>\u001b[0;34m\u001b[0m\n\u001b[0;32m----> 1\u001b[0;31m \u001b[0mModel\u001b[0m\u001b[0;34m.\u001b[0m\u001b[0mcompile\u001b[0m\u001b[0;34m(\u001b[0m\u001b[0moptimizer\u001b[0m\u001b[0;34m=\u001b[0m\u001b[0moptimizer\u001b[0m\u001b[0;34m,\u001b[0m \u001b[0mloss\u001b[0m\u001b[0;34m=\u001b[0m\u001b[0mvae_loss\u001b[0m\u001b[0;34m,\u001b[0m \u001b[0mmetrics\u001b[0m \u001b[0;34m=\u001b[0m \u001b[0;34m[\u001b[0m\u001b[0mvae_r_loss\u001b[0m\u001b[0;34m,\u001b[0m \u001b[0mvae_kl_loss\u001b[0m\u001b[0;34m]\u001b[0m\u001b[0;34m)\u001b[0m\u001b[0;34m\u001b[0m\u001b[0;34m\u001b[0m\u001b[0m\n\u001b[0m",
      "\u001b[0;31mTypeError\u001b[0m: compile() missing 1 required positional argument: 'self'"
     ]
    }
   ],
   "source": [
    "\n",
    "Model.compile(optimizer=optimizer, loss=vae_loss, metrics = [vae_r_loss, vae_kl_loss])"
   ]
  },
  {
   "cell_type": "code",
   "execution_count": null,
   "metadata": {},
   "outputs": [],
   "source": [
    "n_to_show = 30\n",
    "z_new = np.random.normal(size = (n_to_show, VAE.zdim))\n",
    "print(z_new)"
   ]
  }
 ],
 "metadata": {
  "kernelspec": {
   "display_name": "Python 3",
   "language": "python",
   "name": "python3"
  },
  "language_info": {
   "codemirror_mode": {
    "name": "ipython",
    "version": 3
   },
   "file_extension": ".py",
   "mimetype": "text/x-python",
   "name": "python",
   "nbconvert_exporter": "python",
   "pygments_lexer": "ipython3",
   "version": "3.7.3"
  }
 },
 "nbformat": 4,
 "nbformat_minor": 2
}
