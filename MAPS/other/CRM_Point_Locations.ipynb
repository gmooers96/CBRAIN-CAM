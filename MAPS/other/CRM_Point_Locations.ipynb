{
 "cells": [
  {
   "cell_type": "code",
   "execution_count": 22,
   "metadata": {},
   "outputs": [],
   "source": [
    "import netCDF4\n",
    "import math\n",
    "import xarray as xr\n",
    "import dask\n",
    "import numpy as np\n",
    "import time\n",
    "import scipy\n",
    "import matplotlib.pyplot as plt\n",
    "from matplotlib import animation\n",
    "from matplotlib import transforms\n",
    "from matplotlib.animation import PillowWriter"
   ]
  },
  {
   "cell_type": "code",
   "execution_count": 23,
   "metadata": {},
   "outputs": [],
   "source": [
    "path_to_file = '/DFS-L/DATA/pritchard/gmooers/Workflow/MAPS/SPCAM/Small_Sample/Useful_Files/Amazon_Rainforest.nc'\n",
    "amazon = xr.open_dataset(path_to_file)\n",
    "#test_ds.variables\n",
    "\n",
    "path_to_file = '/DFS-L/DATA/pritchard/gmooers/Workflow/MAPS/SPCAM/Small_Sample/Useful_Files/Siberia.nc'\n",
    "siberia = xr.open_dataset(path_to_file)\n",
    "#test_ds.variables\n",
    "\n",
    "path_to_file = '/DFS-L/DATA/pritchard/gmooers/Workflow/MAPS/SPCAM/Small_Sample/New_SPCAM5/TimestepOutput_Neuralnet_SPCAM_216/run/Cpac_gridcell_rcat.nc'\n",
    "test_ds = xr.open_dataset(path_to_file)\n",
    "#test_ds.variables"
   ]
  },
  {
   "cell_type": "markdown",
   "metadata": {},
   "source": [
    "isolate the useful variables"
   ]
  },
  {
   "cell_type": "code",
   "execution_count": 24,
   "metadata": {},
   "outputs": [],
   "source": [
    "amazon_T = np.squeeze(amazon.CRM_T.values)\n",
    "amazon_Vapor = np.squeeze(amazon.CRM_QV.values)\n",
    "amazon_W = np.squeeze(amazon.CRM_W.values)\n",
    "\n",
    "siberia_T = np.squeeze(siberia.CRM_T.values)\n",
    "siberia_Vapor = np.squeeze(siberia.CRM_QV.values)\n",
    "siberia_W = np.squeeze(siberia.CRM_W.values)\n",
    "\n",
    "test_T = np.squeeze(test_ds.CRM_T.values)\n",
    "test_Vapor = np.squeeze(test_ds.CRM_QV.values)\n",
    "test_W = np.squeeze(test_ds.CRM_W.values)"
   ]
  },
  {
   "cell_type": "code",
   "execution_count": 25,
   "metadata": {},
   "outputs": [],
   "source": [
    "# General\n",
    "cp = 1.004e3\n",
    "g = 9.81\n",
    "Lv = 2.5104e6\n",
    "Lf = 0.3336e6\n",
    "Ls = 2.8440e6\n",
    "R = 287\n",
    "Rv = 461\n",
    "T0 = 273.16\n",
    "T0p = 283.16\n",
    "T00 = 253.16\n",
    "T00p = 268.16"
   ]
  },
  {
   "cell_type": "code",
   "execution_count": 26,
   "metadata": {},
   "outputs": [],
   "source": [
    "#import scipy.integrate as sin\n",
    "# Ideal gas law -> rho=p(R_d*T_v)\n",
    "#eps = 0.622 # Ratio of molecular weight(H2O)/molecular weight(dry air)\n",
    "#R_D = 287 # Specific gas constant of dry air in J/K/kg\n",
    "#r = NNQBP/(NNQBP**0-NNQBP)\n",
    "#Tv = NNTBP*(r**0+r/eps)/(r**0+r)\n",
    "#RHO = 1e2*cam_ds.lev.values/(R_D*Tv)\n",
    "#Z = -sin.cumtrapz(x=1e2*cam_ds.lev.values,y=1/(g*RHO))\n",
    "###Z = -sin.cumtrapz(x=P = (hyam*P0+hybm*PS),y=1/(G*RHO)) - better method - implement later\n",
    "#Z = np.concatenate((np.zeros(1,),Z))\n",
    "#Z = Z-Z[-1]+Z_INTERP[-1] #at lowest level interface make sure Z is zero"
   ]
  },
  {
   "cell_type": "code",
   "execution_count": 27,
   "metadata": {},
   "outputs": [],
   "source": [
    "def Z_improved(crm_QBP):\n",
    "    eps = 0.622 # Ratio of molecular weight(H2O)/molecular weight(dry air)\n",
    "    R_D = 287 # Specific gas constant of dry air in J/K/kg"
   ]
  },
  {
   "cell_type": "code",
   "execution_count": 28,
   "metadata": {},
   "outputs": [],
   "source": [
    "#FMSE = cp*amazon.CRM_T+Lv*amazon.CRM_QC+g*amazon.lev"
   ]
  },
  {
   "cell_type": "code",
   "execution_count": 29,
   "metadata": {},
   "outputs": [
    {
     "name": "stdout",
     "output_type": "stream",
     "text": [
      "(96, 30, 128)\n"
     ]
    }
   ],
   "source": [
    "print(siberia_W.shape)"
   ]
  },
  {
   "cell_type": "markdown",
   "metadata": {},
   "source": [
    "Develope Animations to track vertical velocities over the course of the test day"
   ]
  },
  {
   "cell_type": "code",
   "execution_count": 30,
   "metadata": {},
   "outputs": [],
   "source": [
    "def utc_timing(times):\n",
    "    utc_list = []\n",
    "    end_times = [':00',':15',':30',':45']\n",
    "    counter = 0\n",
    "    thing = 0\n",
    "    for i in range(times):\n",
    "        if thing == 95:\n",
    "            thing = 0\n",
    "        \n",
    "        beg_time = int(thing/4)\n",
    "        if beg_time == 0:\n",
    "            beg_time = 24\n",
    "        ending = end_times[counter]\n",
    "        counter = counter + 1\n",
    "        if counter  == 4:\n",
    "            counter = 0\n",
    "        \n",
    "        utc_time = str(beg_time)+ending\n",
    "        utc_list.append(utc_time)\n",
    "        thing = thing + 1\n",
    "        \n",
    "        \n",
    "    \n",
    "    #print(utc_list)\n",
    "    return utc_list"
   ]
  },
  {
   "cell_type": "code",
   "execution_count": 31,
   "metadata": {},
   "outputs": [],
   "source": [
    "varname = \"Vertical Velocity\"\n",
    "location = 'Amazon'\n",
    "units = \"m/s\"\n",
    "savepath = 'W'\n",
    "\n",
    "def anime_col(values, var, unit, save, local):\n",
    "    plt.rcParams['animation.ffmpeg_path'] = '/export/home/gmooers/miniconda3/bin/ffmpeg'\n",
    "    container = []\n",
    "\n",
    "    \n",
    "    fig, ax = plt.subplots(1, 1)\n",
    "    times = len(values)\n",
    "    utc_list = utc_timing(times)\n",
    "    for i in range(times):\n",
    "            \n",
    "        #base = plt.gca().transData\n",
    "        #rot = transforms.Affine2D().rotate_deg(270)\n",
    "        \n",
    "        im = ax.pcolor(np.squeeze(values[i,:, :]), vmin = -0.22, vmax = 0.22, cmap = 'coolwarm', animated= True) #transform = rot + base)\n",
    "        if i ==0:\n",
    "            fig.colorbar(im, label=var+' '+unit)\n",
    "        plt.ylabel(\"Pressure\")\n",
    "        plt.xlabel('CRMs')\n",
    "        title_feat = ax.text(0.5,1.05,var+' at '+local+\" at \"+utc_list[i], \n",
    "                    size=10,\n",
    "                    ha=\"center\", transform=ax.transAxes, )\n",
    "        \n",
    "        my_yticks = np.arange(50, 1000, 150)\n",
    "        my_yticks[::-1].sort()\n",
    "        ax.set_yticklabels(my_yticks)\n",
    "        \n",
    "        yticks = ax.yaxis.get_major_ticks()\n",
    "        yticks[0].label1.set_visible(False)\n",
    "        yticks[-1].label1.set_visible(False)\n",
    "    \n",
    "        container.append([im, title_feat])\n",
    "      \n",
    "    ani = animation.ArtistAnimation(fig, container, interval = 150, blit = True, repeat = True)\n",
    "    ani.save('/fast/gmooers/Figures/Animate/Single_Day_'+save+'_'+local+'_Animations.mp4')\n",
    "    #plt.show()\n",
    "    \n",
    "#anime_col(amazon_W, varname, units, savepath, location)"
   ]
  },
  {
   "cell_type": "code",
   "execution_count": 32,
   "metadata": {},
   "outputs": [],
   "source": [
    "location = 'Siberia'\n",
    "#anime_col(siberia_W, varname, units, savepath, location)"
   ]
  },
  {
   "cell_type": "code",
   "execution_count": 33,
   "metadata": {},
   "outputs": [],
   "source": [
    "location = '180E_0N'\n",
    "#anime_col(test_W, varname, units, savepath, location)"
   ]
  },
  {
   "cell_type": "markdown",
   "metadata": {},
   "source": [
    "Repeat animations for Moist Static Energy\n",
    "\n",
    "$H = c_p*T+g*z+L_v*q$\n",
    "\n",
    "\n",
    "cp = specific heat of air ($\\frac{Joules}{kg*K}$)\n",
    "\n",
    "T = temperature (K)\n",
    "\n",
    "g = gravity constant ($\\frac{m}{s^2}$)\n",
    "\n",
    "z = altitude (m)\n",
    "\n",
    "$L_v$ is latent heat of Vaporization $\\frac{Joules}{kg}$\n",
    "\n",
    "q = Specific humidity $\\frac{kg}{kg}$\n",
    "\n",
    "However, q, specific humidity, or the mixing ratio are not provided by CRM variales grabbed in this simulation - maybe fix that in future.\n",
    "\n",
    "For now, will appoximate the mixing ratio, w, from:\n",
    "\n",
    "$w = 0.622\\frac{e_s}{p-e_s}$\n",
    "\n",
    "and the saturation vapor pressure, $e_s$ can be derived from given temperature information from the Clausius Clayperion equation (Hartmann textbook):\n",
    "\n",
    "$e_s = 6.11*e^{\\frac{L_v}{R_v}*(\\frac{1}{273}-\\frac{1}{T})}$"
   ]
  },
  {
   "cell_type": "code",
   "execution_count": 34,
   "metadata": {},
   "outputs": [],
   "source": [
    "QV = test_ds.CRM_QV.values"
   ]
  },
  {
   "cell_type": "code",
   "execution_count": 35,
   "metadata": {},
   "outputs": [],
   "source": [
    "def pressure_shaper(variable, pressures):\n",
    "    new_pressures = variable\n",
    "    for i in range(len(new_pressures)):\n",
    "        for j in range(len(new_pressures[0][0])):\n",
    "            new_pressures[i,:,j] = pressures\n",
    "    \n",
    "    return new_pressures\n",
    "\n",
    "def mixing_ratio(temps, pressures):\n",
    "    e_s = temps\n",
    "    for i in range(len(temps)):\n",
    "        for j in range(len(temps[i])):\n",
    "            for k in range(len(temps[i][j])):\n",
    "                e_s[i,j,k] = 6.11*math.exp(2501000.0/461.0*(1.0/273.0-1.0/temps[i,j,k]))\n",
    "    \n",
    "    w = e_s\n",
    "    for i in range(len(e_s)):\n",
    "        for j in range(len(e_s[i])):\n",
    "            for k in range(len(e_s[i][j])):\n",
    "                w[i,j,k] = 0.622*e_s[i,j,k]/(pressures[j]-e_s[i,j,k])\n",
    "    \n",
    "    return w"
   ]
  },
  {
   "cell_type": "code",
   "execution_count": 36,
   "metadata": {},
   "outputs": [],
   "source": [
    "def MSE_gen(temps, pressures):\n",
    "    w = mixing_ratio(temps, pressures)\n",
    "    new_pressures = pressure_shaper(temps, pressures)\n",
    "    MSE = 1004.0*temps+2501000.0*w+new_pressures*9.81\n",
    "    return MSE"
   ]
  },
  {
   "cell_type": "code",
   "execution_count": 38,
   "metadata": {},
   "outputs": [],
   "source": [
    "#test_MSE = MSE_gen(test_T, levs)\n",
    "#amazon_MSE = MSE_gen(amazon_T, levs)\n",
    "#siberia_MSE = MSE_gen(siberia_T, levs)"
   ]
  },
  {
   "cell_type": "code",
   "execution_count": 39,
   "metadata": {},
   "outputs": [],
   "source": [
    "def anime_col(values, var, unit, save, local):\n",
    "    plt.rcParams['animation.ffmpeg_path'] = '/export/home/gmooers/miniconda3/bin/ffmpeg'\n",
    "    container = []\n",
    "\n",
    "    \n",
    "    fig, ax = plt.subplots(1, 1)\n",
    "    times = len(values)\n",
    "    utc_list = utc_timing(times)\n",
    "    for i in range(times):\n",
    "            \n",
    "        #base = plt.gca().transData\n",
    "        #rot = transforms.Affine2D().rotate_deg(270)\n",
    "        \n",
    "        im = ax.pcolor(np.squeeze(values[i,:, :]), cmap = 'coolwarm', animated= True) #transform = rot + base)\n",
    "        if i ==0:\n",
    "            fig.colorbar(im, label=var+' '+unit)\n",
    "        plt.ylabel(\"Pressure\")\n",
    "        plt.xlabel('CRMs')\n",
    "        title_feat = ax.text(0.5,1.05,var+' at '+local+\" at \"+utc_list[i], \n",
    "                    size=10,\n",
    "                    ha=\"center\", transform=ax.transAxes, )\n",
    "        \n",
    "        my_yticks = np.arange(50, 1000, 150)\n",
    "        my_yticks[::-1].sort()\n",
    "        ax.set_yticklabels(my_yticks)\n",
    "        \n",
    "        yticks = ax.yaxis.get_major_ticks()\n",
    "        yticks[0].label1.set_visible(False)\n",
    "        yticks[-1].label1.set_visible(False)\n",
    "    \n",
    "        container.append([im, title_feat])\n",
    "      \n",
    "    ani = animation.ArtistAnimation(fig, container, interval = 150, blit = True, repeat = True)\n",
    "    ani.save('/fast/gmooers/Figures/Animate/Single_Day_'+save+'_'+local+'_Animations.mp4')\n",
    "    #plt.show()\n",
    "    \n",
    "#anime_col(siberia_W, varname, units, savepath, location)"
   ]
  },
  {
   "cell_type": "code",
   "execution_count": 40,
   "metadata": {},
   "outputs": [],
   "source": [
    "varname = \"Moist Static Energy\"\n",
    "location = 'Amazon'\n",
    "units = \"J/kg\"\n",
    "savepath = 'MSE'\n",
    "#anime_col(amazon_MSE, varname, units, savepath, location)"
   ]
  },
  {
   "cell_type": "code",
   "execution_count": 41,
   "metadata": {},
   "outputs": [],
   "source": [
    "location = 'Siberia'\n",
    "#anime_col(siberia_MSE, varname, units, savepath, location)"
   ]
  },
  {
   "cell_type": "code",
   "execution_count": 42,
   "metadata": {},
   "outputs": [],
   "source": [
    "location = '0N_180E'\n",
    "#anime_col(test_MSE, varname, units, savepath, location)"
   ]
  },
  {
   "cell_type": "markdown",
   "metadata": {},
   "source": [
    "Results above seem very wrong - so will simplify to enthalpy?"
   ]
  },
  {
   "cell_type": "code",
   "execution_count": 43,
   "metadata": {},
   "outputs": [],
   "source": [
    "def Enthalpy_gen(temps, water_vapor):\n",
    "    Enthalpy = 1004.0*temps+2501000.0*water_vapor\n",
    "    return Enthalpy\n",
    "\n",
    "test_Enthalpy = Enthalpy_gen(test_T, test_Vapor)\n",
    "amazon_Enthalpy = Enthalpy_gen(amazon_T, amazon_Vapor)\n",
    "siberia_Enthalpy = Enthalpy_gen(siberia_T, siberia_Vapor)"
   ]
  },
  {
   "cell_type": "code",
   "execution_count": 44,
   "metadata": {},
   "outputs": [
    {
     "data": {
      "image/png": "[encoded data removed]",
      "text/plain": [
       "<Figure size 432x288 with 2 Axes>"
      ]
     },
     "metadata": {
      "needs_background": "light"
     },
     "output_type": "display_data"
    }
   ],
   "source": [
    "varname = \"Enthalpy\"\n",
    "location = 'Amazon'\n",
    "units = \"J/kg\"\n",
    "savepath = 'Enthalpy'\n",
    "anime_col(amazon_Enthalpy, varname, units, savepath, location)"
   ]
  },
  {
   "cell_type": "code",
   "execution_count": 45,
   "metadata": {},
   "outputs": [
    {
     "data": {
      "image/png": "[encoded data removed]",
      "text/plain": [
       "<Figure size 432x288 with 2 Axes>"
      ]
     },
     "metadata": {
      "needs_background": "light"
     },
     "output_type": "display_data"
    }
   ],
   "source": [
    "location = 'Siberia'\n",
    "anime_col(siberia_Enthalpy, varname, units, savepath, location)"
   ]
  },
  {
   "cell_type": "code",
   "execution_count": 46,
   "metadata": {},
   "outputs": [
    {
     "data": {
      "image/png": "[encoded data removed]",
      "text/plain": [
       "<Figure size 432x288 with 2 Axes>"
      ]
     },
     "metadata": {
      "needs_background": "light"
     },
     "output_type": "display_data"
    }
   ],
   "source": [
    "location = '0N_180E'\n",
    "anime_col(test_Enthalpy, varname, units, savepath, location)"
   ]
  },
  {
   "cell_type": "code",
   "execution_count": null,
   "metadata": {},
   "outputs": [],
   "source": []
  }
 ],
 "metadata": {
  "kernelspec": {
   "display_name": "Python 3",
   "language": "python",
   "name": "python3"
  },
  "language_info": {
   "codemirror_mode": {
    "name": "ipython",
    "version": 3
   },
   "file_extension": ".py",
   "mimetype": "text/x-python",
   "name": "python",
   "nbconvert_exporter": "python",
   "pygments_lexer": "ipython3",
   "version": "3.7.3"
  }
 },
 "nbformat": 4,
 "nbformat_minor": 2
}
