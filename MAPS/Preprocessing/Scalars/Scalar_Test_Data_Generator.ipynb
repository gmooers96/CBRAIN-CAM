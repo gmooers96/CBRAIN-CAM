{
 "cells": [
  {
   "cell_type": "code",
   "execution_count": 1,
   "metadata": {},
   "outputs": [],
   "source": [
    "import numpy as np\n",
    "import math\n",
    "import xarray as xr\n",
    "import dask\n",
    "from sklearn.utils import shuffle\n",
    "import matplotlib.pyplot as plt\n",
    "from mpl_toolkits.axes_grid1 import make_axes_locatable\n",
    "import netCDF4\n",
    "import pandas as pd\n",
    "from sklearn.cluster import KMeans\n",
    "from scipy.ndimage.filters import uniform_filter1d"
   ]
  },
  {
   "cell_type": "code",
   "execution_count": 10,
   "metadata": {},
   "outputs": [],
   "source": [
    "path = '/DFS-L/DATA/pritchard/gmooers/Workflow/MAPS/SPCAM/100_Days/New_SPCAM5/archive/TimestepOutput_Neuralnet_SPCAM_216/atm/hist/TimestepOutput_Neuralnet_SPCAM_216.cam.h1.2009-01-01-[0124]*'\n",
    "real_ds = xr.open_mfdataset(path)\n",
    "Q_CRM = real_ds.CRM_QV_LON_0e_to_360e_LAT_20s_to_20n\n",
    "W_CRM = real_ds.CRM_W_LON_0e_to_360e_LAT_20s_to_20n\n",
    "T_CRM = real_ds.CRM_T_LON_0e_to_360e_LAT_20s_to_20n\n",
    "Precip_CRM = real_ds.CRM_PREC_LON_0e_to_360e_LAT_20s_to_20n\n",
    "\n",
    "Q_CRM = xr.DataArray.squeeze(Q_CRM).values\n",
    "T_CRM = xr.DataArray.squeeze(T_CRM).values\n",
    "TwoD_W_CRM = xr.DataArray.squeeze(W_CRM).values\n",
    "Scalar_W_CRM = xr.DataArray.squeeze(W_CRM[:,18,:,:,:]).values\n",
    "Precip_CRM = xr.DataArray.squeeze(Precip_CRM).values"
   ]
  },
  {
   "cell_type": "code",
   "execution_count": 12,
   "metadata": {},
   "outputs": [
    {
     "name": "stdout",
     "output_type": "stream",
     "text": [
      "(64, 128, 22, 144)\n"
     ]
    }
   ],
   "source": [
    "print(Precip_CRM.shape)"
   ]
  },
  {
   "cell_type": "code",
   "execution_count": null,
   "metadata": {},
   "outputs": [],
   "source": [
    "others = netCDF4.Dataset(\"/fast/gmooers/Raw_Data/extras/TimestepOutput_Neuralnet_SPCAM_216.cam.h1.2009-01-01-72000.nc\")\n",
    "plev = np.array(others.variables['lev'])\n",
    "ps = np.array(others.variables['PS'])\n",
    "g = 9.81 #m/s^2\n",
    "hyai = np.array(others.variables['hyai'])\n",
    "hybi = np.array(others.variables['hybi'])\n",
    "#print(hyai.shape)\n",
    "#print(hyai)\n",
    "cp = 1004.0\n",
    "L = 2256000.0\n",
    "PS = 1e5\n",
    "P0 = 1e5\n",
    "P = P0*hyai+PS*hybi # Total pressure [Pa]\n",
    "dp = P[1:]-P[:-1] # Differential pressure [Pa]\n",
    "Scalar_Q_CRM = np.nansum(Q_CRM*dp[None, :, None, None, None]*L/g, axis=1)\n",
    "Scalar_T_CRM = np.nansum(T_CRM*dp[None, :, None, None, None]*cp/g, axis=1)"
   ]
  },
  {
   "cell_type": "code",
   "execution_count": null,
   "metadata": {},
   "outputs": [],
   "source": [
    "Q_Reshape = np.zeros(shape=(len(Scalar_Q_CRM)*len(Scalar_Q_CRM[0][0])*len(Scalar_Q_CRM[0][0][0]),128))\n",
    "Q_Reshape[:,:] = np.nan\n",
    "T_Reshape = np.zeros(shape=(len(Scalar_T_CRM)*len(Scalar_T_CRM[0][0])*len(Scalar_T_CRM[0][0][0]),128))\n",
    "T_Reshape[:,:] = np.nan\n",
    "W_Reshape = np.zeros(shape=(len(Scalar_W_CRM)*len(Scalar_W_CRM[0][0])*len(Scalar_W_CRM[0][0][0]),128))\n",
    "W_Reshape[:,:] = np.nan\n",
    "Precip_Reshape = np.zeros(shape=(len(Precip_CRM)*len(Precip_CRM[0][0])*len(Precip_CRM[0][0][0]),128))\n",
    "Precip_Reshape[:,:] = np.nan"
   ]
  },
  {
   "cell_type": "code",
   "execution_count": 13,
   "metadata": {},
   "outputs": [
    {
     "name": "stdout",
     "output_type": "stream",
     "text": [
      "(64, 30, 128, 22, 144)\n"
     ]
    }
   ],
   "source": [
    "print(TwoD_W_CRM.shape)"
   ]
  },
  {
   "cell_type": "code",
   "execution_count": null,
   "metadata": {},
   "outputs": [],
   "source": [
    "TwoD_W_Reshape = np.zeros(shape=(len(TwoD_W_CRM)*len(TwoD_W_CRM[0][0][0])*len(TwoD_W_CRM[0][0][0][0]),30,128))\n",
    "TwoD_W_Reshape[:,:,:] = np.nan"
   ]
  },
  {
   "cell_type": "code",
   "execution_count": null,
   "metadata": {},
   "outputs": [],
   "source": [
    "count = 0\n",
    "for i in range(len(Scalar_Q_CRM)):\n",
    "    for j in range(len(Scalar_Q_CRM[0][0])):\n",
    "        for k in range(len(Scalar_Q_CRM[0][0][0])):\n",
    "            Q_Reshape[count,:] = Scalar_Q_CRM[i,:,j,k]\n",
    "            T_Reshape[count,:] = Scalar_T_CRM[i,:,j,k]\n",
    "            W_Reshape[count,:] = Scalar_W_CRM[i,:,j,k]\n",
    "            Precip_Reshape[count,:] = Precip_CRM[i,:,j,k]\n",
    "            count = count+1"
   ]
  },
  {
   "cell_type": "code",
   "execution_count": null,
   "metadata": {},
   "outputs": [],
   "source": [
    "count = 0\n",
    "for i in range(len(TwoD_W_CRM)):\n",
    "    print(i)\n",
    "    for j in range(len(TwoD_W_CRM[0][0][0])):\n",
    "        for k in range(len(TwoD_W_CRM[0][0][0][0])):\n",
    "            TwoD_W_Reshape[count,:,:] = TwoD_W_CRM[i,:,:,j,k]\n",
    "            count = count+1"
   ]
  },
  {
   "cell_type": "code",
   "execution_count": null,
   "metadata": {},
   "outputs": [],
   "source": [
    "q_max = np.load('/fast/gmooers/Preprocessed_Data/CRM_Scalar/Space_Time_Q_Max_Scalar.npy')\n",
    "q_min = np.load('/fast/gmooers/Preprocessed_Data/CRM_Scalar/Space_Time_Q_Min_Scalar.npy')\n",
    "t_max = np.load('/fast/gmooers/Preprocessed_Data/CRM_Scalar/Space_Time_T_Max_Scalar.npy')\n",
    "t_min = np.load('/fast/gmooers/Preprocessed_Data/CRM_Scalar/Space_Time_T_Min_Scalar.npy')\n",
    "precip_max = np.load('/fast/gmooers/Preprocessed_Data/CRM_Scalar/Space_Time_Precip_Max_Scalar.npy')\n",
    "precip_min = np.load('/fast/gmooers/Preprocessed_Data/CRM_Scalar/Space_Time_Precip_Min_Scalar.npy')\n",
    "w_max = np.load('/fast/gmooers/Preprocessed_Data/CRM_Scalar/Space_Time_W_Max_Scalar.npy')\n",
    "w_min = np.load('/fast/gmooers/Preprocessed_Data/CRM_Scalar/Space_Time_W_Min_Scalar.npy')"
   ]
  },
  {
   "cell_type": "code",
   "execution_count": null,
   "metadata": {},
   "outputs": [],
   "source": [
    "Q_rescaled_test = np.interp(Q_Reshape, (q_min, q_max), (0, +1))\n",
    "\n",
    "T_rescaled_test = np.interp(T_Reshape, (t_min, t_max), (0, +1))\n",
    "\n",
    "W_rescaled_test = np.interp(W_Reshape, (w_min, w_max), (0, +1))\n",
    "\n",
    "Precip_rescaled_test = np.interp(Precip_Reshape, (precip_min, precip_max), (0, +1))"
   ]
  },
  {
   "cell_type": "code",
   "execution_count": null,
   "metadata": {},
   "outputs": [],
   "source": [
    "np.save('/fast/gmooers/Preprocessed_Data/CRM_Scalar/Space_Time_Q_Test.npy', Q_rescaled_test)\n",
    "\n",
    "np.save('/fast/gmooers/Preprocessed_Data/CRM_Scalar/Space_Time_T_Test.npy', T_rescaled_test)\n",
    "\n",
    "np.save('/fast/gmooers/Preprocessed_Data/CRM_Scalar/Space_Time_W_Test.npy', W_rescaled_test)\n",
    "np.save('/fast/gmooers/Preprocessed_Data/CRM_Scalar/Space_Time_2D_W_Test.npy', TwoD_W_Reshape)\n",
    "\n",
    "np.save('/fast/gmooers/Preprocessed_Data/CRM_Scalar/Space_Time_Precip_Test.npy', Precip_rescaled_test)"
   ]
  }
 ],
 "metadata": {
  "kernelspec": {
   "display_name": "Python 3",
   "language": "python",
   "name": "python3"
  },
  "language_info": {
   "codemirror_mode": {
    "name": "ipython",
    "version": 3
   },
   "file_extension": ".py",
   "mimetype": "text/x-python",
   "name": "python",
   "nbconvert_exporter": "python",
   "pygments_lexer": "ipython3",
   "version": "3.7.3"
  }
 },
 "nbformat": 4,
 "nbformat_minor": 4
}
