{
 "cells": [
  {
   "cell_type": "code",
   "execution_count": 1,
   "metadata": {},
   "outputs": [],
   "source": [
    "import numpy as np\n",
    "import math\n",
    "import xarray as xr\n",
    "import dask\n",
    "from sklearn.utils import shuffle\n",
    "import matplotlib.pyplot as plt\n",
    "from mpl_toolkits.axes_grid1 import make_axes_locatable\n",
    "import netCDF4\n",
    "import pandas as pd\n",
    "from sklearn.cluster import KMeans\n",
    "from scipy.ndimage.filters import uniform_filter1d"
   ]
  },
  {
   "cell_type": "code",
   "execution_count": 2,
   "metadata": {},
   "outputs": [
    {
     "name": "stderr",
     "output_type": "stream",
     "text": [
      "ERROR:root:Internal Python error in the inspect module.\n",
      "Below is the traceback from this internal error.\n",
      "\n"
     ]
    },
    {
     "name": "stdout",
     "output_type": "stream",
     "text": [
      "Traceback (most recent call last):\n",
      "  File \"/export/home/gmooers/miniconda3/lib/python3.7/site-packages/IPython/core/interactiveshell.py\", line 3331, in run_code\n",
      "    exec(code_obj, self.user_global_ns, self.user_ns)\n",
      "  File \"<ipython-input-2-71e53d16075c>\", line 8, in <module>\n",
      "    Q_CRM = xr.DataArray.squeeze(Q_CRM).values\n",
      "  File \"/export/home/gmooers/miniconda3/lib/python3.7/site-packages/xarray/core/dataarray.py\", line 410, in values\n",
      "    return self.variable.values\n",
      "  File \"/export/home/gmooers/miniconda3/lib/python3.7/site-packages/xarray/core/variable.py\", line 392, in values\n",
      "    return _as_array_or_item(self._data)\n",
      "  File \"/export/home/gmooers/miniconda3/lib/python3.7/site-packages/xarray/core/variable.py\", line 213, in _as_array_or_item\n",
      "    data = np.asarray(data)\n",
      "  File \"/export/home/gmooers/miniconda3/lib/python3.7/site-packages/numpy/core/_asarray.py\", line 85, in asarray\n",
      "    return array(a, dtype, copy=False, order=order)\n",
      "  File \"/export/home/gmooers/miniconda3/lib/python3.7/site-packages/dask/array/core.py\", line 998, in __array__\n",
      "    x = self.compute()\n",
      "  File \"/export/home/gmooers/miniconda3/lib/python3.7/site-packages/dask/base.py\", line 156, in compute\n",
      "    (result,) = compute(self, traverse=False, **kwargs)\n",
      "  File \"/export/home/gmooers/miniconda3/lib/python3.7/site-packages/dask/base.py\", line 398, in compute\n",
      "    results = schedule(dsk, keys, **kwargs)\n",
      "  File \"/export/home/gmooers/miniconda3/lib/python3.7/site-packages/dask/threaded.py\", line 76, in get\n",
      "    pack_exception=pack_exception, **kwargs)\n",
      "  File \"/export/home/gmooers/miniconda3/lib/python3.7/site-packages/dask/local.py\", line 453, in get_async\n",
      "    key, res_info, failed = queue_get(queue)\n",
      "  File \"/export/home/gmooers/miniconda3/lib/python3.7/site-packages/dask/local.py\", line 141, in queue_get\n",
      "    return q.get()\n",
      "  File \"/export/home/gmooers/miniconda3/lib/python3.7/queue.py\", line 170, in get\n",
      "    self.not_empty.wait()\n",
      "  File \"/export/home/gmooers/miniconda3/lib/python3.7/threading.py\", line 296, in wait\n",
      "    waiter.acquire()\n",
      "KeyboardInterrupt\n",
      "\n",
      "During handling of the above exception, another exception occurred:\n",
      "\n",
      "Traceback (most recent call last):\n",
      "  File \"/export/home/gmooers/miniconda3/lib/python3.7/site-packages/IPython/core/interactiveshell.py\", line 2044, in showtraceback\n",
      "    stb = value._render_traceback_()\n",
      "AttributeError: 'KeyboardInterrupt' object has no attribute '_render_traceback_'\n",
      "\n",
      "During handling of the above exception, another exception occurred:\n",
      "\n",
      "Traceback (most recent call last):\n",
      "  File \"/export/home/gmooers/miniconda3/lib/python3.7/site-packages/IPython/core/ultratb.py\", line 1148, in get_records\n",
      "    return _fixed_getinnerframes(etb, number_of_lines_of_context, tb_offset)\n",
      "  File \"/export/home/gmooers/miniconda3/lib/python3.7/site-packages/IPython/core/ultratb.py\", line 316, in wrapped\n",
      "    return f(*args, **kwargs)\n",
      "  File \"/export/home/gmooers/miniconda3/lib/python3.7/site-packages/IPython/core/ultratb.py\", line 350, in _fixed_getinnerframes\n",
      "    records = fix_frame_records_filenames(inspect.getinnerframes(etb, context))\n",
      "  File \"/export/home/gmooers/miniconda3/lib/python3.7/inspect.py\", line 1502, in getinnerframes\n",
      "    frameinfo = (tb.tb_frame,) + getframeinfo(tb, context)\n",
      "  File \"/export/home/gmooers/miniconda3/lib/python3.7/inspect.py\", line 1460, in getframeinfo\n",
      "    filename = getsourcefile(frame) or getfile(frame)\n",
      "  File \"/export/home/gmooers/miniconda3/lib/python3.7/inspect.py\", line 696, in getsourcefile\n",
      "    if getattr(getmodule(object, filename), '__loader__', None) is not None:\n",
      "  File \"/export/home/gmooers/miniconda3/lib/python3.7/inspect.py\", line 739, in getmodule\n",
      "    f = getabsfile(module)\n",
      "  File \"/export/home/gmooers/miniconda3/lib/python3.7/inspect.py\", line 708, in getabsfile\n",
      "    _filename = getsourcefile(object) or getfile(object)\n",
      "  File \"/export/home/gmooers/miniconda3/lib/python3.7/inspect.py\", line 693, in getsourcefile\n",
      "    if os.path.exists(filename):\n",
      "  File \"/export/home/gmooers/miniconda3/lib/python3.7/genericpath.py\", line 19, in exists\n",
      "    os.stat(path)\n",
      "KeyboardInterrupt\n"
     ]
    },
    {
     "ename": "KeyboardInterrupt",
     "evalue": "",
     "output_type": "error",
     "traceback": [
      "\u001b[0;31m---------------------------------------------------------------------------\u001b[0m"
     ]
    }
   ],
   "source": [
    "path = '/DFS-L/DATA/pritchard/gmooers/Workflow/MAPS/SPCAM/100_Days/New_SPCAM5/archive/TimestepOutput_Neuralnet_SPCAM_216/atm/hist/TimestepOutput_Neuralnet_SPCAM_216.cam.h1.2009-01-1[56789]*'\n",
    "real_ds = xr.open_mfdataset(path)\n",
    "Q_CRM = real_ds.CRM_QV_LON_0e_to_360e_LAT_20s_to_20n\n",
    "W_CRM = real_ds.CRM_W_LON_0e_to_360e_LAT_20s_to_20n\n",
    "T_CRM = real_ds.CRM_T_LON_0e_to_360e_LAT_20s_to_20n\n",
    "Precip_CRM = real_ds.CRM_PREC_LON_0e_to_360e_LAT_20s_to_20n\n",
    "\n",
    "Q_CRM = xr.DataArray.squeeze(Q_CRM).values\n",
    "T_CRM = xr.DataArray.squeeze(T_CRM).values\n",
    "W_CRM = xr.DataArray.squeeze(W_CRM)\n",
    "Scalar_W_CRM = xr.DataArray.squeeze(W_CRM[:,18,:,:,:]).values\n",
    "Precip_CRM = xr.DataArray.squeeze(Precip_CRM).values"
   ]
  },
  {
   "cell_type": "code",
   "execution_count": 22,
   "metadata": {},
   "outputs": [],
   "source": [
    "others = netCDF4.Dataset(\"/fast/gmooers/Raw_Data/extras/TimestepOutput_Neuralnet_SPCAM_216.cam.h1.2009-01-01-72000.nc\")\n",
    "plev = np.array(others.variables['lev'])\n",
    "ps = np.array(others.variables['PS'])\n",
    "g = 9.81 #m/s^2\n",
    "hyai = np.array(others.variables['hyai'])\n",
    "hybi = np.array(others.variables['hybi'])\n",
    "#print(hyai.shape)\n",
    "#print(hyai)\n",
    "cp = 1004.0\n",
    "L = 2256000.0\n",
    "PS = 1e5\n",
    "P0 = 1e5\n",
    "P = P0*hyai+PS*hybi # Total pressure [Pa]\n",
    "dp = P[1:]-P[:-1] # Differential pressure [Pa]\n",
    "Scalar_Q_CRM = np.nansum(Q_CRM*dp[None, :, None, None, None]*L/g, axis=1)\n",
    "Scalar_T_CRM = np.nansum(T_CRM*dp[None, :, None, None, None]*cp/g, axis=1)"
   ]
  },
  {
   "cell_type": "code",
   "execution_count": 23,
   "metadata": {},
   "outputs": [],
   "source": [
    "Q_Reshape = np.zeros(shape=(len(Scalar_Q_CRM)*len(Scalar_Q_CRM[0][0])*len(Scalar_Q_CRM[0][0][0]),128))\n",
    "Q_Reshape[:,:] = np.nan\n",
    "T_Reshape = np.zeros(shape=(len(Scalar_T_CRM)*len(Scalar_T_CRM[0][0])*len(Scalar_T_CRM[0][0][0]),128))\n",
    "T_Reshape[:,:] = np.nan\n",
    "W_Reshape = np.zeros(shape=(len(Scalar_W_CRM)*len(Scalar_W_CRM[0][0])*len(Scalar_W_CRM[0][0][0]),128))\n",
    "W_Reshape[:,:] = np.nan\n",
    "Precip_Reshape = np.zeros(shape=(len(Precip_CRM)*len(Precip_CRM[0][0])*len(Precip_CRM[0][0][0]),128))\n",
    "Precip_Reshape[:,:] = np.nan"
   ]
  },
  {
   "cell_type": "code",
   "execution_count": 24,
   "metadata": {},
   "outputs": [],
   "source": [
    "count = 0\n",
    "for i in range(len(Scalar_Q_CRM)):\n",
    "    for j in range(len(Scalar_Q_CRM[0][0])):\n",
    "        for k in range(len(Scalar_Q_CRM[0][0][0])):\n",
    "            Q_Reshape[count,:] = Scalar_Q_CRM[i,:,j,k]\n",
    "            T_Reshape[count,:] = Scalar_T_CRM[i,:,j,k]\n",
    "            W_Reshape[count,:] = Scalar_W_CRM[i,:,j,k]\n",
    "            Precip_Reshape[count,:] = Precip_CRM[i,:,j,k]\n",
    "            count = count+1"
   ]
  },
  {
   "cell_type": "code",
   "execution_count": 25,
   "metadata": {},
   "outputs": [],
   "source": [
    "q_train = Q_Reshape[:int(4*len(Q_Reshape)/5),:]\n",
    "q_test = Q_Reshape[int(4*len(Q_Reshape)/5):,:]\n",
    "\n",
    "t_train = T_Reshape[:int(4*len(T_Reshape)/5),:]\n",
    "t_test = T_Reshape[int(4*len(T_Reshape)/5):,:]\n",
    "\n",
    "w_train = W_Reshape[:int(4*len(W_Reshape)/5),:]\n",
    "w_test = W_Reshape[int(4*len(W_Reshape)/5):,:]\n",
    "\n",
    "precip_train = Precip_Reshape[:int(4*len(Precip_Reshape)/5),:]\n",
    "precip_test = Precip_Reshape[int(4*len(Precip_Reshape)/5):,:]"
   ]
  },
  {
   "cell_type": "code",
   "execution_count": 26,
   "metadata": {},
   "outputs": [],
   "source": [
    "q_Shuffled = shuffle(q_train)\n",
    "t_Shuffled = shuffle(t_train)\n",
    "w_Shuffled = shuffle(w_train)\n",
    "precip_Shuffled = shuffle(precip_train)"
   ]
  },
  {
   "cell_type": "code",
   "execution_count": 27,
   "metadata": {},
   "outputs": [],
   "source": [
    "Q_rescaled_train = np.interp(q_Shuffled, (q_Shuffled.min(), q_Shuffled.max()), (0, +1))\n",
    "Q_rescaled_test = np.interp(q_test, (q_Shuffled.min(), q_Shuffled.max()), (0, +1))\n",
    "\n",
    "T_rescaled_train = np.interp(t_Shuffled, (t_Shuffled.min(), t_Shuffled.max()), (0, +1))\n",
    "T_rescaled_test = np.interp(t_test, (t_Shuffled.min(), t_Shuffled.max()), (0, +1))\n",
    "\n",
    "W_rescaled_train = np.interp(w_Shuffled, (w_Shuffled.min(), w_Shuffled.max()), (0, +1))\n",
    "W_rescaled_test = np.interp(w_test, (w_Shuffled.min(), w_Shuffled.max()), (0, +1))\n",
    "\n",
    "Precip_rescaled_train = np.interp(precip_Shuffled, (precip_Shuffled.min(), precip_Shuffled.max()), (0, +1))\n",
    "Precip_rescaled_test = np.interp(precip_test, (precip_Shuffled.min(), precip_Shuffled.max()), (0, +1))"
   ]
  },
  {
   "cell_type": "code",
   "execution_count": 28,
   "metadata": {},
   "outputs": [],
   "source": [
    "np.save('/fast/gmooers/Preprocessed_Data/CRM_Scalar/Space_Time_Q_Training.npy', Q_rescaled_train)\n",
    "np.save('/fast/gmooers/Preprocessed_Data/CRM_Scalar/Space_Time_Q_Test.npy', Q_rescaled_test)\n",
    "np.save('/fast/gmooers/Preprocessed_Data/CRM_Scalar/Space_Time_Q_Max_Scalar.npy', q_train.max())\n",
    "np.save('/fast/gmooers/Preprocessed_Data/CRM_Scalar/Space_Time_Q_Min_Scalar.npy', q_train.min())\n",
    "\n",
    "np.save('/fast/gmooers/Preprocessed_Data/CRM_Scalar/Space_Time_T_Training.npy', T_rescaled_train)\n",
    "np.save('/fast/gmooers/Preprocessed_Data/CRM_Scalar/Space_Time_T_Test.npy', T_rescaled_test)\n",
    "np.save('/fast/gmooers/Preprocessed_Data/CRM_Scalar/Space_Time_T_Max_Scalar.npy', t_train.max())\n",
    "np.save('/fast/gmooers/Preprocessed_Data/CRM_Scalar/Space_Time_T_Min_Scalar.npy', t_train.min())\n",
    "\n",
    "np.save('/fast/gmooers/Preprocessed_Data/CRM_Scalar/Space_Time_W_Training.npy', W_rescaled_train)\n",
    "np.save('/fast/gmooers/Preprocessed_Data/CRM_Scalar/Space_Time_W_Test.npy', W_rescaled_test)\n",
    "np.save('/fast/gmooers/Preprocessed_Data/CRM_Scalar/Space_Time_W_Max_Scalar.npy', w_train.max())\n",
    "np.save('/fast/gmooers/Preprocessed_Data/CRM_Scalar/Space_Time_W_Min_Scalar.npy', w_train.min())\n",
    "\n",
    "np.save('/fast/gmooers/Preprocessed_Data/CRM_Scalar/Space_Time_Precip_Training.npy', Precip_rescaled_train)\n",
    "np.save('/fast/gmooers/Preprocessed_Data/CRM_Scalar/Space_Time_Precip_Test.npy', Precip_rescaled_test)\n",
    "np.save('/fast/gmooers/Preprocessed_Data/CRM_Scalar/Space_Time_Precip_Max_Scalar.npy', precip_train.max())\n",
    "np.save('/fast/gmooers/Preprocessed_Data/CRM_Scalar/Space_Time_Precip_Min_Scalar.npy', precip_train.min())"
   ]
  }
 ],
 "metadata": {
  "kernelspec": {
   "display_name": "Python 3",
   "language": "python",
   "name": "python3"
  },
  "language_info": {
   "codemirror_mode": {
    "name": "ipython",
    "version": 3
   },
   "file_extension": ".py",
   "mimetype": "text/x-python",
   "name": "python",
   "nbconvert_exporter": "python",
   "pygments_lexer": "ipython3",
   "version": "3.7.3"
  }
 },
 "nbformat": 4,
 "nbformat_minor": 4
}
