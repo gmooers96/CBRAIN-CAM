{
 "cells": [
  {
   "cell_type": "code",
   "execution_count": 75,
   "metadata": {},
   "outputs": [],
   "source": [
    "import numpy as np\n",
    "import math\n",
    "import xarray as xr\n",
    "import dask\n",
    "from sklearn.utils import shuffle\n",
    "#from sklearn.model_selection import train_test_split\n",
    "#import tensorflow as tf\n",
    "#import gc"
   ]
  },
  {
   "cell_type": "code",
   "execution_count": 76,
   "metadata": {},
   "outputs": [],
   "source": [
    "path = '/DFS-L/DATA/pritchard/gmooers/Workflow/MAPS/SPCAM/100_Days/Preprocessing_Scripts/Points/Hundred_X/Hundred_X.nc'\n",
    "real_ds = xr.open_dataset(path)"
   ]
  },
  {
   "cell_type": "code",
   "execution_count": 77,
   "metadata": {},
   "outputs": [],
   "source": [
    "w_velocity = real_ds['CRM_W_LON_0e_to_360e_LAT_20s_to_20n'].values\n",
    "w_velocity = np.squeeze(w_velocity)"
   ]
  },
  {
   "cell_type": "code",
   "execution_count": 78,
   "metadata": {},
   "outputs": [
    {
     "name": "stdout",
     "output_type": "stream",
     "text": [
      "(1067437, 30, 128)\n"
     ]
    }
   ],
   "source": [
    "print(w_velocity.shape)"
   ]
  },
  {
   "cell_type": "code",
   "execution_count": 79,
   "metadata": {},
   "outputs": [],
   "source": [
    "num_samples = len(w_velocity)\n",
    "lev = len(w_velocity[0])\n",
    "crm_x = len(w_velocity[0][0])"
   ]
  },
  {
   "cell_type": "code",
   "execution_count": 80,
   "metadata": {},
   "outputs": [
    {
     "data": {
      "text/plain": [
       "False"
      ]
     },
     "execution_count": 80,
     "metadata": {},
     "output_type": "execute_result"
    }
   ],
   "source": [
    "np.isnan(w_velocity).any()"
   ]
  },
  {
   "cell_type": "code",
   "execution_count": 81,
   "metadata": {},
   "outputs": [],
   "source": [
    "w_Shuffled = shuffle(w_velocity)"
   ]
  },
  {
   "cell_type": "code",
   "execution_count": 82,
   "metadata": {},
   "outputs": [],
   "source": [
    "w_train = w_Shuffled[:int(4*len(w_velocity)/5),:,:]\n",
    "w_test = w_Shuffled[int(4*len(w_velocity)/5):,:,:]"
   ]
  },
  {
   "cell_type": "code",
   "execution_count": 83,
   "metadata": {},
   "outputs": [
    {
     "name": "stdout",
     "output_type": "stream",
     "text": [
      "37.288315\n",
      "-17.406145\n"
     ]
    }
   ],
   "source": [
    "print(w_train.max())\n",
    "print(w_train.min())"
   ]
  },
  {
   "cell_type": "code",
   "execution_count": 84,
   "metadata": {},
   "outputs": [],
   "source": [
    "rescaled_train = np.interp(w_train, (w_train.min(), w_train.max()), (0, +1))\n",
    "rescaled_test = np.interp(w_test, (w_train.min(), w_train.max()), (0, +1))"
   ]
  },
  {
   "cell_type": "code",
   "execution_count": 85,
   "metadata": {},
   "outputs": [],
   "source": [
    "np.save('/fast/gmooers/Preprocessed_Data/W_100_X/Space_Time_W_Training.npy', rescaled_train)\n",
    "np.save('/fast/gmooers/Preprocessed_Data/W_100_X/Space_Time_W_Test.npy', rescaled_test)\n",
    "np.save('/fast/gmooers/Preprocessed_Data/W_100_X/Space_Time_Max_Scalar.npy', w_train.max())\n",
    "np.save('/fast/gmooers/Preprocessed_Data/W_100_X/Space_Time_Min_Scalar.npy', w_train.min())"
   ]
  }
 ],
 "metadata": {
  "kernelspec": {
   "display_name": "Python 3",
   "language": "python",
   "name": "python3"
  },
  "language_info": {
   "codemirror_mode": {
    "name": "ipython",
    "version": 3
   },
   "file_extension": ".py",
   "mimetype": "text/x-python",
   "name": "python",
   "nbconvert_exporter": "python",
   "pygments_lexer": "ipython3",
   "version": "3.7.3"
  }
 },
 "nbformat": 4,
 "nbformat_minor": 2
}
